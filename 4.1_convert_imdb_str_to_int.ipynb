{
 "cells": [
  {
   "attachments": {},
   "cell_type": "markdown",
   "metadata": {},
   "source": [
    "Since all the IMDb scraping includes parsing HTML text data, many of the values must be converted to int or float, e.g. the number of votes are written as '35K' and this should be added to the database as 35000."
   ]
  },
  {
   "cell_type": "code",
   "execution_count": null,
   "metadata": {},
   "outputs": [],
   "source": [
    "def get_value(val):\n",
    "    ''' \n",
    "    Converts input string to an integer.\n",
    "    '''\n",
    "    # 1. Check if the last character of the string is a k or m and if\n",
    "    # not it converts the string to an int\n",
    "    if val[-1].lower() not in ['k', 'K', 'm', 'M']:\n",
    "        return int(val)\n",
    "    multiplier = val[-1].lower()\n",
    "    # 2. If the string ends with K multiply by 1000\n",
    "    if multiplier == \"k\" or multiplier == \"K\":\n",
    "        value = float(val[:-1]) * 1000\n",
    "        return value\n",
    "    # 3. If the string ends with M multiply by 1000000 \n",
    "    elif multiplier == \"m\" or multiplier == \"M\":\n",
    "        value = float(val[:-1]) * 1000000\n",
    "        return value"
   ]
  },
  {
   "cell_type": "code",
   "execution_count": null,
   "metadata": {},
   "outputs": [
    {
     "ename": "",
     "evalue": "",
     "output_type": "error",
     "traceback": [
      "\u001b[1;31mFailed to start the Kernel. \n",
      "\u001b[1;31mKernel Python 3.11.0 is not usable. Check the Jupyter output tab for more information. \n",
      "\u001b[1;31mView Jupyter <a href='command:jupyter.viewOutput'>log</a> for further details."
     ]
    }
   ],
   "source": [
    "# Example 1: Turning 1k into 1000\n",
    "get_value('1k')"
   ]
  },
  {
   "cell_type": "code",
   "execution_count": null,
   "metadata": {},
   "outputs": [],
   "source": [
    "# Example 1: Turning 10 into 10\n",
    "get_value('10')"
   ]
  }
 ],
 "metadata": {
  "kernelspec": {
   "display_name": "Python 3",
   "language": "python",
   "name": "python3"
  },
  "language_info": {
   "name": "python",
   "version": "3.11.0"
  },
  "orig_nbformat": 4,
  "vscode": {
   "interpreter": {
    "hash": "aee8b7b246df8f9039afb4144a1f6fd8d2ca17a180786b69acc140d282b71a49"
   }
  }
 },
 "nbformat": 4,
 "nbformat_minor": 2
}
