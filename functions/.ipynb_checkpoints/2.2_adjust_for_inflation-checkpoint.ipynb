{
 "cells": [
  {
   "cell_type": "code",
   "execution_count": null,
   "id": "9c46ca7d",
   "metadata": {},
   "outputs": [],
   "source": [
    "import pandas as pd\n",
    "import numpy as np"
   ]
  },
  {
   "cell_type": "code",
   "execution_count": null,
   "id": "6c644411",
   "metadata": {},
   "outputs": [],
   "source": [
    "def adjust_for_inflation(df, column_name, year_column, new_column, drop_original=True):\n",
    "    data = {\n",
    "        \"1990\": 5.398,\n",
    "        \"1991\": 4.235,\n",
    "        \"1992\": 3.0288,\n",
    "        \"1993\": 2.9517,\n",
    "        \"1994\": 2.6074,\n",
    "        \"1995\": 2.8054,\n",
    "        \"1996\": 2.9312,\n",
    "        \"1997\": 2.3377,\n",
    "        \"1998\": 1.5523,\n",
    "        \"1999\": 2.188,\n",
    "        \"2000\": 3.3769,\n",
    "        \"2001\": 2.8262,\n",
    "        \"2002\": 1.586,\n",
    "        \"2003\": 2.2701,\n",
    "        \"2004\": 2.6772,\n",
    "        \"2005\": 3.3927,\n",
    "        \"2006\": 3.2259,\n",
    "        \"2007\": 2.8527,\n",
    "        \"2008\": 3.8391,\n",
    "        \"2009\": -0.3555,\n",
    "        \"2010\": 1.64,\n",
    "        \"2011\": 3.1568,\n",
    "        \"2012\": 2.0693,\n",
    "        \"2013\": 1.4648,\n",
    "        \"2014\": 1.6222,\n",
    "        \"2015\": 0.1186,\n",
    "        \"2016\": 1.2616,\n",
    "        \"2017\": 2.1301,\n",
    "        \"2018\": 2.4426,\n",
    "        \"2019\": 1.8122,\n",
    "        \"2020\": 1.2336,\n",
    "        \"2021\": 4.6979\n",
    "    }\n",
    "    \n",
    "    # Create a new column in the DataFrame to store the adjusted values\n",
    "    df[new_column] = 0\n",
    "\n",
    "    # Loop over the rows in the DataFrame\n",
    "    for index, row in df.iterrows():\n",
    "        # Get the year from the row\n",
    "        year = row[year_column]\n",
    "        # Skip the row if the value in the specified column is NaN\n",
    "        if pd.isna(row[column_name]):\n",
    "            continue\n",
    "        # Get the inflation rate for each year from the dictionary\n",
    "        inflation_rates = [data[str(yr)] for yr in range(year, 2022)]\n",
    "        # Calculate the total inflation factor by multiplying the inflation rates together\n",
    "        total_inflation_factor = 1\n",
    "        for rate in inflation_rates:\n",
    "            total_inflation_factor *= 1 + (rate / 100)\n",
    "        # Get the value from the specified column\n",
    "        value = row[column_name]\n",
    "        # Adjust the value for inflation using the total inflation factor\n",
    "        adjusted_value = value * total_inflation_factor\n",
    "        # Round the result to two decimal places and store it in the new column\n",
    "        df.at[index, new_column] = round(adjusted_value, 2)\n",
    "\n",
    "    # Drop the original column if specified\n",
    "    if drop_original:\n",
    "        df = df.drop(columns=[column_name])\n",
    "\n",
    "    # Return the DataFrame with the adjusted values\n",
    "    return df\n"
   ]
  },
  {
   "cell_type": "code",
   "execution_count": null,
   "id": "eda88148",
   "metadata": {},
   "outputs": [],
   "source": [
    "# Example usage\n",
    "# Create a sample DataFrame with a \"year\" column and a \"value\" column\n",
    "data = {\"Year\": [1990, 2000, 2010, 2020], \"value\": [100, 100, 100, 100], \"int\": [100, 100, 100, 100]}\n",
    "df = pd.DataFrame(data)\n",
    "\n",
    "# Call the function to get the inflation-adjusted values for the \"value\" column\n",
    "df = adjust_for_inflation(df, \"value\", \"Year\", \"value2\")\n",
    "\n",
    "# Print the updated DataFrame\n",
    "df.head()"
   ]
  }
 ],
 "metadata": {
  "kernelspec": {
   "display_name": "Python 3 (ipykernel)",
   "language": "python",
   "name": "python3"
  },
  "language_info": {
   "codemirror_mode": {
    "name": "ipython",
    "version": 3
   },
   "file_extension": ".py",
   "mimetype": "text/x-python",
   "name": "python",
   "nbconvert_exporter": "python",
   "pygments_lexer": "ipython3",
   "version": "3.7.15"
  }
 },
 "nbformat": 4,
 "nbformat_minor": 5
}
