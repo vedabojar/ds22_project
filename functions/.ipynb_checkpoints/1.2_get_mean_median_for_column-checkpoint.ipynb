{
 "cells": [
  {
   "cell_type": "code",
   "execution_count": null,
   "id": "8db96478",
   "metadata": {},
   "outputs": [],
   "source": [
    "import pandas as pd"
   ]
  },
  {
   "cell_type": "code",
   "execution_count": null,
   "id": "15b354f1",
   "metadata": {},
   "outputs": [],
   "source": [
    "def get_mean_median_for_column(df, col_name):\n",
    "    '''\n",
    "    This function takes in a pandas dataframe and the name of a column in the dataframe,\n",
    "    and returns the mean and median of the numeric values in the column that are not equal to 0.\n",
    "    Non-numeric values are converted to 0 before calculating the mean and median.\n",
    "    \n",
    "    Parameters:\n",
    "    - df: pandas dataframe\n",
    "    - col_name: str, name of column to be processed\n",
    "    \n",
    "    Returns:\n",
    "    - tuple of two floats: mean and median of numeric values in the column that are not equal to 0\n",
    "    '''\n",
    "    # Convert non-numeric values to 0\n",
    "    df[col_name] = pd.to_numeric(df[col_name], errors='coerce').fillna(0)\n",
    "    \n",
    "    # Get the non-zero numeric values in the column\n",
    "    non_zero_vals = df[col_name][df[col_name] != 0]\n",
    "    \n",
    "    # Calculate the mean and median of the non-zero values\n",
    "    col_mean = non_zero_vals.mean()\n",
    "    col_median = non_zero_vals.median()\n",
    "    \n",
    "    return col_mean, col_median\n"
   ]
  },
  {
   "cell_type": "code",
   "execution_count": null,
   "id": "e63d1eb5",
   "metadata": {},
   "outputs": [],
   "source": [
    "data = {'Name': ['Alice', 'Bob', 'Charlie', 'Dave'],\n",
    "        'Age': [25, 30, 0, 35],\n",
    "        'Salary': [10000, 0, 'unknown', 70000]}\n",
    "\n",
    "df = pd.DataFrame(data)"
   ]
  },
  {
   "cell_type": "code",
   "execution_count": null,
   "id": "200ed2b4",
   "metadata": {},
   "outputs": [],
   "source": [
    "mean, median = get_mean_median_for_column(df, 'Salary')\n",
    "print('Mean salary:', mean)\n",
    "print('Median salary:', median)\n"
   ]
  }
 ],
 "metadata": {
  "kernelspec": {
   "display_name": "Python 3 (ipykernel)",
   "language": "python",
   "name": "python3"
  },
  "language_info": {
   "codemirror_mode": {
    "name": "ipython",
    "version": 3
   },
   "file_extension": ".py",
   "mimetype": "text/x-python",
   "name": "python",
   "nbconvert_exporter": "python",
   "pygments_lexer": "ipython3",
   "version": "3.7.15"
  }
 },
 "nbformat": 4,
 "nbformat_minor": 5
}
