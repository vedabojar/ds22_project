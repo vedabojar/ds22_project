{
 "cells": [
  {
   "cell_type": "code",
   "execution_count": null,
   "id": "32715857",
   "metadata": {},
   "outputs": [],
   "source": [
    "import pandas as pd"
   ]
  },
  {
   "cell_type": "code",
   "execution_count": null,
   "id": "5e8f4381",
   "metadata": {},
   "outputs": [],
   "source": [
    "dataset_raw = pd.read_csv('C:/Users/admin1/Documents/GitHub/ds22_project/data/movies.csv')\n",
    "dataset_raw.head(2)"
   ]
  },
  {
   "cell_type": "code",
   "execution_count": null,
   "id": "594a2f23",
   "metadata": {},
   "outputs": [],
   "source": [
    "def one_hot_encoding_dummy(dataset, column, separator=\",\", y_column= \"Title\"):\n",
    "    \"\"\"\n",
    "    Performs one-hot encoding on the specified column of the given dataset.\n",
    "    dataset: The dataset to be processed.\n",
    "    column: The name of the column to be one-hot encoded.\n",
    "    separator: The separator used in the values of the specified column. Defaults to \",\".\n",
    "    returns: the new dataset with the specified column one-hot encoded.\n",
    "    \"\"\"\n",
    "\n",
    "    # 1. Creating a list with all the values mentioned in the dataset\n",
    "    value_list = []\n",
    "    for values in dataset[column]:\n",
    "        value_list.append(values.split(separator))\n",
    "\n",
    "    # 2. Creating a list with value categories\n",
    "    unique_v= set()\n",
    "    for values in value_list:\n",
    "        for value in values:\n",
    "            unique_v.add(value)\n",
    "\n",
    "    unique_values = list(unique_v)\n",
    "    amount = len(unique_values)\n",
    "\n",
    "    # 3. Creating a subtable with y_column as the first column followed by one \n",
    "    # column per value\n",
    "    value_subtable = pd.DataFrame(columns=[y_column] + unique_values)\n",
    "\n",
    "    # 4. For each row, assign 1 to those values it has been assigned \n",
    "    for i, row in dataset.iterrows():\n",
    "        new_row = {y_column: row[y_column]}\n",
    "        for value in unique_values:\n",
    "            new_row[value] = 0\n",
    "        for value in row[column].split(separator):\n",
    "            new_row[value] = 1\n",
    "        value_subtable = value_subtable.append(new_row, ignore_index=True)\n",
    "\n",
    "    # 5. Merging the subtable with the main dataset\n",
    "    pivot_table = value_subtable.melt(id_vars=y_column, var_name=column)\n",
    "    pivot_table = pivot_table[pivot_table['value'] == 1]\n",
    "    pivot_table = pivot_table.drop(columns=['value'])\n",
    "    pivot_table = pivot_table.pivot_table(index=y_column, columns=column, aggfunc='size', fill_value=0).reset_index()\n",
    "\n",
    "    # 7. Merge the pivot table with the original DataFrame\n",
    "    dataset_processed = pd.merge(dataset, pivot_table, on=y_column, how='left')\n",
    "    dataset_processed.drop(columns=[column], inplace=True)\n",
    "\n",
    "    # 8. Returning the new dataset\n",
    "    return dataset_processed\n",
    "\n",
    "\n",
    "dataset_processed = one_hot_encoding_dummy(dataset_raw, \"Genre\")\n"
   ]
  },
  {
   "cell_type": "code",
   "execution_count": null,
   "id": "f9af3bc8",
   "metadata": {},
   "outputs": [],
   "source": [
    "dataset_processed.head()"
   ]
  },
  {
   "cell_type": "code",
   "execution_count": null,
   "id": "f99e6c0b",
   "metadata": {},
   "outputs": [],
   "source": [
    "dataset_processed.to_csv('C:/Users/admin1/Documents/GitHub/ds22_project/output_data/dataset_processed.csv', index=False)"
   ]
  },
  {
   "cell_type": "code",
   "execution_count": null,
   "id": "dc3b065f",
   "metadata": {},
   "outputs": [],
   "source": [
    "#dataset_processed2 = one_hot_encoding_dummy(dataset_processed, \"Country_of_origin\")"
   ]
  },
  {
   "cell_type": "code",
   "execution_count": null,
   "id": "28108d99",
   "metadata": {},
   "outputs": [],
   "source": [
    "#dataset_processed2.head()"
   ]
  }
 ],
 "metadata": {
  "kernelspec": {
   "display_name": "Python 3 (ipykernel)",
   "language": "python",
   "name": "python3"
  },
  "language_info": {
   "codemirror_mode": {
    "name": "ipython",
    "version": 3
   },
   "file_extension": ".py",
   "mimetype": "text/x-python",
   "name": "python",
   "nbconvert_exporter": "python",
   "pygments_lexer": "ipython3",
   "version": "3.7.15"
  }
 },
 "nbformat": 4,
 "nbformat_minor": 5
}
