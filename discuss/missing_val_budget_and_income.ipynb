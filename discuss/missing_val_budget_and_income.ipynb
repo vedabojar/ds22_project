{
 "cells": [
  {
   "cell_type": "markdown",
   "id": "348ae723",
   "metadata": {},
   "source": [
    "### Importing Libraries"
   ]
  },
  {
   "cell_type": "code",
   "execution_count": null,
   "id": "1cdefb36",
   "metadata": {},
   "outputs": [],
   "source": [
    "import pandas as pd\n",
    "import numpy as np\n",
    "#CHANGE YOUR PATH FOR THE DATASET\n",
    "df = pd.read_csv('C:/Users/admin1/Documents/GitHub/ds22_project/data/movies.csv')"
   ]
  },
  {
   "cell_type": "markdown",
   "id": "c2802e21",
   "metadata": {},
   "source": [
    "### Functions"
   ]
  },
  {
   "cell_type": "code",
   "execution_count": null,
   "id": "ca51c29b",
   "metadata": {},
   "outputs": [],
   "source": [
    "def convert_to_usd(amount):\n",
    "    amount.replace(' ', '')\n",
    "    amount.replace('\\xa0', '')\n",
    "    if amount.startswith('$'):\n",
    "        amount = amount.strip('$').replace(',', '')   # must remove commas\n",
    "        return float(amount)   # convert str into float\n",
    "    elif amount.startswith('€'):\n",
    "        # Exchange rate for EUR to USD\n",
    "        amount = amount.strip('€').replace(',', '')\n",
    "        return float(amount) * 1.06 \n",
    "    elif amount.startswith('¥'):\n",
    "        # Exchange rate for YEN to USD\n",
    "        amount = amount.strip('¥').replace(',', '')\n",
    "        return float(amount) * 0.0075\n",
    "    elif amount.startswith('₹'):\n",
    "        # Exchange rate for RPL to USD\n",
    "        amount = amount.strip('₹').replace(',', '')\n",
    "        return float(amount) * 0.012 \n",
    "    elif amount.startswith('SEK'):\n",
    "        # Exchange rate for SEK to USD\n",
    "        amount = amount.strip('SEK').replace(',', '')\n",
    "        return float(amount) * 0.094\n",
    "    elif amount.startswith('DKK'):\n",
    "        # Exchange rate for RPL to USD\n",
    "        amount = amount.strip('DKK').replace(',', '')\n",
    "        return float(amount) * 0.14\n",
    "    elif amount.startswith('£'):\n",
    "        # Exchange rate for RPL to USD\n",
    "        amount = amount.strip('£').replace(',', '')\n",
    "        return float(amount) * 1.21  \n",
    "    else:\n",
    "        return None"
   ]
  },
  {
   "cell_type": "code",
   "execution_count": null,
   "id": "1809786d",
   "metadata": {},
   "outputs": [],
   "source": [
    "df.head(4)"
   ]
  },
  {
   "cell_type": "code",
   "execution_count": null,
   "id": "06a48e09",
   "metadata": {},
   "outputs": [],
   "source": [
    "#1.1 convert to USD and strip of non numeric characters\n",
    "df['Budget'] = df['Budget'].apply(convert_to_usd)"
   ]
  },
  {
   "cell_type": "code",
   "execution_count": null,
   "id": "7c02a26a",
   "metadata": {},
   "outputs": [],
   "source": [
    "#1.1 convert to USD and strip of non numeric characters\n",
    "df['Income'] = df['Income'].apply(convert_to_usd)"
   ]
  },
  {
   "cell_type": "code",
   "execution_count": null,
   "id": "8324ceff",
   "metadata": {},
   "outputs": [],
   "source": [
    "df.info()"
   ]
  },
  {
   "cell_type": "code",
   "execution_count": null,
   "id": "84e29fa9",
   "metadata": {},
   "outputs": [],
   "source": [
    "#checking the change\n",
    "df.head(4)"
   ]
  },
  {
   "cell_type": "markdown",
   "id": "3bb1fae6",
   "metadata": {},
   "source": [
    "All non-numeric values in both budget & income has been coverted to NaN"
   ]
  },
  {
   "cell_type": "code",
   "execution_count": null,
   "id": "6821f3e3",
   "metadata": {},
   "outputs": [],
   "source": [
    "# count non-numeric values in each column\n",
    "non_numeric_col1 = pd.to_numeric(df['Budget'], errors='coerce').isna()\n",
    "non_numeric_col2 = pd.to_numeric(df['Income'], errors='coerce').isna()\n",
    "\n",
    "# create a variable for rows where Budget AND Income is non numeric\n",
    "non_numeric_both = non_numeric_col1 & non_numeric_col2\n",
    "\n",
    "\n",
    "\n",
    "print(f\"Missing value Budget: {sum(non_numeric_col1)}\")\n",
    "print(f\"Missing value Income: {sum(non_numeric_col2)}\")\n",
    "print(f\"Missing value Budget+Income: {sum(non_numeric_both)}\")\n"
   ]
  },
  {
   "cell_type": "code",
   "execution_count": null,
   "id": "dde03983",
   "metadata": {},
   "outputs": [],
   "source": [
    "# drop rows where both columns contain non-numeric values from the original DataFrame\n",
    "#df = df[~non_numeric_both]"
   ]
  }
 ],
 "metadata": {
  "kernelspec": {
   "display_name": "Python 3 (ipykernel)",
   "language": "python",
   "name": "python3"
  },
  "language_info": {
   "codemirror_mode": {
    "name": "ipython",
    "version": 3
   },
   "file_extension": ".py",
   "mimetype": "text/x-python",
   "name": "python",
   "nbconvert_exporter": "python",
   "pygments_lexer": "ipython3",
   "version": "3.7.15"
  }
 },
 "nbformat": 4,
 "nbformat_minor": 5
}
