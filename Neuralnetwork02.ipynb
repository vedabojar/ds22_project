{
  "nbformat": 4,
  "nbformat_minor": 0,
  "metadata": {
    "colab": {
      "provenance": [],
      "authorship_tag": "ABX9TyOQnDtNfOxI4ykaBI1eAm49",
      "include_colab_link": true
    },
    "kernelspec": {
      "name": "python3",
      "display_name": "Python 3"
    },
    "language_info": {
      "name": "python"
    }
  },
  "cells": [
    {
      "cell_type": "markdown",
      "metadata": {
        "id": "view-in-github",
        "colab_type": "text"
      },
      "source": [
        "<a href=\"https://colab.research.google.com/github/zlatte1/ds22_project/blob/main/Neuralnetwork02.ipynb\" target=\"_parent\"><img src=\"https://colab.research.google.com/assets/colab-badge.svg\" alt=\"Open In Colab\"/></a>"
      ]
    },
    {
      "cell_type": "code",
      "execution_count": 19,
      "metadata": {
        "id": "Mr4v-UVEwbeF"
      },
      "outputs": [],
      "source": [
        "import tensorflow as tf"
      ]
    },
    {
      "cell_type": "code",
      "source": [
        "!pip install scikeras"
      ],
      "metadata": {
        "colab": {
          "base_uri": "https://localhost:8080/"
        },
        "id": "BhQC0SpnwmYw",
        "outputId": "002ef8ef-da77-46f7-de25-624eca6b44a5"
      },
      "execution_count": 20,
      "outputs": [
        {
          "output_type": "stream",
          "name": "stdout",
          "text": [
            "Looking in indexes: https://pypi.org/simple, https://us-python.pkg.dev/colab-wheels/public/simple/\n",
            "Requirement already satisfied: scikeras in /usr/local/lib/python3.9/dist-packages (0.10.0)\n",
            "Requirement already satisfied: scikit-learn>=1.0.0 in /usr/local/lib/python3.9/dist-packages (from scikeras) (1.2.2)\n",
            "Requirement already satisfied: packaging>=0.21 in /usr/local/lib/python3.9/dist-packages (from scikeras) (23.0)\n",
            "Requirement already satisfied: numpy>=1.17.3 in /usr/local/lib/python3.9/dist-packages (from scikit-learn>=1.0.0->scikeras) (1.22.4)\n",
            "Requirement already satisfied: scipy>=1.3.2 in /usr/local/lib/python3.9/dist-packages (from scikit-learn>=1.0.0->scikeras) (1.10.1)\n",
            "Requirement already satisfied: threadpoolctl>=2.0.0 in /usr/local/lib/python3.9/dist-packages (from scikit-learn>=1.0.0->scikeras) (3.1.0)\n",
            "Requirement already satisfied: joblib>=1.1.1 in /usr/local/lib/python3.9/dist-packages (from scikit-learn>=1.0.0->scikeras) (1.2.0)\n"
          ]
        }
      ]
    },
    {
      "cell_type": "code",
      "source": [
        "import pandas as pd\n",
        "import numpy as np\n",
        "import seaborn as sns\n",
        "import matplotlib.pyplot as plt \n",
        "from tensorflow import keras\n",
        "from tensorflow.keras import layers\n",
        "from tensorflow.keras.models import Sequential\n",
        "from tensorflow.keras.layers import Reshape, Dense\n",
        "from scikeras.wrappers import KerasRegressor\n",
        "\n",
        "from sklearn.pipeline import Pipeline\n",
        "from sklearn.preprocessing import RobustScaler\n",
        "from sklearn.preprocessing import StandardScaler\n",
        "from sklearn.model_selection import train_test_split\n",
        "\n",
        "\n",
        "from sklearn.model_selection import cross_val_score\n",
        "from sklearn.model_selection import KFold\n",
        "from sklearn.pipeline import Pipeline\n",
        "\n",
        "from sklearn.metrics import mean_squared_error\n",
        "from sklearn.metrics import mean_absolute_error\n",
        "from sklearn.metrics import accuracy_score\n",
        "from sklearn.metrics import r2_score"
      ],
      "metadata": {
        "id": "yZIVkCe9wcGW"
      },
      "execution_count": 21,
      "outputs": []
    },
    {
      "cell_type": "code",
      "source": [
        "# Load the dataset\n",
        "df=pd.read_csv('https://raw.githubusercontent.com/zlatte1/ds22_project/main/data/mvoies_processed_noTitle.csv')"
      ],
      "metadata": {
        "id": "f1YkIypFw6q7"
      },
      "execution_count": 22,
      "outputs": []
    },
    {
      "cell_type": "code",
      "source": [
        "# Select the column to predict\n",
        "target_col = 'Rating'\n",
        "X = df.drop(target_col, axis=1).values\n",
        "y = df[target_col].values.reshape(-1, 1)"
      ],
      "metadata": {
        "id": "_whExcF2wy4B"
      },
      "execution_count": 23,
      "outputs": []
    },
    {
      "cell_type": "code",
      "source": [
        "# Split the dataset into train and test sets and validation sets\n",
        "X_train, X_test, y_train, y_test = train_test_split(X, y, test_size=0.2, random_state=42)\n",
        "X_train, X_val, y_train, y_val = train_test_split(X_train, y_train, test_size=0.2, random_state=42)                                              \n"
      ],
      "metadata": {
        "id": "U948cb2LwcJT"
      },
      "execution_count": 8,
      "outputs": []
    },
    {
      "cell_type": "code",
      "source": [
        "# Scale and transform the data using StandardScaler\n",
        "scaler = StandardScaler()\n",
        "X_train_scaled = scaler.fit_transform(X_train)\n",
        "X_test_scaled = scaler.transform(X_test)\n",
        "X_val_scaled =scaler.transform(X_val)\n"
      ],
      "metadata": {
        "id": "7ZPMTMMPwcMc"
      },
      "execution_count": 9,
      "outputs": []
    },
    {
      "cell_type": "code",
      "source": [
        "# Define the Keras model\n",
        "model = keras.Sequential([\n",
        "keras.layers.Dense(64, activation='relu', input_shape=[X_train.shape[1]]),\n",
        "keras.layers.Dense(32, activation='relu'),\n",
        "keras.layers.Dense(1, activation='linear')])  \n",
        "\n",
        "# we chose 'linear' because its regression problem (for binary classification problem it could be 'sigmoid') func.)\n",
        "\n",
        "model.compile(optimizer='adam', loss='mean_squared_error', metrics=['mse'])\n",
        "  \n"
      ],
      "metadata": {
        "id": "7G2n7YziwcPW"
      },
      "execution_count": 10,
      "outputs": []
    },
    {
      "cell_type": "code",
      "source": [
        "# Fit the model to the training data\n",
        "history = model.fit(X_train_scaled, y_train, batch_size=32, epochs=10, validation_split=0.2)"
      ],
      "metadata": {
        "colab": {
          "base_uri": "https://localhost:8080/"
        },
        "id": "jeGYrhXawcV4",
        "outputId": "713ffb62-a87c-4a66-a270-40667e0ddb61"
      },
      "execution_count": 11,
      "outputs": [
        {
          "output_type": "stream",
          "name": "stdout",
          "text": [
            "Epoch 1/10\n",
            "29/29 [==============================] - 1s 6ms/step - loss: 33.4800 - mse: 33.4800 - val_loss: 16.7449 - val_mse: 16.7449\n",
            "Epoch 2/10\n",
            "29/29 [==============================] - 0s 2ms/step - loss: 9.2386 - mse: 9.2386 - val_loss: 3.6026 - val_mse: 3.6026\n",
            "Epoch 3/10\n",
            "29/29 [==============================] - 0s 2ms/step - loss: 3.2840 - mse: 3.2840 - val_loss: 2.1057 - val_mse: 2.1057\n",
            "Epoch 4/10\n",
            "29/29 [==============================] - 0s 3ms/step - loss: 2.0087 - mse: 2.0087 - val_loss: 1.4812 - val_mse: 1.4812\n",
            "Epoch 5/10\n",
            "29/29 [==============================] - 0s 2ms/step - loss: 1.4074 - mse: 1.4074 - val_loss: 1.2469 - val_mse: 1.2469\n",
            "Epoch 6/10\n",
            "29/29 [==============================] - 0s 2ms/step - loss: 1.1278 - mse: 1.1278 - val_loss: 1.1242 - val_mse: 1.1242\n",
            "Epoch 7/10\n",
            "29/29 [==============================] - 0s 2ms/step - loss: 0.9601 - mse: 0.9601 - val_loss: 1.0389 - val_mse: 1.0389\n",
            "Epoch 8/10\n",
            "29/29 [==============================] - 0s 3ms/step - loss: 0.8513 - mse: 0.8513 - val_loss: 1.0079 - val_mse: 1.0079\n",
            "Epoch 9/10\n",
            "29/29 [==============================] - 0s 2ms/step - loss: 0.7772 - mse: 0.7772 - val_loss: 0.9850 - val_mse: 0.9850\n",
            "Epoch 10/10\n",
            "29/29 [==============================] - 0s 2ms/step - loss: 0.7128 - mse: 0.7128 - val_loss: 0.9460 - val_mse: 0.9460\n"
          ]
        }
      ]
    },
    {
      "cell_type": "code",
      "source": [
        "# Evaluate your model on the test set\n",
        "y_pred = model.predict(X_test_scaled)\n",
        "mse = mean_squared_error(y_test, y_pred)\n",
        "rmse =np.sqrt(mse)\n",
        "r2 = r2_score(y_test, y_pred)\n",
        "\n",
        "print('Test MSE:', mse)\n",
        "print('Test RMSE:', rmse)\n",
        "print('Test R2:', r2)\n"
      ],
      "metadata": {
        "id": "kHydM9rBwcdn",
        "outputId": "a9ad5f02-13c3-44d9-94b5-fe78da431aac",
        "colab": {
          "base_uri": "https://localhost:8080/"
        }
      },
      "execution_count": 13,
      "outputs": [
        {
          "output_type": "stream",
          "name": "stdout",
          "text": [
            "12/12 [==============================] - 0s 2ms/step\n",
            "Test MSE: 2.6746461771832237\n",
            "Test RMSE: 1.6354345530112857\n",
            "Test R2: -2.191012391297763\n"
          ]
        }
      ]
    },
    {
      "cell_type": "code",
      "source": [
        "# Evaluate the model on validation set\n",
        "y_predv = model.predict(X_val_scaled)\n",
        "mse_val = mean_squared_error(y_val, y_predv)\n",
        "rmse_val =np.sqrt(mse_val)\n",
        "r2 = r2_score(y_val, y_predv)\n",
        "\n",
        "print('Validation MSE:', mse_val)\n",
        "print('Validation RMSE:', rmse_val)\n",
        "print('Validation R2:', r2)"
      ],
      "metadata": {
        "id": "XF0_eYGwwckE",
        "outputId": "57a64918-1479-41ae-9b75-8ea0aa1b3546",
        "colab": {
          "base_uri": "https://localhost:8080/"
        }
      },
      "execution_count": 16,
      "outputs": [
        {
          "output_type": "stream",
          "name": "stdout",
          "text": [
            "10/10 [==============================] - 0s 1ms/step\n",
            "Validation MSE: 0.9723931377164768\n",
            "Validation RMSE: 0.9860999633487859\n",
            "Validation R2: -0.3052692287807559\n"
          ]
        }
      ]
    },
    {
      "cell_type": "code",
      "source": [
        "\n",
        "fig = plt.figure(figsize=(6, 5))\n",
        "# Plot predicted vs. actual values\n",
        "plt.scatter(y_val, y_predv, color='lightseagreen')\n",
        "plt.xlabel('Actual values')\n",
        "plt.ylabel('Predicted values')\n",
        "plt.show()\n",
        "\n"
      ],
      "metadata": {
        "id": "YUF2EfXBwyme",
        "outputId": "ba9fa1da-1588-4fb3-cc42-3912f695422f",
        "colab": {
          "base_uri": "https://localhost:8080/",
          "height": 465
        }
      },
      "execution_count": 37,
      "outputs": [
        {
          "output_type": "display_data",
          "data": {
            "text/plain": [
              "<Figure size 600x500 with 1 Axes>"
            ],
            "image/png": "[encoded data removed]"
          },
          "metadata": {}
        }
      ]
    },
    {
      "cell_type": "code",
      "source": [
        "# lightseagreen"
      ],
      "metadata": {
        "id": "Ntj55CEt2jwU"
      },
      "execution_count": null,
      "outputs": []
    }
  ]
}