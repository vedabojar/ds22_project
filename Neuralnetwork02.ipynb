{
  "nbformat": 4,
  "nbformat_minor": 0,
  "metadata": {
    "colab": {
      "provenance": [],
      "authorship_tag": "ABX9TyOXfoPcv74HQlD8ieeLa06k",
      "include_colab_link": true
    },
    "kernelspec": {
      "name": "python3",
      "display_name": "Python 3"
    },
    "language_info": {
      "name": "python"
    }
  },
  "cells": [
    {
      "cell_type": "markdown",
      "metadata": {
        "id": "view-in-github",
        "colab_type": "text"
      },
      "source": [
        "<a href=\"https://colab.research.google.com/github/zlatte1/ds22_project/blob/main/Neuralnetwork02.ipynb\" target=\"_parent\"><img src=\"https://colab.research.google.com/assets/colab-badge.svg\" alt=\"Open In Colab\"/></a>"
      ]
    },
    {
      "cell_type": "code",
      "execution_count": 1,
      "metadata": {
        "id": "Mr4v-UVEwbeF"
      },
      "outputs": [],
      "source": [
        "import tensorflow as tf"
      ]
    },
    {
      "cell_type": "code",
      "source": [
        "!pip install scikeras"
      ],
      "metadata": {
        "colab": {
          "base_uri": "https://localhost:8080/"
        },
        "id": "BhQC0SpnwmYw",
        "outputId": "821495ab-e80f-4074-8515-48364be77c63"
      },
      "execution_count": 2,
      "outputs": [
        {
          "output_type": "stream",
          "name": "stdout",
          "text": [
            "Looking in indexes: https://pypi.org/simple, https://us-python.pkg.dev/colab-wheels/public/simple/\n",
            "Collecting scikeras\n",
            "  Downloading scikeras-0.10.0-py3-none-any.whl (27 kB)\n",
            "Requirement already satisfied: packaging>=0.21 in /usr/local/lib/python3.9/dist-packages (from scikeras) (23.0)\n",
            "Requirement already satisfied: scikit-learn>=1.0.0 in /usr/local/lib/python3.9/dist-packages (from scikeras) (1.2.2)\n",
            "Requirement already satisfied: scipy>=1.3.2 in /usr/local/lib/python3.9/dist-packages (from scikit-learn>=1.0.0->scikeras) (1.10.1)\n",
            "Requirement already satisfied: threadpoolctl>=2.0.0 in /usr/local/lib/python3.9/dist-packages (from scikit-learn>=1.0.0->scikeras) (3.1.0)\n",
            "Requirement already satisfied: numpy>=1.17.3 in /usr/local/lib/python3.9/dist-packages (from scikit-learn>=1.0.0->scikeras) (1.22.4)\n",
            "Requirement already satisfied: joblib>=1.1.1 in /usr/local/lib/python3.9/dist-packages (from scikit-learn>=1.0.0->scikeras) (1.1.1)\n",
            "Installing collected packages: scikeras\n",
            "Successfully installed scikeras-0.10.0\n"
          ]
        }
      ]
    },
    {
      "cell_type": "code",
      "source": [
        "import pandas as pd\n",
        "import numpy as np\n",
        "import seaborn as sns\n",
        "from tensorflow import keras\n",
        "from tensorflow.keras import layers\n",
        "from tensorflow.keras.models import Sequential\n",
        "from tensorflow.keras.layers import Reshape, Dense\n",
        "from scikeras.wrappers import KerasRegressor\n",
        "\n",
        "from sklearn.pipeline import Pipeline\n",
        "from sklearn.preprocessing import RobustScaler\n",
        "from sklearn.preprocessing import StandardScaler\n",
        "from sklearn.model_selection import train_test_split\n",
        "\n",
        "\n",
        "from sklearn.model_selection import cross_val_score\n",
        "from sklearn.model_selection import KFold\n",
        "from sklearn.pipeline import Pipeline"
      ],
      "metadata": {
        "id": "yZIVkCe9wcGW"
      },
      "execution_count": 3,
      "outputs": []
    },
    {
      "cell_type": "code",
      "source": [
        "# Load the dataset\n",
        "df=pd.read_csv('https://raw.githubusercontent.com/zlatte1/ds22_project/main/data/mvoies_processed_noTitle.csv')"
      ],
      "metadata": {
        "id": "f1YkIypFw6q7"
      },
      "execution_count": 4,
      "outputs": []
    },
    {
      "cell_type": "code",
      "source": [
        "# Select the column to predict\n",
        "target_col = 'Rating'\n",
        "X = df.drop(target_col, axis=1).values\n",
        "y = df[target_col].values.reshape(-1, 1)"
      ],
      "metadata": {
        "id": "_whExcF2wy4B"
      },
      "execution_count": 6,
      "outputs": []
    },
    {
      "cell_type": "code",
      "source": [
        "# Split the dataset into training and test sets\n",
        "X_train, X_test, y_train, y_test = train_test_split(X, y, test_size=0.2, random_state=42)"
      ],
      "metadata": {
        "id": "U948cb2LwcJT"
      },
      "execution_count": 8,
      "outputs": []
    },
    {
      "cell_type": "code",
      "source": [
        "# Scale and transform the data using StandardScaler\n",
        "scaler = StandardScaler()\n",
        "X_train_scaled = scaler.fit_transform(X_train)\n",
        "X_test_scaled = scaler.transform(X_test)"
      ],
      "metadata": {
        "id": "7ZPMTMMPwcMc"
      },
      "execution_count": 9,
      "outputs": []
    },
    {
      "cell_type": "code",
      "source": [
        "# Define the Keras model\n",
        "model = keras.Sequential([\n",
        "keras.layers.Dense(64, activation='relu', input_shape=[X_train.shape[1]]),\n",
        "keras.layers.Dense(32, activation='relu'),\n",
        "keras.layers.Dense(1, activation='linear')])\n",
        "\n",
        "model.compile(optimizer='adam', loss='mean_squared_error', metrics=['mse'])\n",
        "  \n"
      ],
      "metadata": {
        "id": "7G2n7YziwcPW"
      },
      "execution_count": 27,
      "outputs": []
    },
    {
      "cell_type": "code",
      "source": [
        "# Fit the model to the training data\n",
        "history = model.fit(X_train_scaled, y_train, batch_size=32, epochs=10, validation_split=0.2)"
      ],
      "metadata": {
        "colab": {
          "base_uri": "https://localhost:8080/"
        },
        "id": "jeGYrhXawcV4",
        "outputId": "2889081e-a2dc-4726-fa6f-7411d52a380c"
      },
      "execution_count": 28,
      "outputs": [
        {
          "output_type": "stream",
          "name": "stdout",
          "text": [
            "Epoch 1/10\n",
            "37/37 [==============================] - 2s 16ms/step - loss: 25.0731 - mse: 25.0731 - val_loss: 9.8662 - val_mse: 9.8662\n",
            "Epoch 2/10\n",
            "37/37 [==============================] - 0s 8ms/step - loss: 5.8329 - mse: 5.8329 - val_loss: 3.5779 - val_mse: 3.5779\n",
            "Epoch 3/10\n",
            "37/37 [==============================] - 0s 6ms/step - loss: 2.5437 - mse: 2.5437 - val_loss: 1.9956 - val_mse: 1.9956\n",
            "Epoch 4/10\n",
            "37/37 [==============================] - 0s 7ms/step - loss: 1.5888 - mse: 1.5888 - val_loss: 1.5108 - val_mse: 1.5108\n",
            "Epoch 5/10\n",
            "37/37 [==============================] - 0s 6ms/step - loss: 1.1911 - mse: 1.1911 - val_loss: 1.2937 - val_mse: 1.2937\n",
            "Epoch 6/10\n",
            "37/37 [==============================] - 0s 6ms/step - loss: 0.9743 - mse: 0.9743 - val_loss: 1.1467 - val_mse: 1.1467\n",
            "Epoch 7/10\n",
            "37/37 [==============================] - 0s 6ms/step - loss: 0.8576 - mse: 0.8576 - val_loss: 1.0764 - val_mse: 1.0764\n",
            "Epoch 8/10\n",
            "37/37 [==============================] - 0s 8ms/step - loss: 0.7604 - mse: 0.7604 - val_loss: 0.9980 - val_mse: 0.9980\n",
            "Epoch 9/10\n",
            "37/37 [==============================] - 0s 6ms/step - loss: 0.7003 - mse: 0.7003 - val_loss: 0.9598 - val_mse: 0.9598\n",
            "Epoch 10/10\n",
            "37/37 [==============================] - 0s 6ms/step - loss: 0.6505 - mse: 0.6505 - val_loss: 0.9310 - val_mse: 0.9310\n"
          ]
        }
      ]
    },
    {
      "cell_type": "code",
      "source": [],
      "metadata": {
        "id": "kHydM9rBwcdn"
      },
      "execution_count": null,
      "outputs": []
    },
    {
      "cell_type": "code",
      "source": [],
      "metadata": {
        "id": "XF0_eYGwwckE"
      },
      "execution_count": null,
      "outputs": []
    }
  ]
}