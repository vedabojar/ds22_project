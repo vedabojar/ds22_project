{
 "cells": [
  {
   "attachments": {},
   "cell_type": "markdown",
   "metadata": {},
   "source": [
    "Adding numerical data to the dataset:\n",
    "* Metascore (rating giving only by movie critics)\n",
    "* Number of votes for the rating"
   ]
  },
  {
   "cell_type": "code",
   "execution_count": null,
   "metadata": {},
   "outputs": [],
   "source": [
    "import pandas as pd\n",
    "import numpy as np\n",
    "import matplotlib.pyplot as plt\n",
    "import re\n",
    "import imdb\n",
    "from urllib.request import Request, urlopen\n",
    "from bs4 import BeautifulSoup"
   ]
  },
  {
   "cell_type": "code",
   "execution_count": null,
   "metadata": {},
   "outputs": [],
   "source": [
    "# Dataset with test dataset shortened to the first 20 movies\n",
    "dataset = pd.read_csv('new_dataset.csv')\n",
    "test_df = dataset.iloc[:20, :]"
   ]
  },
  {
   "cell_type": "code",
   "execution_count": null,
   "metadata": {},
   "outputs": [],
   "source": [
    "def searching_IMDb_movie(title_column, dataset):\n",
    "    \"\"\"\n",
    "    Updating the dataset by adding two new columns for each movie \n",
    "    including metascore and number of ratings. \n",
    "    \n",
    "    Parameters:\n",
    "    name_column : the column containing the person's name\n",
    "    dataset : dataset\n",
    "    person_type : must specify for IMDb if person is 'actor'/'director'\n",
    "    \"\"\"\n",
    "    # 1. Instantiating imdb \n",
    "    ia = imdb.IMDb()\n",
    "\n",
    "    # 2. For each row of the df, extract the nam for the specific column\n",
    "    for index, row in dataset.iterrows():\n",
    "        try:\n",
    "            # Get the movie title\n",
    "            movie_title = row[title_column]\n",
    "            \n",
    "            # Search for a movie on IMDb by title\n",
    "            movie = ia.search_movie(movie_title)\n",
    "            movie_id = movie[0].getID()            \n",
    "\n",
    "            # Make a request to the URL and get the HTML content\n",
    "\n",
    "            # Request for movie (different webpage)\n",
    "            movie_req = Request(\n",
    "                url = f'https://www.imdb.com/title/tt{movie_id}/', \n",
    "                headers={'User-Agent': 'Mozilla/5.0'}\n",
    "            )\n",
    "            movie_html = urlopen(movie_req).read()\n",
    "            movie_soup = BeautifulSoup(movie_html, 'html.parser')\n",
    "\n",
    "            # Request for metascore (different webpage)\n",
    "            meta_req = Request(\n",
    "                url = f'https://www.imdb.com/title/tt{movie_id}/criticreviews/?ref_=tt_ov_rt', \n",
    "                headers={'User-Agent': 'Mozilla/5.0'}\n",
    "            )\n",
    "            meta_html = urlopen(meta_req).read()\n",
    "            meta_soup = BeautifulSoup(meta_html, 'html.parser')\n",
    "            \n",
    "            # If metascore exists try to extract info\n",
    "            try:\n",
    "                metascore_line = meta_soup.find('div', {'class': 'sc-79ae5a4-0 kUTYKi'}).text.split()\n",
    "                metascore = get_value(metascore_line[0].split('M')[0])\n",
    "            except AttributeError:\n",
    "                metascore = None\n",
    "\n",
    "            # If number of votes exists try to extract info\n",
    "            try:\n",
    "                num_votes_line = movie_soup.find('div', {'class': 'sc-e457ee34-3 frEfSL'}).text.split()\n",
    "                num_votes = get_value(num_votes_line[0])\n",
    "            except AttributeError:\n",
    "                num_votes = None\n",
    "\n",
    "        except imdb._exceptions.IMDbError:\n",
    "            metascore = None\n",
    "            num_votes = None\n",
    "\n",
    "        # Make a new column and append the new data\n",
    "        dataset.loc[index, f'{title_column}_metascore'] = metascore\n",
    "        dataset.loc[index, f'{title_column}_num_votes'] = num_votes\n",
    "    \n",
    "        print(index)"
   ]
  },
  {
   "cell_type": "code",
   "execution_count": null,
   "metadata": {},
   "outputs": [],
   "source": [
    "searching_IMDb_movie('Title', test_df)\n"
   ]
  }
 ],
 "metadata": {
  "kernelspec": {
   "display_name": "Python 3",
   "language": "python",
   "name": "python3"
  },
  "language_info": {
   "name": "python",
   "version": "3.11.0"
  },
  "orig_nbformat": 4,
  "vscode": {
   "interpreter": {
    "hash": "aee8b7b246df8f9039afb4144a1f6fd8d2ca17a180786b69acc140d282b71a49"
   }
  }
 },
 "nbformat": 4,
 "nbformat_minor": 2
}
