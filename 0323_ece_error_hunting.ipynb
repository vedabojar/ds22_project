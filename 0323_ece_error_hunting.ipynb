{
 "cells": [
  {
   "cell_type": "markdown",
   "id": "8b7f865f",
   "metadata": {},
   "source": [
    "21 march 2023, tisdag\n",
    "Dataset link from kaggle. Testing out if it works out the same way or giving same errors. \n",
    "https://www.kaggle.com/datasets/georgescutelnicu/top-100-popular-movies-from-2003-to-2022-imdb"
   ]
  },
  {
   "cell_type": "code",
   "execution_count": 1,
   "id": "654b32ab",
   "metadata": {},
   "outputs": [],
   "source": [
    "import pandas as pd\n",
    "import numpy as np\n",
    "import seaborn as sns"
   ]
  },
  {
   "cell_type": "code",
   "execution_count": 2,
   "id": "c33076f0",
   "metadata": {},
   "outputs": [],
   "source": [
    "df = pd.read_csv('movies.csv')"
   ]
  },
  {
   "cell_type": "code",
   "execution_count": null,
   "id": "21acd7d3",
   "metadata": {},
   "outputs": [],
   "source": [
    "df.head(5)"
   ]
  },
  {
   "cell_type": "code",
   "execution_count": null,
   "id": "0e03ec55",
   "metadata": {},
   "outputs": [],
   "source": [
    "df.describe()"
   ]
  },
  {
   "cell_type": "code",
   "execution_count": null,
   "id": "93060c99",
   "metadata": {},
   "outputs": [],
   "source": [
    "df.info()"
   ]
  },
  {
   "cell_type": "code",
   "execution_count": null,
   "id": "0d860931",
   "metadata": {},
   "outputs": [],
   "source": [
    "df.shape"
   ]
  },
  {
   "cell_type": "code",
   "execution_count": 3,
   "id": "56319d6c",
   "metadata": {
    "scrolled": false
   },
   "outputs": [
    {
     "data": {
      "text/plain": [
       "Title                 0\n",
       "Rating                1\n",
       "Year                  0\n",
       "Month                 0\n",
       "Certificate          34\n",
       "Runtime               0\n",
       "Directors             0\n",
       "Stars                 0\n",
       "Genre                 0\n",
       "Filming_location      0\n",
       "Budget                0\n",
       "Income                0\n",
       "Country_of_origin     0\n",
       "dtype: int64"
      ]
     },
     "execution_count": 3,
     "metadata": {},
     "output_type": "execute_result"
    }
   ],
   "source": [
    "df.isna().sum()"
   ]
  },
  {
   "cell_type": "code",
   "execution_count": 4,
   "id": "871802ad",
   "metadata": {
    "scrolled": true
   },
   "outputs": [
    {
     "name": "stdout",
     "output_type": "stream",
     "text": [
      " Movie without rating: 85    A Man Called Otto\n",
      "Name: Title, dtype: object\n"
     ]
    }
   ],
   "source": [
    "# There is a movie without rating! Lets find out\n",
    "movie_wo_rating = df[df['Rating'].isna()]['Title']\n",
    "print(f' Movie without rating: {movie_wo_rating}')"
   ]
  },
  {
   "cell_type": "code",
   "execution_count": null,
   "id": "b1697d40",
   "metadata": {},
   "outputs": [],
   "source": [
    "drop_this = df[df['Title'] == 'A Man Called Otto'].index\n",
    "\n",
    "df= df.drop(drop_this)\n",
    "\n",
    "df= df.drop(['Certificate'], axis=1)\n",
    "\n",
    "print(f'Current number of rows: {df.shape[0]}')\n",
    "print(f'Current number of columns: {df.shape[1]}')"
   ]
  },
  {
   "cell_type": "code",
   "execution_count": 5,
   "id": "124f8062",
   "metadata": {},
   "outputs": [],
   "source": [
    "#your goal here is to drop all the null value in the column rating.\n",
    "#There´s a simple way to do that\n",
    "\n",
    "#drop_this = df[df['Title'] == 'A Man Called Otto'].index\n",
    "#df= df.drop(drop_this)\n",
    "\n",
    "# drop all null values from 'rating'\n",
    "df.dropna(subset=['Rating'], inplace=True)"
   ]
  },
  {
   "cell_type": "code",
   "execution_count": 6,
   "id": "c3bf6990",
   "metadata": {},
   "outputs": [
    {
     "name": "stdout",
     "output_type": "stream",
     "text": [
      "<class 'pandas.core.frame.DataFrame'>\n",
      "Int64Index: 1999 entries, 0 to 1999\n",
      "Data columns (total 13 columns):\n",
      " #   Column             Non-Null Count  Dtype  \n",
      "---  ------             --------------  -----  \n",
      " 0   Title              1999 non-null   object \n",
      " 1   Rating             1999 non-null   float64\n",
      " 2   Year               1999 non-null   int64  \n",
      " 3   Month              1999 non-null   object \n",
      " 4   Certificate        1965 non-null   object \n",
      " 5   Runtime            1999 non-null   object \n",
      " 6   Directors          1999 non-null   object \n",
      " 7   Stars              1999 non-null   object \n",
      " 8   Genre              1999 non-null   object \n",
      " 9   Filming_location   1999 non-null   object \n",
      " 10  Budget             1999 non-null   object \n",
      " 11  Income             1999 non-null   object \n",
      " 12  Country_of_origin  1999 non-null   object \n",
      "dtypes: float64(1), int64(1), object(11)\n",
      "memory usage: 218.6+ KB\n"
     ]
    }
   ],
   "source": [
    "#check if the column is gone\n",
    "df.info()"
   ]
  },
  {
   "cell_type": "code",
   "execution_count": 7,
   "id": "f74eb59a",
   "metadata": {},
   "outputs": [
    {
     "name": "stdout",
     "output_type": "stream",
     "text": [
      "Current number of rows: 1999\n",
      "Current number of columns: 12\n"
     ]
    }
   ],
   "source": [
    "df= df.drop(['Certificate'], axis=1)\n",
    "\n",
    "print(f'Current number of rows: {df.shape[0]}')\n",
    "print(f'Current number of columns: {df.shape[1]}')"
   ]
  },
  {
   "cell_type": "code",
   "execution_count": 8,
   "id": "5fb3fbdd",
   "metadata": {},
   "outputs": [
    {
     "name": "stdout",
     "output_type": "stream",
     "text": [
      "<class 'pandas.core.frame.DataFrame'>\n",
      "Int64Index: 1999 entries, 0 to 1999\n",
      "Data columns (total 12 columns):\n",
      " #   Column             Non-Null Count  Dtype  \n",
      "---  ------             --------------  -----  \n",
      " 0   Title              1999 non-null   object \n",
      " 1   Rating             1999 non-null   float64\n",
      " 2   Year               1999 non-null   int64  \n",
      " 3   Month              1999 non-null   object \n",
      " 4   Runtime            1999 non-null   object \n",
      " 5   Directors          1999 non-null   object \n",
      " 6   Stars              1999 non-null   object \n",
      " 7   Genre              1999 non-null   object \n",
      " 8   Filming_location   1999 non-null   object \n",
      " 9   Budget             1999 non-null   object \n",
      " 10  Income             1999 non-null   object \n",
      " 11  Country_of_origin  1999 non-null   object \n",
      "dtypes: float64(1), int64(1), object(10)\n",
      "memory usage: 203.0+ KB\n"
     ]
    }
   ],
   "source": [
    "df.info()"
   ]
  },
  {
   "cell_type": "code",
   "execution_count": null,
   "id": "9a9dc2fa",
   "metadata": {
    "scrolled": true
   },
   "outputs": [],
   "source": [
    "#df.isnull().any().info()\n",
    "\n",
    "#to check number of null values for each column\n",
    "df.isnull().sum()"
   ]
  },
  {
   "cell_type": "code",
   "execution_count": null,
   "id": "9d77758f",
   "metadata": {
    "scrolled": true
   },
   "outputs": [],
   "source": [
    "#This did not work out well // Excluded Ratings column due to dropna()\n",
    "columns = df.loc[:, df.notna().all()]\n",
    "\n",
    "for column_header in columns:\n",
    "    print(column_header)"
   ]
  },
  {
   "cell_type": "code",
   "execution_count": null,
   "id": "1ed9745f",
   "metadata": {
    "scrolled": true
   },
   "outputs": [],
   "source": [
    "df.info()"
   ]
  },
  {
   "cell_type": "code",
   "execution_count": null,
   "id": "e71b460c",
   "metadata": {
    "scrolled": false
   },
   "outputs": [],
   "source": [
    "#Double checking on different code with rows are 'Unknown'\n",
    "\n",
    "df_unknown_values = df[(df['Budget']=='Unknown')]\n",
    "\n",
    "#| (df['Income']=='Unknown')]"
   ]
  },
  {
   "cell_type": "code",
   "execution_count": null,
   "id": "fafcbcc4",
   "metadata": {},
   "outputs": [],
   "source": [
    "df.head(2)"
   ]
  },
  {
   "cell_type": "markdown",
   "id": "c5d4da63",
   "metadata": {},
   "source": [
    "### Should we replace the unknown income rows with mean  value? to get a idea \n",
    "### OR just drop the NA data there ??"
   ]
  },
  {
   "cell_type": "markdown",
   "id": "9a4a6dfb",
   "metadata": {},
   "source": [
    "#Change data type of the those 2 columns to integer\n",
    "df['income'] = df1['Income'].astype(int)\n",
    "df['budget'] = df1['Budget'].astype(int)\n",
    "    \n",
    "    \n",
    "ValueError: invalid literal for int() with base 10: '$2,267,946,983 ' \n",
    "So need to get rid of currecncy symbols first. then operate with features in df."
   ]
  },
  {
   "cell_type": "code",
   "execution_count": null,
   "id": "eeed9123",
   "metadata": {
    "scrolled": true
   },
   "outputs": [],
   "source": [
    "#df2['Budget'] = df2['Budget'].str.replace(',', '')\n",
    "#df2['Budget'] = df2['Budget'].str.replace('$', '')\n",
    "#df2['Income'] = df2['Income'].str.replace('$', '')\n",
    "#df2['Income'] = df2['Income'].str.replace(',', '')\n",
    "#df2['Income'] = df2['Income'].str.replace('Unknown', '0')\n",
    "#df2['Budget'] = df2['Budget'].str.replace('Unknown', '0')\n",
    "\n",
    "\n",
    "# Convert multiple columns to float type data\n",
    "df2 = df2.astype({'Budget':'float','Income':'float'})\n"
   ]
  },
  {
   "cell_type": "markdown",
   "id": "c2f7d00e",
   "metadata": {},
   "source": [
    "df2['Budget'] = df2['Budget'].astype(float)\n",
    "df2['Income'] = df2['Income'].astype(float)\n",
    "print(df.dtypes)\n",
    "\n",
    "Same error msg pops up"
   ]
  },
  {
   "cell_type": "code",
   "execution_count": null,
   "id": "59ca0094",
   "metadata": {},
   "outputs": [],
   "source": [
    "df2['Budget'] = df2['Budget'].astype(int)\n",
    "df2['Income'] = df2['Income'].astype(int)"
   ]
  },
  {
   "cell_type": "code",
   "execution_count": null,
   "id": "d1ad8a18",
   "metadata": {},
   "outputs": [],
   "source": [
    "# Conversion function (converts currency and to float)\n",
    "def convert_to_usd(amount):\n",
    "    amount.replace(' ', '')\n",
    "    amount.replace('\\xa0', '')\n",
    "    if amount.startswith('$'):\n",
    "        amount = amount.strip('$').replace(',', '')   # must remove commas\n",
    "        return float(amount)   # convert str into float\n",
    "    elif amount.startswith('€'):\n",
    "        # Exchange rate for EUR to USD\n",
    "        amount = amount.strip('€').replace(',', '')\n",
    "        return float(amount) * 1.06 \n",
    "    elif amount.startswith('¥'):\n",
    "        # Exchange rate for YEN to USD\n",
    "        amount = amount.strip('¥').replace(',', '')\n",
    "        return float(amount) * 0.0075\n",
    "    elif amount.startswith('₹'):\n",
    "        # Exchange rate for RPL to USD\n",
    "        amount = amount.strip('₹').replace(',', '')\n",
    "        return float(amount) * 0.012 \n",
    "    elif amount.startswith('SEK'):\n",
    "        # Exchange rate for SEK to USD\n",
    "        amount = amount.strip('SEK').replace(',', '')\n",
    "        return float(amount) * 0.094\n",
    "    elif amount.startswith('DKK'):\n",
    "        # Exchange rate for RPL to USD\n",
    "        amount = amount.strip('DKK').replace(',', '')\n",
    "        return float(amount) * 0.14\n",
    "    elif amount.startswith('£'):\n",
    "        # Exchange rate for RPL to USD\n",
    "        amount = amount.strip('£').replace(',', '')\n",
    "        return float(amount) * 1.21  \n",
    "    else:\n",
    "        return None"
   ]
  },
  {
   "cell_type": "code",
   "execution_count": null,
   "id": "9fe3665d",
   "metadata": {},
   "outputs": [],
   "source": [
    "# 7. Applying the conversion function\n",
    "df['Budget'] = df['Budget'].apply(convert_to_usd)\n",
    "df['Income'] = df['Income'].apply(convert_to_usd)\n",
    "\n"
   ]
  },
  {
   "cell_type": "code",
   "execution_count": null,
   "id": "367a83c2",
   "metadata": {},
   "outputs": [],
   "source": [
    "df.head()  # "
   ]
  },
  {
   "cell_type": "code",
   "execution_count": null,
   "id": "0ca698f9",
   "metadata": {},
   "outputs": [],
   "source": [
    "df_budget_missing = df['Budget'].isna().sum()\n",
    "df_income_missing = df['Income'].isna().sum()\n",
    "\n",
    "\n"
   ]
  },
  {
   "cell_type": "code",
   "execution_count": null,
   "id": "cd19b766",
   "metadata": {},
   "outputs": [],
   "source": [
    "print(df_budget_missing)\n",
    "print(df_income_missing)\n"
   ]
  },
  {
   "cell_type": "code",
   "execution_count": null,
   "id": "2e728c6b",
   "metadata": {},
   "outputs": [],
   "source": [
    "# drop NaN values and calculate mean\n",
    "budget_mean = df['Budget'].dropna().mean()\n",
    "\n",
    "#mean of budget about $61M -- seems resonable\n",
    "print(budget_mean)\n",
    "\n",
    "# insert NaN rows with mean value\n",
    "df['Budget'].fillna(budget_mean, inplace=True)"
   ]
  },
  {
   "cell_type": "code",
   "execution_count": null,
   "id": "3efa7327",
   "metadata": {},
   "outputs": [],
   "source": [
    "# drop NaN values and calculate mean\n",
    "income_mean = df['Income'].dropna().mean()\n",
    "\n",
    "#mean of income $188 M -- seems resonable\n",
    "print(income_mean)\n",
    "\n",
    "# insert NaN rows with mean value\n",
    "df['Income'].fillna(income_mean, inplace=True)"
   ]
  },
  {
   "cell_type": "code",
   "execution_count": null,
   "id": "8b8cbd72",
   "metadata": {},
   "outputs": [],
   "source": [
    "df.info()"
   ]
  },
  {
   "cell_type": "code",
   "execution_count": null,
   "id": "e88fb725",
   "metadata": {},
   "outputs": [],
   "source": [
    "#profit = income - budget \n",
    "\n",
    "#def calc_profit(income, budget):\n",
    "#    return income-budget\n",
    "\n",
    "#df2['Profit']= calc_profit(df2['Income'], df2['Budget'])\n",
    "\n",
    "# define a function to calculate the values for the new column\n",
    "def calc_profit(row):\n",
    "    return row['Budget'] + row['Income']\n",
    "\n",
    "# apply the function to each row using the apply() method\n",
    "df['Profit'] = df.apply(calc_profit, axis=1)\n",
    "\n",
    "\n",
    "df.head()\n"
   ]
  },
  {
   "cell_type": "code",
   "execution_count": null,
   "id": "088c81dd",
   "metadata": {},
   "outputs": [],
   "source": [
    "# when working with levels /categorical data, these below will come handy\n",
    "from sklearn.preprocessing import LabelEncoder"
   ]
  },
  {
   "cell_type": "code",
   "execution_count": null,
   "id": "b250e4ac",
   "metadata": {},
   "outputs": [],
   "source": [
    "from sklearn.preprocessing import OneHotEncoder\n",
    "import pandas.getdummies"
   ]
  },
  {
   "cell_type": "code",
   "execution_count": null,
   "id": "5b3cbe23",
   "metadata": {},
   "outputs": [],
   "source": [
    "%%timeit\n",
    "\n",
    "df2['Profit']= df2['Income'] - df2['Budget']"
   ]
  },
  {
   "cell_type": "code",
   "execution_count": null,
   "id": "48f35fee",
   "metadata": {},
   "outputs": [],
   "source": []
  }
 ],
 "metadata": {
  "kernelspec": {
   "display_name": "Python 3 (ipykernel)",
   "language": "python",
   "name": "python3"
  },
  "language_info": {
   "codemirror_mode": {
    "name": "ipython",
    "version": 3
   },
   "file_extension": ".py",
   "mimetype": "text/x-python",
   "name": "python",
   "nbconvert_exporter": "python",
   "pygments_lexer": "ipython3",
   "version": "3.7.15"
  }
 },
 "nbformat": 4,
 "nbformat_minor": 5
}
