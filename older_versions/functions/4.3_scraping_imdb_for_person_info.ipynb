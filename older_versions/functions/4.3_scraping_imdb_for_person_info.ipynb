{
 "cells": [
  {
   "attachments": {},
   "cell_type": "markdown",
   "metadata": {},
   "source": [
    "Adding numerical data to the dataset:\n",
    "* Number of movies the actor has been in or director has directed\n",
    "* Average score for the number of movies\n",
    "* Number of award wins\n",
    "* Number of award nominations"
   ]
  },
  {
   "cell_type": "code",
   "execution_count": null,
   "metadata": {},
   "outputs": [],
   "source": [
    "def searching_IMDb_person(name_column, dataset, person_type):\n",
    "    \"\"\"\n",
    "    Updating the dataset by adding new column for a director/actor\n",
    "    including; number of movies, commulative average rating for these\n",
    "    movies, number of won awards, number of nominations. \n",
    "    \n",
    "    Parameters:\n",
    "    name_column : the column containing the person's name\n",
    "    dataset : dataset\n",
    "    person_type : specify if person is actor or director due to different\n",
    "        search filters applied\n",
    "    \"\"\"\n",
    "    # 1. Instantiating imdb \n",
    "    ia = imdb.IMDb()\n",
    "\n",
    "    # 2. For each row of the df, extract the name for specific column\n",
    "    for index, row in dataset.iterrows():\n",
    "        name = row[name_column]\n",
    "        person_id = None  # initialize person_id to None\n",
    "        \n",
    "        try:\n",
    "            name_search = ia.search_person(name)\n",
    "            person_id = name_search[0].getID()\n",
    "        except:\n",
    "            pass\n",
    "        \n",
    "        if person_id != None:\n",
    "            awards_req = Request(\n",
    "                url = f'https://www.imdb.com/name/nm{person_id}/awards/?ref_=nm_awd', \n",
    "                headers={'User-Agent': 'Mozilla/5.0'}\n",
    "            )\n",
    "            awards_html = urlopen(awards_req).read()\n",
    "            awards_soup = BeautifulSoup(awards_html, 'html.parser')\n",
    "\n",
    "            # If awards and nominations exist then get data\n",
    "            try:\n",
    "                awards_line = awards_soup.find('div', {'class': 'desc'}).text.split()\n",
    "                wins = get_value(awards_line[2])\n",
    "                nominations = get_value(awards_line[5])\n",
    "            except AttributeError:\n",
    "                wins = None\n",
    "                nominations = None\n",
    "\n",
    "            # Movie history\n",
    "            # Make a request to the URL and get the HTML\n",
    "            movies_req = Request(\n",
    "                url = f'https://www.imdb.com/filmosearch/?explore=title_type&role=nm{person_id}&ref_=filmo_ref_job_typ&sort=release_date,asc&mode=detail&page=1&job_type={person_type}', \n",
    "                headers={'User-Agent': 'Mozilla/5.0'}\n",
    "            )\n",
    "            movie_html = urlopen(movies_req).read()\n",
    "            movie_soup = BeautifulSoup(movie_html, 'html.parser')\n",
    "\n",
    "            # If movie history exists\n",
    "            try:\n",
    "                # Make a list of the webpage and create ratings_list\n",
    "                movies_list = movie_soup.find_all('div', {'class': 'lister-item mode-detail'})\n",
    "                ratings_list = []\n",
    "                for movie in movies_list:\n",
    "                    # For movie extract the year\n",
    "                    year_raw = movie.find('span', {'class': 'lister-item-year'}).text.strip('()')\n",
    "                    year_match = re.match(r'^\\d{4}$', year_raw)\n",
    "                    # Only keep movie rating if movie pre-2023\n",
    "                    if year_match and int(year_raw) < 2023:\n",
    "                        rating = movie.find('div', {'class': 'ratings-bar'}).find('div', {'class': 'inline-block ratings-imdb-rating'})\n",
    "                        if rating is not None:\n",
    "                            # Append rating to ratings_list\n",
    "                            ratings_list.append(float(rating['data-value']))\n",
    "            except AttributeError:\n",
    "                ratings_list = []\n",
    "        else:\n",
    "            wins = None\n",
    "            nominations = None\n",
    "            ratings_list = []\n",
    "\n",
    "\n",
    "        # Create new columns and append data to appropriate column\n",
    "        dataset.loc[index, f'{name_column}_num_wins'] = wins\n",
    "        dataset.loc[index, f'{name_column}_num_nominations'] = nominations\n",
    "        dataset.loc[index, f'{name_column}_num_movies'] = len(ratings_list)\n",
    "        dataset.loc[index, f'{name_column}_avg_rating'] = np.mean(ratings_list)\n",
    "\n",
    "        print(f'{index}. {name}')\n",
    "\n",
    "    return dataset"
   ]
  },
  {
   "cell_type": "code",
   "execution_count": null,
   "metadata": {},
   "outputs": [],
   "source": [
    "searching_IMDb_person('Supporting', test_df, 'actor')"
   ]
  }
 ],
 "metadata": {
  "kernelspec": {
   "display_name": "Python 3",
   "language": "python",
   "name": "python3"
  },
  "language_info": {
   "name": "python",
   "version": "3.11.0"
  },
  "orig_nbformat": 4,
  "vscode": {
   "interpreter": {
    "hash": "aee8b7b246df8f9039afb4144a1f6fd8d2ca17a180786b69acc140d282b71a49"
   }
  }
 },
 "nbformat": 4,
 "nbformat_minor": 2
}
