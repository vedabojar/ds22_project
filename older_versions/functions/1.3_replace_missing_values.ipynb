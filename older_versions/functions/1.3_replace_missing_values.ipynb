{
 "cells": [
  {
   "cell_type": "code",
   "execution_count": null,
   "id": "49d57be7",
   "metadata": {},
   "outputs": [],
   "source": [
    "import pandas as pd\n",
    "import numpy as np"
   ]
  },
  {
   "cell_type": "code",
   "execution_count": null,
   "id": "c246739f",
   "metadata": {},
   "outputs": [],
   "source": [
    "def replace_missing_values(df, col_name, stat='mean'):\n",
    "    '''\n",
    "    This function takes in a pandas dataframe and the name of a column in the dataframe.\n",
    "    It drops all rows where the value of the column is 0, and replaces those values with either \n",
    "    the mean or median of the rest of the values in the column, as specified by the user.\n",
    "    It also replaces any NaN values in the column with the same statistic as the missing values.\n",
    "    \n",
    "    Parameters:\n",
    "    - df: pandas dataframe\n",
    "    - col_name: str, name of column to be processed\n",
    "    - stat: str, either 'mean' or 'median', determines which statistic to use\n",
    "    \n",
    "    Returns:\n",
    "    - df: pandas dataframe with modified column\n",
    "    '''\n",
    "    # Calculate the selected statistic of the non-zero/non-NaN values in the column\n",
    "    if stat == 'mean':\n",
    "        stat_val = np.nanmean(df[df[col_name].notnull() & (df[col_name] != 0)][col_name])\n",
    "    elif stat == 'median':\n",
    "        stat_val = np.nanmedian(df[df[col_name].notnull() & (df[col_name] != 0)][col_name])\n",
    "    else:\n",
    "        raise ValueError(\"stat must be either 'mean' or 'median'\")\n",
    "    \n",
    "    # Replace the missing values (0 or NaN) with the selected statistic\n",
    "    df.loc[(df[col_name] == 0) | (df[col_name].isnull()), col_name] = stat_val\n",
    "    \n",
    "    return df"
   ]
  },
  {
   "cell_type": "code",
   "execution_count": null,
   "id": "a28fba33",
   "metadata": {},
   "outputs": [],
   "source": [
    "# Create a sample DataFrame with a NaN value in the \"age\" column\n",
    "df = pd.DataFrame({\n",
    "    'name': ['Alice', 'Bob', 'Charlie', 'Dave', 'Eve'],\n",
    "    'age': [24, 35, np.nan, 28, 0]\n",
    "})\n",
    "\n",
    "# Call the replace_missing_values function to replace the missing values with the mean age\n",
    "df = replace_missing_values(df, 'age', 'mean')\n",
    "\n",
    "# Check the modified DataFrame\n",
    "print(df)\n"
   ]
  }
 ],
 "metadata": {
  "kernelspec": {
   "display_name": "Python 3 (ipykernel)",
   "language": "python",
   "name": "python3"
  },
  "language_info": {
   "codemirror_mode": {
    "name": "ipython",
    "version": 3
   },
   "file_extension": ".py",
   "mimetype": "text/x-python",
   "name": "python",
   "nbconvert_exporter": "python",
   "pygments_lexer": "ipython3",
   "version": "3.7.15"
  }
 },
 "nbformat": 4,
 "nbformat_minor": 5
}
