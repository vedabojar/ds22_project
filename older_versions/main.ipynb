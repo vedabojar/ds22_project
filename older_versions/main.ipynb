{
 "cells": [
  {
   "cell_type": "markdown",
   "id": "348ae723",
   "metadata": {},
   "source": [
    "### Importing Libraries"
   ]
  },
  {
   "cell_type": "code",
   "execution_count": 63,
   "id": "1cdefb36",
   "metadata": {},
   "outputs": [],
   "source": [
    "# Basic\n",
    "import pandas as pd\n",
    "import numpy as np\n",
    "import matplotlib.pyplot as plt\n",
    "#import cpi #library for inflation-data\n",
    "\n",
    "\n",
    "# Scraping IMDb\n",
    "import re\n",
    "import imdb\n",
    "from urllib.request import Request, urlopen\n",
    "from bs4 import BeautifulSoup\n",
    "\n",
    "#df = pd.read_csv('C:/Users/admin1/Documents/GitHub/ds22_project/data/movies.csv')\n",
    "df = pd.read_csv('./data/movies.csv')"
   ]
  },
  {
   "cell_type": "markdown",
   "id": "c2802e21",
   "metadata": {},
   "source": [
    "### Functions"
   ]
  },
  {
   "cell_type": "markdown",
   "id": "daa6a2a6",
   "metadata": {},
   "source": [
    "#### 1.1 --- check_non_numeric_values"
   ]
  },
  {
   "cell_type": "code",
   "execution_count": 64,
   "id": "a661c1e7",
   "metadata": {},
   "outputs": [],
   "source": [
    "def check_non_numeric_values(df, column):\n",
    "    \"\"\"Function takes in dataset and column. No kreturn, Printing out found non numeric values in the column.\"\"\"\n",
    "\n",
    "    # convert column to numeric data type\n",
    "    numeric_col = pd.to_numeric(df[column], errors='coerce')\n",
    "\n",
    "    # get the non-numeric values and their counts\n",
    "    non_numeric_values = df[column][numeric_col.isna()].value_counts()\n",
    "\n",
    "    # check if there are any non-numeric values\n",
    "    if non_numeric_values.empty:\n",
    "        print(\"No non numeric values in that column.\")\n",
    "    else:\n",
    "        # create a table with non-numeric values and their counts\n",
    "        non_numeric_table = pd.DataFrame({'Non-Numeric Value': non_numeric_values.index,\n",
    "                                          'Count': non_numeric_values.values})\n",
    "\n",
    "        # display the table\n",
    "        print(non_numeric_table)"
   ]
  },
  {
   "cell_type": "markdown",
   "id": "ebe1cdd6",
   "metadata": {},
   "source": [
    "#### 1.2 --- get_mean_median_for_column"
   ]
  },
  {
   "cell_type": "code",
   "execution_count": 65,
   "id": "6b692099",
   "metadata": {},
   "outputs": [],
   "source": [
    "def get_mean_median_for_column(df, col_name):\n",
    "    '''\n",
    "    This function takes in a pandas dataframe and the name of a column in the dataframe,\n",
    "    and returns the mean and median of the numeric values in the column that are not equal to 0.\n",
    "    Non-numeric values are converted to 0 before calculating the mean and median.\n",
    "    \n",
    "    Parameters:\n",
    "    - df: pandas dataframe\n",
    "    - col_name: str, name of column to be processed\n",
    "    \n",
    "    Returns:\n",
    "    - tuple of two floats: mean and median of numeric values in the column that are not equal to 0\n",
    "    '''\n",
    "    # Convert non-numeric values to 0\n",
    "    df[col_name] = pd.to_numeric(df[col_name], errors='coerce').fillna(0)\n",
    "    \n",
    "    # Get the non-zero numeric values in the column\n",
    "    non_zero_vals = df[col_name][df[col_name] != 0]\n",
    "    \n",
    "    # Calculate the mean and median of the non-zero values\n",
    "    col_mean = non_zero_vals.mean()\n",
    "    col_median = non_zero_vals.median()\n",
    "    \n",
    "    return col_mean, col_median\n"
   ]
  },
  {
   "cell_type": "markdown",
   "id": "13f25faa",
   "metadata": {},
   "source": [
    "#### 1.3 --- replace_missing_values"
   ]
  },
  {
   "cell_type": "code",
   "execution_count": 66,
   "id": "1883c81e",
   "metadata": {},
   "outputs": [],
   "source": [
    "def replace_missing_values(df, col_name, stat='mean'):\n",
    "    '''\n",
    "    This function takes in a pandas dataframe and the name of a column in the dataframe.\n",
    "    It drops all rows where the value of the column is 0, and replaces those values with either \n",
    "    the mean or median of the rest of the values in the column, as specified by the user.\n",
    "    It also replaces any NaN values in the column with the same statistic as the missing values.\n",
    "    \n",
    "    Parameters:\n",
    "    - df: pandas dataframe\n",
    "    - col_name: str, name of column to be processed\n",
    "    - stat: str, either 'mean' or 'median', determines which statistic to use\n",
    "    \n",
    "    Returns:\n",
    "    - df: pandas dataframe with modified column\n",
    "    '''\n",
    "    # Calculate the selected statistic of the non-zero/non-NaN values in the column\n",
    "    if stat == 'mean':\n",
    "        stat_val = np.nanmean(df[df[col_name].notnull() & (df[col_name] != 0)][col_name])\n",
    "    elif stat == 'median':\n",
    "        stat_val = np.nanmedian(df[df[col_name].notnull() & (df[col_name] != 0)][col_name])\n",
    "    else:\n",
    "        raise ValueError(\"stat must be either 'mean' or 'median'\")\n",
    "    \n",
    "    # Replace the missing values (0 or NaN) with the selected statistic\n",
    "    df.loc[(df[col_name] == 0) | (df[col_name].isnull()), col_name] = stat_val\n",
    "    \n",
    "    return df"
   ]
  },
  {
   "cell_type": "markdown",
   "id": "88597a83",
   "metadata": {},
   "source": [
    "#### 2.1 --- convert_to_usd"
   ]
  },
  {
   "cell_type": "code",
   "execution_count": 67,
   "id": "ca51c29b",
   "metadata": {},
   "outputs": [],
   "source": [
    "def convert_to_usd(amount):\n",
    "    amount.replace(' ', '')\n",
    "    amount.replace('\\xa0', '')\n",
    "    if amount.startswith('$'):\n",
    "        amount = amount.strip('$').replace(',', '')   # must remove commas\n",
    "        return float(amount)   # convert str into float\n",
    "    elif amount.startswith('€'):\n",
    "        # Exchange rate for EUR to USD\n",
    "        amount = amount.strip('€').replace(',', '')\n",
    "        return float(amount) * 1.06 \n",
    "    elif amount.startswith('¥'):\n",
    "        # Exchange rate for YEN to USD\n",
    "        amount = amount.strip('¥').replace(',', '')\n",
    "        return float(amount) * 0.0075\n",
    "    elif amount.startswith('₹'):\n",
    "        # Exchange rate for RPL to USD\n",
    "        amount = amount.strip('₹').replace(',', '')\n",
    "        return float(amount) * 0.012 \n",
    "    elif amount.startswith('SEK'):\n",
    "        # Exchange rate for SEK to USD\n",
    "        amount = amount.strip('SEK').replace(',', '')\n",
    "        return float(amount) * 0.094\n",
    "    elif amount.startswith('DKK'):\n",
    "        # Exchange rate for RPL to USD\n",
    "        amount = amount.strip('DKK').replace(',', '')\n",
    "        return float(amount) * 0.14\n",
    "    elif amount.startswith('£'):\n",
    "        # Exchange rate for RPL to USD\n",
    "        amount = amount.strip('£').replace(',', '')\n",
    "        return float(amount) * 1.21  \n",
    "    else:\n",
    "        return None"
   ]
  },
  {
   "cell_type": "markdown",
   "id": "6d9fe460",
   "metadata": {},
   "source": [
    "#### 2.2 --- adjust_for_inflation"
   ]
  },
  {
   "cell_type": "code",
   "execution_count": 68,
   "id": "1505342d",
   "metadata": {},
   "outputs": [],
   "source": [
    "def adjust_for_inflation(df, column_name, year_column, new_column, drop_original=True):\n",
    "    data = {\n",
    "        \"1990\": 5.398,\n",
    "        \"1991\": 4.235,\n",
    "        \"1992\": 3.0288,\n",
    "        \"1993\": 2.9517,\n",
    "        \"1994\": 2.6074,\n",
    "        \"1995\": 2.8054,\n",
    "        \"1996\": 2.9312,\n",
    "        \"1997\": 2.3377,\n",
    "        \"1998\": 1.5523,\n",
    "        \"1999\": 2.188,\n",
    "        \"2000\": 3.3769,\n",
    "        \"2001\": 2.8262,\n",
    "        \"2002\": 1.586,\n",
    "        \"2003\": 2.2701,\n",
    "        \"2004\": 2.6772,\n",
    "        \"2005\": 3.3927,\n",
    "        \"2006\": 3.2259,\n",
    "        \"2007\": 2.8527,\n",
    "        \"2008\": 3.8391,\n",
    "        \"2009\": -0.3555,\n",
    "        \"2010\": 1.64,\n",
    "        \"2011\": 3.1568,\n",
    "        \"2012\": 2.0693,\n",
    "        \"2013\": 1.4648,\n",
    "        \"2014\": 1.6222,\n",
    "        \"2015\": 0.1186,\n",
    "        \"2016\": 1.2616,\n",
    "        \"2017\": 2.1301,\n",
    "        \"2018\": 2.4426,\n",
    "        \"2019\": 1.8122,\n",
    "        \"2020\": 1.2336,\n",
    "        \"2021\": 4.6979\n",
    "    }\n",
    "    \n",
    "    # Create a new column in the DataFrame to store the adjusted values\n",
    "    df[new_column] = 0\n",
    "\n",
    "    # Loop over the rows in the DataFrame\n",
    "    for index, row in df.iterrows():\n",
    "        # Get the year from the row\n",
    "        year = row[year_column]\n",
    "        # Skip the row if the value in the specified column is NaN\n",
    "        if pd.isna(row[column_name]):\n",
    "            continue\n",
    "        # Get the inflation rate for each year from the dictionary\n",
    "        inflation_rates = [data[str(yr)] for yr in range(year, 2022)]\n",
    "        # Calculate the total inflation factor by multiplying the inflation rates together\n",
    "        total_inflation_factor = 1\n",
    "        for rate in inflation_rates:\n",
    "            total_inflation_factor *= 1 + (rate / 100)\n",
    "        # Get the value from the specified column\n",
    "        value = row[column_name]\n",
    "        # Adjust the value for inflation using the total inflation factor\n",
    "        adjusted_value = value * total_inflation_factor\n",
    "        # Round the result to two decimal places and store it in the new column\n",
    "        df.at[index, new_column] = round(adjusted_value, 2)\n",
    "\n",
    "    # Drop the original column if specified\n",
    "    if drop_original:\n",
    "        df = df.drop(columns=[column_name])\n",
    "\n",
    "    # Return the DataFrame with the adjusted values\n",
    "    return df\n"
   ]
  },
  {
   "cell_type": "markdown",
   "id": "79a50d56",
   "metadata": {},
   "source": [
    "#### 3.1 --- one_hot_encoding_column"
   ]
  },
  {
   "cell_type": "code",
   "execution_count": 69,
   "id": "60f6ca2a",
   "metadata": {},
   "outputs": [],
   "source": [
    "def one_hot_encoding_column(dataset, column, separator=\", \", prefix=\"\"):\n",
    "    \"\"\"\n",
    "    Performs one-hot encoding on the specified column of the given dataset.\n",
    "    dataset: The dataset to be processed.\n",
    "    column: The name of the column to be one-hot encoded.\n",
    "    separator: The separator used in the values of the specified column. Defaults to \",\".\n",
    "    prefix: Optional string to be added in front of each new column name. Defaults to \"\".\n",
    "    returns: the new dataset with the specified column one-hot encoded.\n",
    "    \"\"\"\n",
    "\n",
    "    # 1. Creating a list with all the values mentioned in the dataset\n",
    "    value_list = [values.split(separator) for values in dataset[column]]\n",
    "\n",
    "    # 2. Creating a set with value categories\n",
    "    unique_v = {value for values in value_list for value in values}\n",
    "\n",
    "    # 3. Performing one-hot encoding using get_dummies method\n",
    "    value_subtable = pd.get_dummies(dataset[column].str.split(separator, expand=True).stack()).reset_index(level=1, drop=True)\n",
    "    value_subtable = value_subtable.groupby(value_subtable.index).sum()\n",
    "\n",
    "    # 4. Adding the prefix to the column names\n",
    "    if prefix:\n",
    "        value_subtable.columns = [prefix + str(col) for col in value_subtable.columns]\n",
    "\n",
    "    # 5. Merging the subtable with the main dataset\n",
    "    dataset_processed = pd.merge(dataset, value_subtable, left_index=True, right_index=True, how='left')\n",
    "    dataset_processed.drop(columns=[column], inplace=True)\n",
    "\n",
    "    # 6. Returning the new dataset\n",
    "    return dataset_processed"
   ]
  },
  {
   "cell_type": "markdown",
   "id": "1aedcc6a",
   "metadata": {},
   "source": [
    "#### 3.2 --- one_hot_coding_binary"
   ]
  },
  {
   "cell_type": "code",
   "execution_count": 70,
   "id": "99a6ab30",
   "metadata": {},
   "outputs": [],
   "source": [
    "def one_hot_coding_binary(dataset, original_column, prefix, file_column, file_location, separator=\", \", num_categories=1, drop_original=True):\n",
    "    if num_categories not in range(1,5):\n",
    "        raise ValueError(\"num_categories must be between 1 and 4\")\n",
    "\n",
    "    for i in range(1, num_categories+1):\n",
    "        dataset[f\"{prefix}_no_{i}\"] = dataset[original_column].str.split(separator, expand=True)[i-1]\n",
    "\n",
    "    dataset_categories = pd.read_csv(file_location)\n",
    "\n",
    "    for i in range(1, num_categories+1):\n",
    "        replace = dataset[f\"{prefix}_no_{i}\"].isin(dataset_categories[file_column])\n",
    "        dataset[f\"{prefix}_no_{i}_binary\"] = replace.astype(int)\n",
    "\n",
    "    if drop_original:\n",
    "        dataset.drop(columns=[original_column], inplace=True)\n",
    "\n",
    "    if num_categories == 1:\n",
    "        dataset.drop(columns=[f\"{prefix}_no_1\"], inplace=True)\n",
    "        dataset.rename(columns={f\"{prefix}_no_1_binary\": f\"{prefix}\"}, inplace=True)\n",
    "    else:\n",
    "        for i in range(1, num_categories+1):\n",
    "            dataset.drop(columns=[f\"{prefix}_no_{i}\"], inplace=True)\n",
    "            dataset.rename(columns={f\"{prefix}_no_{i}_binary\": f\"{prefix}_{i}\"}, inplace=True)\n",
    "\n",
    "        if num_categories == 5:\n",
    "            dataset.rename(columns={f\"{prefix}_all_binary\": f\"{prefix}_all\"}, inplace=True)\n",
    "\n",
    "    return dataset\n"
   ]
  },
  {
   "attachments": {},
   "cell_type": "markdown",
   "id": "f3e01832",
   "metadata": {},
   "source": [
    "#### 4.1 --- convert_imdb_str_to_int"
   ]
  },
  {
   "cell_type": "code",
   "execution_count": 71,
   "id": "a578d11e",
   "metadata": {},
   "outputs": [],
   "source": [
    "def get_value(val):\n",
    "    ''' \n",
    "    Converts input string to an integer.\n",
    "    '''\n",
    "    # 1. Check if the last character of the string is a k or m and if\n",
    "    # not it converts the string to an int\n",
    "    if val[-1].lower() not in ['k', 'K', 'm', 'M']:\n",
    "        return int(val)\n",
    "    multiplier = val[-1].lower()\n",
    "    # 2. If the string ends with K multiply by 1000\n",
    "    if multiplier == \"k\" or multiplier == \"K\":\n",
    "        value = float(val[:-1]) * 1000\n",
    "        return value\n",
    "    # 3. If the string ends with M multiply by 1000000 \n",
    "    elif multiplier == \"m\" or multiplier == \"M\":\n",
    "        value = float(val[:-1]) * 1000000\n",
    "        return value"
   ]
  },
  {
   "attachments": {},
   "cell_type": "markdown",
   "id": "6a8dc759",
   "metadata": {},
   "source": [
    "#### 4.2 --- scraping_imdb_for_movie_info"
   ]
  },
  {
   "cell_type": "code",
   "execution_count": 72,
   "id": "7a670a7b",
   "metadata": {},
   "outputs": [],
   "source": [
    "def searching_IMDb_movie(title_column, dataset):\n",
    "    \"\"\"\n",
    "    Updating the dataset by adding two new columns for each movie \n",
    "    including metascore and number of ratings. \n",
    "    \n",
    "    Parameters:\n",
    "    name_column : the column containing the person's name\n",
    "    dataset : dataset\n",
    "    person_type : must specify for IMDb if person is 'actor'/'director'\n",
    "    \"\"\"\n",
    "    # 1. Instantiating imdb \n",
    "    ia = imdb.IMDb()\n",
    "\n",
    "    # 2. For each row of the df, extract the nam for the specific column\n",
    "    for index, row in dataset.iterrows():\n",
    "        try:\n",
    "            # Get the movie title\n",
    "            movie_title = row[title_column]\n",
    "            \n",
    "            # Search for a movie on IMDb by title\n",
    "            movie = ia.search_movie(movie_title)\n",
    "            movie_id = movie[0].getID()            \n",
    "\n",
    "            # Make a request to the URL and get the HTML content\n",
    "\n",
    "            # Request for movie (different webpage)\n",
    "            movie_req = Request(\n",
    "                url = f'https://www.imdb.com/title/tt{movie_id}/', \n",
    "                headers={'User-Agent': 'Mozilla/5.0'}\n",
    "            )\n",
    "            movie_html = urlopen(movie_req).read()\n",
    "            movie_soup = BeautifulSoup(movie_html, 'html.parser')\n",
    "\n",
    "            # Request for metascore (different webpage)\n",
    "            meta_req = Request(\n",
    "                url = f'https://www.imdb.com/title/tt{movie_id}/criticreviews/?ref_=tt_ov_rt', \n",
    "                headers={'User-Agent': 'Mozilla/5.0'}\n",
    "            )\n",
    "            meta_html = urlopen(meta_req).read()\n",
    "            meta_soup = BeautifulSoup(meta_html, 'html.parser')\n",
    "            \n",
    "            # If metascore exists try to extract info\n",
    "            try:\n",
    "                metascore_line = meta_soup.find('div', {'class': 'sc-79ae5a4-0 kUTYKi'}).text.split()\n",
    "                metascore = get_value(metascore_line[0].split('M')[0])\n",
    "            except AttributeError:\n",
    "                metascore = None\n",
    "\n",
    "            # If number of votes exists try to extract info\n",
    "            try:\n",
    "                num_votes_line = movie_soup.find('div', {'class': 'sc-e457ee34-3 frEfSL'}).text.split()\n",
    "                num_votes = get_value(num_votes_line[0])\n",
    "            except AttributeError:\n",
    "                num_votes = None\n",
    "\n",
    "        except imdb._exceptions.IMDbError:\n",
    "            metascore = None\n",
    "            num_votes = None\n",
    "\n",
    "        # Make a new column and append the new data\n",
    "        dataset.loc[index, f'{title_column}_metascore'] = metascore\n",
    "        dataset.loc[index, f'{title_column}_num_votes'] = num_votes\n",
    "    \n",
    "        print(index)\n",
    "    \n",
    "    return dataset"
   ]
  },
  {
   "attachments": {},
   "cell_type": "markdown",
   "id": "478e7812",
   "metadata": {},
   "source": [
    "#### 4.3 --- scraping_imdb_for_person_info"
   ]
  },
  {
   "cell_type": "code",
   "execution_count": 73,
   "id": "36dce15e",
   "metadata": {},
   "outputs": [],
   "source": [
    "def searching_IMDb_person(name_column, dataset, person_type):\n",
    "    \"\"\"\n",
    "    Updating the dataset by adding new column for a director/actor\n",
    "    including; number of movies, commulative average rating for these\n",
    "    movies, number of won awards, number of nominations. \n",
    "    \n",
    "    Parameters:\n",
    "    name_column : the column containing the person's name\n",
    "    dataset : dataset\n",
    "    person_type : specify if person is actor or director due to different\n",
    "        search filters applied\n",
    "    \"\"\"\n",
    "    # 1. Instantiating imdb \n",
    "    ia = imdb.IMDb()\n",
    "\n",
    "    # 2. For each row of the df, extract the name for specific column\n",
    "    for index, row in dataset.iterrows():\n",
    "        try:\n",
    "            name = row[name_column]\n",
    "            # Fetch the IMDb name results based on the person's name\n",
    "            name_search = ia.search_person(name)\n",
    "            person_id = name_search[0].getID()\n",
    "            \n",
    "            # Awards and Nominations\n",
    "            # Make a request to the URL and get the HTML content\n",
    "            awards_req = Request(\n",
    "                url = f'https://www.imdb.com/name/nm{person_id}/awards/?ref_=nm_awd', \n",
    "                headers={'User-Agent': 'Mozilla/5.0'}\n",
    "            )\n",
    "            awards_html = urlopen(awards_req).read()\n",
    "            awards_soup = BeautifulSoup(awards_html, 'html.parser')\n",
    "\n",
    "            # If awards and nominations exist then get data\n",
    "            try:\n",
    "                awards_line = awards_soup.find('div', {'class': 'desc'}).text.split()\n",
    "                wins = get_value(awards_line[2])\n",
    "                nominations = get_value(awards_line[5])\n",
    "            except AttributeError:\n",
    "                wins = None\n",
    "                nominations = None\n",
    "\n",
    "            # Movie history\n",
    "            # Make a request to the URL and get the HTML\n",
    "            movies_req = Request(\n",
    "                url = f'https://www.imdb.com/filmosearch/?explore=title_type&role=nm{person_id}&ref_=filmo_ref_job_typ&sort=release_date,asc&mode=detail&page=1&job_type={person_type}', \n",
    "                headers={'User-Agent': 'Mozilla/5.0'}\n",
    "            )\n",
    "            movie_html = urlopen(movies_req).read()\n",
    "            movie_soup = BeautifulSoup(movie_html, 'html.parser')\n",
    "\n",
    "            # If movie history ecists\n",
    "            try:\n",
    "                # Make a list of the webpage and create ratings_list\n",
    "                movies_list = movie_soup.find_all('div', {'class': 'lister-item mode-detail'})\n",
    "                ratings_list = []\n",
    "                for movie in movies_list:\n",
    "                    # For movie extract the year\n",
    "                    year_raw = movie.find('span', {'class': 'lister-item-year'}).text.strip('()')\n",
    "                    year_match = re.match(r'^\\d{4}$', year_raw)\n",
    "                    # Only keep movie rating if movie pre-2023\n",
    "                    if year_match and int(year_raw) < 2023:\n",
    "                        rating = movie.find('div', {'class': 'ratings-bar'}).find('div', {'class': 'inline-block ratings-imdb-rating'})\n",
    "                        if rating is not None:\n",
    "                            # Append rating to ratings_list\n",
    "                            ratings_list.append(float(rating['data-value']))\n",
    "            except AttributeError:\n",
    "                ratings_list = None\n",
    "\n",
    "        except imdb._exceptions.IMDbError:\n",
    "            wins = None\n",
    "            nominations = None\n",
    "            ratings_list = None\n",
    "\n",
    "        # Create new columns and append data to appropriate column\n",
    "        dataset.loc[index, f'{name_column}_num_wins'] = wins\n",
    "        dataset.loc[index, f'{name_column}_num_nominations'] = nominations\n",
    "        dataset.loc[index, f'{name_column}_num_movies'] = len(ratings_list)\n",
    "        dataset.loc[index, f'{name_column}_avg_rating'] = np.mean(ratings_list)\n",
    "\n",
    "        print(index)\n",
    "\n",
    "    return dataset"
   ]
  },
  {
   "cell_type": "markdown",
   "id": "83b6be68",
   "metadata": {},
   "source": [
    "# Dataprocessing"
   ]
  },
  {
   "cell_type": "code",
   "execution_count": 74,
   "id": "60c5b044",
   "metadata": {},
   "outputs": [
    {
     "data": {
      "text/html": [
       "<div>\n",
       "<style scoped>\n",
       "    .dataframe tbody tr th:only-of-type {\n",
       "        vertical-align: middle;\n",
       "    }\n",
       "\n",
       "    .dataframe tbody tr th {\n",
       "        vertical-align: top;\n",
       "    }\n",
       "\n",
       "    .dataframe thead th {\n",
       "        text-align: right;\n",
       "    }\n",
       "</style>\n",
       "<table border=\"1\" class=\"dataframe\">\n",
       "  <thead>\n",
       "    <tr style=\"text-align: right;\">\n",
       "      <th></th>\n",
       "      <th>Title</th>\n",
       "      <th>Rating</th>\n",
       "      <th>Year</th>\n",
       "      <th>Month</th>\n",
       "      <th>Certificate</th>\n",
       "      <th>Runtime</th>\n",
       "      <th>Directors</th>\n",
       "      <th>Stars</th>\n",
       "      <th>Genre</th>\n",
       "      <th>Filming_location</th>\n",
       "      <th>Budget</th>\n",
       "      <th>Income</th>\n",
       "      <th>Country_of_origin</th>\n",
       "    </tr>\n",
       "  </thead>\n",
       "  <tbody>\n",
       "    <tr>\n",
       "      <th>0</th>\n",
       "      <td>Avatar: The Way of Water</td>\n",
       "      <td>7.8</td>\n",
       "      <td>2022</td>\n",
       "      <td>December</td>\n",
       "      <td>PG-13</td>\n",
       "      <td>192</td>\n",
       "      <td>James Cameron</td>\n",
       "      <td>Sam Worthington, Zoe Saldana, Sigourney Weaver...</td>\n",
       "      <td>Action, Adventure, Fantasy</td>\n",
       "      <td>New Zealand</td>\n",
       "      <td>$350,000,000</td>\n",
       "      <td>$2,267,946,983</td>\n",
       "      <td>United States</td>\n",
       "    </tr>\n",
       "    <tr>\n",
       "      <th>1</th>\n",
       "      <td>Guillermo del Toro's Pinocchio</td>\n",
       "      <td>7.6</td>\n",
       "      <td>2022</td>\n",
       "      <td>December</td>\n",
       "      <td>PG</td>\n",
       "      <td>117</td>\n",
       "      <td>Guillermo del Toro, Mark Gustafson</td>\n",
       "      <td>Ewan McGregor, David Bradley, Gregory Mann, Bu...</td>\n",
       "      <td>Animation, Drama, Family</td>\n",
       "      <td>USA</td>\n",
       "      <td>$35,000,000</td>\n",
       "      <td>$108,967</td>\n",
       "      <td>United States, Mexico, France</td>\n",
       "    </tr>\n",
       "  </tbody>\n",
       "</table>\n",
       "</div>"
      ],
      "text/plain": [
       "                            Title  Rating  Year     Month Certificate Runtime  \\\n",
       "0        Avatar: The Way of Water     7.8  2022  December       PG-13     192   \n",
       "1  Guillermo del Toro's Pinocchio     7.6  2022  December          PG     117   \n",
       "\n",
       "                            Directors  \\\n",
       "0                       James Cameron   \n",
       "1  Guillermo del Toro, Mark Gustafson   \n",
       "\n",
       "                                               Stars  \\\n",
       "0  Sam Worthington, Zoe Saldana, Sigourney Weaver...   \n",
       "1  Ewan McGregor, David Bradley, Gregory Mann, Bu...   \n",
       "\n",
       "                        Genre Filming_location         Budget  \\\n",
       "0  Action, Adventure, Fantasy      New Zealand  $350,000,000    \n",
       "1    Animation, Drama, Family              USA   $35,000,000    \n",
       "\n",
       "            Income              Country_of_origin  \n",
       "0  $2,267,946,983                   United States  \n",
       "1        $108,967   United States, Mexico, France  "
      ]
     },
     "execution_count": 74,
     "metadata": {},
     "output_type": "execute_result"
    }
   ],
   "source": [
    "df.head(2)"
   ]
  },
  {
   "cell_type": "code",
   "execution_count": 75,
   "id": "103637ee",
   "metadata": {},
   "outputs": [
    {
     "name": "stdout",
     "output_type": "stream",
     "text": [
      "<class 'pandas.core.frame.DataFrame'>\n",
      "RangeIndex: 2000 entries, 0 to 1999\n",
      "Data columns (total 13 columns):\n",
      " #   Column             Non-Null Count  Dtype  \n",
      "---  ------             --------------  -----  \n",
      " 0   Title              2000 non-null   object \n",
      " 1   Rating             1999 non-null   float64\n",
      " 2   Year               2000 non-null   int64  \n",
      " 3   Month              2000 non-null   object \n",
      " 4   Certificate        1966 non-null   object \n",
      " 5   Runtime            2000 non-null   object \n",
      " 6   Directors          2000 non-null   object \n",
      " 7   Stars              2000 non-null   object \n",
      " 8   Genre              2000 non-null   object \n",
      " 9   Filming_location   2000 non-null   object \n",
      " 10  Budget             2000 non-null   object \n",
      " 11  Income             2000 non-null   object \n",
      " 12  Country_of_origin  2000 non-null   object \n",
      "dtypes: float64(1), int64(1), object(11)\n",
      "memory usage: 203.2+ KB\n"
     ]
    }
   ],
   "source": [
    "df.info()"
   ]
  },
  {
   "cell_type": "code",
   "execution_count": 76,
   "id": "85837db4",
   "metadata": {},
   "outputs": [
    {
     "data": {
      "text/html": [
       "<div>\n",
       "<style scoped>\n",
       "    .dataframe tbody tr th:only-of-type {\n",
       "        vertical-align: middle;\n",
       "    }\n",
       "\n",
       "    .dataframe tbody tr th {\n",
       "        vertical-align: top;\n",
       "    }\n",
       "\n",
       "    .dataframe thead th {\n",
       "        text-align: right;\n",
       "    }\n",
       "</style>\n",
       "<table border=\"1\" class=\"dataframe\">\n",
       "  <thead>\n",
       "    <tr style=\"text-align: right;\">\n",
       "      <th></th>\n",
       "      <th>Rating</th>\n",
       "      <th>Year</th>\n",
       "    </tr>\n",
       "  </thead>\n",
       "  <tbody>\n",
       "    <tr>\n",
       "      <th>count</th>\n",
       "      <td>1999.000000</td>\n",
       "      <td>2000.000000</td>\n",
       "    </tr>\n",
       "    <tr>\n",
       "      <th>mean</th>\n",
       "      <td>6.661631</td>\n",
       "      <td>2012.500000</td>\n",
       "    </tr>\n",
       "    <tr>\n",
       "      <th>std</th>\n",
       "      <td>0.911507</td>\n",
       "      <td>5.767723</td>\n",
       "    </tr>\n",
       "    <tr>\n",
       "      <th>min</th>\n",
       "      <td>1.900000</td>\n",
       "      <td>2003.000000</td>\n",
       "    </tr>\n",
       "    <tr>\n",
       "      <th>25%</th>\n",
       "      <td>6.100000</td>\n",
       "      <td>2007.750000</td>\n",
       "    </tr>\n",
       "    <tr>\n",
       "      <th>50%</th>\n",
       "      <td>6.700000</td>\n",
       "      <td>2012.500000</td>\n",
       "    </tr>\n",
       "    <tr>\n",
       "      <th>75%</th>\n",
       "      <td>7.300000</td>\n",
       "      <td>2017.250000</td>\n",
       "    </tr>\n",
       "    <tr>\n",
       "      <th>max</th>\n",
       "      <td>9.000000</td>\n",
       "      <td>2022.000000</td>\n",
       "    </tr>\n",
       "  </tbody>\n",
       "</table>\n",
       "</div>"
      ],
      "text/plain": [
       "            Rating         Year\n",
       "count  1999.000000  2000.000000\n",
       "mean      6.661631  2012.500000\n",
       "std       0.911507     5.767723\n",
       "min       1.900000  2003.000000\n",
       "25%       6.100000  2007.750000\n",
       "50%       6.700000  2012.500000\n",
       "75%       7.300000  2017.250000\n",
       "max       9.000000  2022.000000"
      ]
     },
     "execution_count": 76,
     "metadata": {},
     "output_type": "execute_result"
    }
   ],
   "source": [
    "df.describe()"
   ]
  },
  {
   "cell_type": "markdown",
   "id": "6bd15c09",
   "metadata": {},
   "source": [
    "### 1.Title"
   ]
  },
  {
   "cell_type": "markdown",
   "id": "bb1d7750",
   "metadata": {},
   "source": [
    "#### 1.1Unqiue/ Dupclicate values"
   ]
  },
  {
   "cell_type": "code",
   "execution_count": 77,
   "id": "244489e3",
   "metadata": {},
   "outputs": [],
   "source": [
    "num_unique_values = df['Title'].nunique()"
   ]
  },
  {
   "cell_type": "code",
   "execution_count": 78,
   "id": "9dcbabcf",
   "metadata": {},
   "outputs": [
    {
     "name": "stdout",
     "output_type": "stream",
     "text": [
      "1989\n"
     ]
    }
   ],
   "source": [
    "print(num_unique_values)"
   ]
  },
  {
   "cell_type": "markdown",
   "id": "c744dc7f",
   "metadata": {},
   "source": [
    "My first instict was to expect 2000 unique values for titles of movies.\n",
    "So I thought to just remove them from the dataset since I expect them to be duplicate data.\n",
    "But."
   ]
  },
  {
   "cell_type": "code",
   "execution_count": 79,
   "id": "f5af5258",
   "metadata": {},
   "outputs": [
    {
     "data": {
      "text/html": [
       "<div>\n",
       "<style scoped>\n",
       "    .dataframe tbody tr th:only-of-type {\n",
       "        vertical-align: middle;\n",
       "    }\n",
       "\n",
       "    .dataframe tbody tr th {\n",
       "        vertical-align: top;\n",
       "    }\n",
       "\n",
       "    .dataframe thead th {\n",
       "        text-align: right;\n",
       "    }\n",
       "</style>\n",
       "<table border=\"1\" class=\"dataframe\">\n",
       "  <thead>\n",
       "    <tr style=\"text-align: right;\">\n",
       "      <th></th>\n",
       "      <th>Title</th>\n",
       "      <th>Rating</th>\n",
       "      <th>Year</th>\n",
       "      <th>Month</th>\n",
       "      <th>Certificate</th>\n",
       "      <th>Runtime</th>\n",
       "      <th>Directors</th>\n",
       "      <th>Stars</th>\n",
       "      <th>Genre</th>\n",
       "      <th>Filming_location</th>\n",
       "      <th>Budget</th>\n",
       "      <th>Income</th>\n",
       "      <th>Country_of_origin</th>\n",
       "    </tr>\n",
       "  </thead>\n",
       "  <tbody>\n",
       "    <tr>\n",
       "      <th>1610</th>\n",
       "      <td>Black Christmas</td>\n",
       "      <td>4.6</td>\n",
       "      <td>2006</td>\n",
       "      <td>December</td>\n",
       "      <td>R</td>\n",
       "      <td>95</td>\n",
       "      <td>Glen Morgan</td>\n",
       "      <td>Michelle Trachtenberg, Mary Elizabeth Winstead...</td>\n",
       "      <td>Horror</td>\n",
       "      <td>Canada</td>\n",
       "      <td>$9,000,000</td>\n",
       "      <td>$21,510,851</td>\n",
       "      <td>Canada, United States</td>\n",
       "    </tr>\n",
       "    <tr>\n",
       "      <th>348</th>\n",
       "      <td>Black Christmas</td>\n",
       "      <td>3.5</td>\n",
       "      <td>2019</td>\n",
       "      <td>December</td>\n",
       "      <td>PG-13</td>\n",
       "      <td>92</td>\n",
       "      <td>Sophia Takal</td>\n",
       "      <td>Imogen Poots, Aleyse Shannon, Lily Donoghue, B...</td>\n",
       "      <td>Horror, Mystery, Thriller</td>\n",
       "      <td>New Zealand</td>\n",
       "      <td>$5,000,000</td>\n",
       "      <td>$18,529,730</td>\n",
       "      <td>United States, New Zealand, Canada</td>\n",
       "    </tr>\n",
       "    <tr>\n",
       "      <th>1746</th>\n",
       "      <td>Fantastic Four</td>\n",
       "      <td>5.7</td>\n",
       "      <td>2005</td>\n",
       "      <td>July</td>\n",
       "      <td>PG-13</td>\n",
       "      <td>106</td>\n",
       "      <td>Tim Story</td>\n",
       "      <td>Ioan Gruffudd, Michael Chiklis, Chris Evans, J...</td>\n",
       "      <td>Action, Adventure, Fantasy</td>\n",
       "      <td>Canada</td>\n",
       "      <td>$100,000,000</td>\n",
       "      <td>$333,535,934</td>\n",
       "      <td>Germany, United States</td>\n",
       "    </tr>\n",
       "    <tr>\n",
       "      <th>767</th>\n",
       "      <td>Fantastic Four</td>\n",
       "      <td>4.3</td>\n",
       "      <td>2015</td>\n",
       "      <td>August</td>\n",
       "      <td>PG-13</td>\n",
       "      <td>100</td>\n",
       "      <td>Josh Trank</td>\n",
       "      <td>Miles Teller, Kate Mara, Michael B Jordan, Jam...</td>\n",
       "      <td>Action, Adventure, Sci-Fi</td>\n",
       "      <td>USA</td>\n",
       "      <td>$120,000,000</td>\n",
       "      <td>$167,882,881</td>\n",
       "      <td>United States, Germany, United Kingdom</td>\n",
       "    </tr>\n",
       "    <tr>\n",
       "      <th>1263</th>\n",
       "      <td>Frozen</td>\n",
       "      <td>6.2</td>\n",
       "      <td>2010</td>\n",
       "      <td>March</td>\n",
       "      <td>R</td>\n",
       "      <td>93</td>\n",
       "      <td>Adam Green</td>\n",
       "      <td>Shawn Ashmore, Emma Bell, Kevin Zegers, Ed Ack...</td>\n",
       "      <td>Adventure, Drama, Mystery</td>\n",
       "      <td>USA</td>\n",
       "      <td>Unknown</td>\n",
       "      <td>$3,843,774</td>\n",
       "      <td>United States</td>\n",
       "    </tr>\n",
       "    <tr>\n",
       "      <th>903</th>\n",
       "      <td>Frozen</td>\n",
       "      <td>7.4</td>\n",
       "      <td>2013</td>\n",
       "      <td>November</td>\n",
       "      <td>PG</td>\n",
       "      <td>102</td>\n",
       "      <td>Chris Buck, Jennifer Lee</td>\n",
       "      <td>Kristen Bell, Idina Menzel, Jonathan Groff, Jo...</td>\n",
       "      <td>Animation, Adventure, Comedy</td>\n",
       "      <td>Norge</td>\n",
       "      <td>$150,000,000</td>\n",
       "      <td>$1,304,550,716</td>\n",
       "      <td>United States</td>\n",
       "    </tr>\n",
       "    <tr>\n",
       "      <th>357</th>\n",
       "      <td>Hellboy</td>\n",
       "      <td>5.2</td>\n",
       "      <td>2019</td>\n",
       "      <td>April</td>\n",
       "      <td>R</td>\n",
       "      <td>120</td>\n",
       "      <td>Neil Marshall</td>\n",
       "      <td>David Harbour, Milla Jovovich, Ian McShane, Sa...</td>\n",
       "      <td>Action, Adventure, Fantasy</td>\n",
       "      <td>Bulgaria</td>\n",
       "      <td>$50,000,000</td>\n",
       "      <td>$55,065,289</td>\n",
       "      <td>United States, United Kingdom, Bulgaria, Canad...</td>\n",
       "    </tr>\n",
       "    <tr>\n",
       "      <th>1843</th>\n",
       "      <td>Hellboy</td>\n",
       "      <td>6.8</td>\n",
       "      <td>2004</td>\n",
       "      <td>April</td>\n",
       "      <td>PG-13</td>\n",
       "      <td>122</td>\n",
       "      <td>Guillermo del Toro</td>\n",
       "      <td>Ron Perlman, Doug Jones, Selma Blair, John Hurt</td>\n",
       "      <td>Action, Adventure, Fantasy</td>\n",
       "      <td>Czech Republic</td>\n",
       "      <td>$66,000,000</td>\n",
       "      <td>$99,378,985</td>\n",
       "      <td>United States</td>\n",
       "    </tr>\n",
       "    <tr>\n",
       "      <th>1905</th>\n",
       "      <td>Oldboy</td>\n",
       "      <td>8.4</td>\n",
       "      <td>2003</td>\n",
       "      <td>November</td>\n",
       "      <td>R</td>\n",
       "      <td>120</td>\n",
       "      <td>Park Chan wook</td>\n",
       "      <td>Choi Min sik, Yoo Ji tae, Kang Hye jeong, Kim ...</td>\n",
       "      <td>Action, Drama, Mystery</td>\n",
       "      <td>South Korea</td>\n",
       "      <td>$3,000,000</td>\n",
       "      <td>$15,421,226</td>\n",
       "      <td>South Korea</td>\n",
       "    </tr>\n",
       "    <tr>\n",
       "      <th>920</th>\n",
       "      <td>Oldboy</td>\n",
       "      <td>5.8</td>\n",
       "      <td>2013</td>\n",
       "      <td>November</td>\n",
       "      <td>R</td>\n",
       "      <td>104</td>\n",
       "      <td>Spike Lee</td>\n",
       "      <td>Josh Brolin, Elizabeth Olsen, Samuel L Jackson...</td>\n",
       "      <td>Action, Drama, Mystery</td>\n",
       "      <td>USA</td>\n",
       "      <td>$30,000,000</td>\n",
       "      <td>$5,186,767</td>\n",
       "      <td>United States</td>\n",
       "    </tr>\n",
       "    <tr>\n",
       "      <th>26</th>\n",
       "      <td>Pinocchio</td>\n",
       "      <td>5.1</td>\n",
       "      <td>2022</td>\n",
       "      <td>September</td>\n",
       "      <td>PG</td>\n",
       "      <td>105</td>\n",
       "      <td>Robert Zemeckis</td>\n",
       "      <td>Joseph Gordon Levitt, Tom Hanks, Benjamin Evan...</td>\n",
       "      <td>Adventure, Comedy, Drama</td>\n",
       "      <td>Italy</td>\n",
       "      <td>$150,000,000</td>\n",
       "      <td>$37,353</td>\n",
       "      <td>United States</td>\n",
       "    </tr>\n",
       "    <tr>\n",
       "      <th>323</th>\n",
       "      <td>Pinocchio</td>\n",
       "      <td>6.2</td>\n",
       "      <td>2019</td>\n",
       "      <td>December</td>\n",
       "      <td>PG-13</td>\n",
       "      <td>125</td>\n",
       "      <td>Matteo Garrone</td>\n",
       "      <td>Federico Ielapi, Roberto Benigni, Rocco Papale...</td>\n",
       "      <td>Drama, Family, Fantasy</td>\n",
       "      <td>Italy</td>\n",
       "      <td>€ 14,750,000</td>\n",
       "      <td>$23,841,090</td>\n",
       "      <td>Italy, France, United Kingdom</td>\n",
       "    </tr>\n",
       "    <tr>\n",
       "      <th>1230</th>\n",
       "      <td>Robin Hood</td>\n",
       "      <td>6.6</td>\n",
       "      <td>2010</td>\n",
       "      <td>May</td>\n",
       "      <td>PG-13</td>\n",
       "      <td>140</td>\n",
       "      <td>Ridley Scott</td>\n",
       "      <td>Russell Crowe, Cate Blanchett, Matthew Macfady...</td>\n",
       "      <td>Action, Adventure, Drama</td>\n",
       "      <td>UK</td>\n",
       "      <td>$200,000,000</td>\n",
       "      <td>$321,669,741</td>\n",
       "      <td>United States, United Kingdom</td>\n",
       "    </tr>\n",
       "    <tr>\n",
       "      <th>442</th>\n",
       "      <td>Robin Hood</td>\n",
       "      <td>5.3</td>\n",
       "      <td>2018</td>\n",
       "      <td>November</td>\n",
       "      <td>PG-13</td>\n",
       "      <td>116</td>\n",
       "      <td>Otto Bathurst</td>\n",
       "      <td>Taron Egerton, Jamie Foxx, Ben Mendelsohn, Eve...</td>\n",
       "      <td>Action, Adventure, Drama</td>\n",
       "      <td>Croatia</td>\n",
       "      <td>$100,000,000</td>\n",
       "      <td>$86,493,046</td>\n",
       "      <td>United States</td>\n",
       "    </tr>\n",
       "    <tr>\n",
       "      <th>1065</th>\n",
       "      <td>Silent Night</td>\n",
       "      <td>5.2</td>\n",
       "      <td>2012</td>\n",
       "      <td>December</td>\n",
       "      <td>R</td>\n",
       "      <td>94</td>\n",
       "      <td>Steven C Miller</td>\n",
       "      <td>Malcolm McDowell, Jaime King, Donal Logue, Ric...</td>\n",
       "      <td>Comedy, Horror, Mystery</td>\n",
       "      <td>Canada</td>\n",
       "      <td>$5,000,000</td>\n",
       "      <td>$130,781</td>\n",
       "      <td>Canada, United States</td>\n",
       "    </tr>\n",
       "    <tr>\n",
       "      <th>139</th>\n",
       "      <td>Silent Night</td>\n",
       "      <td>5.7</td>\n",
       "      <td>2021</td>\n",
       "      <td>December</td>\n",
       "      <td>NaN</td>\n",
       "      <td>92</td>\n",
       "      <td>Camille Griffin</td>\n",
       "      <td>Keira Knightley, Matthew Goode, Roman Griffin ...</td>\n",
       "      <td>Comedy, Drama</td>\n",
       "      <td>Unknown</td>\n",
       "      <td>Unknown</td>\n",
       "      <td>$438,825</td>\n",
       "      <td>United Kingdom</td>\n",
       "    </tr>\n",
       "    <tr>\n",
       "      <th>1516</th>\n",
       "      <td>The Girl Next Door</td>\n",
       "      <td>6.5</td>\n",
       "      <td>2007</td>\n",
       "      <td>October</td>\n",
       "      <td>R</td>\n",
       "      <td>91</td>\n",
       "      <td>Gregory Wilson</td>\n",
       "      <td>William Atherton, Blythe Auffarth, Blanche Bak...</td>\n",
       "      <td>Crime, Drama, Horror</td>\n",
       "      <td>USA</td>\n",
       "      <td>Unknown</td>\n",
       "      <td>Unknown</td>\n",
       "      <td>United States</td>\n",
       "    </tr>\n",
       "    <tr>\n",
       "      <th>1808</th>\n",
       "      <td>The Girl Next Door</td>\n",
       "      <td>6.7</td>\n",
       "      <td>2004</td>\n",
       "      <td>April</td>\n",
       "      <td>R</td>\n",
       "      <td>109</td>\n",
       "      <td>Luke Greenfield</td>\n",
       "      <td>Emile Hirsch, Nicholas Downs, Elisha Cuthbert,...</td>\n",
       "      <td>Comedy, Drama, Romance</td>\n",
       "      <td>USA</td>\n",
       "      <td>$25,000,000</td>\n",
       "      <td>$30,381,722</td>\n",
       "      <td>United States</td>\n",
       "    </tr>\n",
       "    <tr>\n",
       "      <th>1113</th>\n",
       "      <td>The Girl with the Dragon Tattoo</td>\n",
       "      <td>7.8</td>\n",
       "      <td>2011</td>\n",
       "      <td>December</td>\n",
       "      <td>R</td>\n",
       "      <td>158</td>\n",
       "      <td>David Fincher</td>\n",
       "      <td>Daniel Craig, Rooney Mara, Christopher Plummer...</td>\n",
       "      <td>Crime, Drama, Mystery</td>\n",
       "      <td>Sweden</td>\n",
       "      <td>$90,000,000</td>\n",
       "      <td>$232,617,430</td>\n",
       "      <td>United States, Sweden, Norway</td>\n",
       "    </tr>\n",
       "    <tr>\n",
       "      <th>1355</th>\n",
       "      <td>The Girl with the Dragon Tattoo</td>\n",
       "      <td>7.8</td>\n",
       "      <td>2009</td>\n",
       "      <td>April</td>\n",
       "      <td>R</td>\n",
       "      <td>152</td>\n",
       "      <td>Niels Arden Oplev</td>\n",
       "      <td>Michael Nyqvist, Noomi Rapace, Ewa Fr ling, Le...</td>\n",
       "      <td>Crime, Drama, Mystery</td>\n",
       "      <td>Spain</td>\n",
       "      <td>$13,000,000</td>\n",
       "      <td>$104,414,200</td>\n",
       "      <td>Sweden, Denmark, Germany, Norway</td>\n",
       "    </tr>\n",
       "    <tr>\n",
       "      <th>228</th>\n",
       "      <td>The Hunt</td>\n",
       "      <td>6.5</td>\n",
       "      <td>2020</td>\n",
       "      <td>March</td>\n",
       "      <td>R</td>\n",
       "      <td>90</td>\n",
       "      <td>Craig Zobel</td>\n",
       "      <td>Betty Gilpin, Hilary Swank, Ike Barinholtz, Wa...</td>\n",
       "      <td>Action, Horror, Thriller</td>\n",
       "      <td>USA</td>\n",
       "      <td>$14,000,000</td>\n",
       "      <td>$10,550,350</td>\n",
       "      <td>United States, Japan, China</td>\n",
       "    </tr>\n",
       "    <tr>\n",
       "      <th>1007</th>\n",
       "      <td>The Hunt</td>\n",
       "      <td>8.3</td>\n",
       "      <td>2012</td>\n",
       "      <td>January</td>\n",
       "      <td>R</td>\n",
       "      <td>115</td>\n",
       "      <td>Thomas Vinterberg</td>\n",
       "      <td>Mads Mikkelsen, Thomas Bo Larsen, Annika Wedde...</td>\n",
       "      <td>Drama</td>\n",
       "      <td>Denmark</td>\n",
       "      <td>$3,800,000</td>\n",
       "      <td>$15,886,373</td>\n",
       "      <td>Denmark, Sweden</td>\n",
       "    </tr>\n",
       "  </tbody>\n",
       "</table>\n",
       "</div>"
      ],
      "text/plain": [
       "                                Title  Rating  Year      Month Certificate  \\\n",
       "1610                  Black Christmas     4.6  2006   December           R   \n",
       "348                   Black Christmas     3.5  2019   December       PG-13   \n",
       "1746                   Fantastic Four     5.7  2005       July       PG-13   \n",
       "767                    Fantastic Four     4.3  2015     August       PG-13   \n",
       "1263                           Frozen     6.2  2010      March           R   \n",
       "903                            Frozen     7.4  2013   November          PG   \n",
       "357                           Hellboy     5.2  2019      April           R   \n",
       "1843                          Hellboy     6.8  2004      April       PG-13   \n",
       "1905                           Oldboy     8.4  2003   November           R   \n",
       "920                            Oldboy     5.8  2013   November           R   \n",
       "26                          Pinocchio     5.1  2022  September          PG   \n",
       "323                         Pinocchio     6.2  2019   December       PG-13   \n",
       "1230                       Robin Hood     6.6  2010        May       PG-13   \n",
       "442                        Robin Hood     5.3  2018   November       PG-13   \n",
       "1065                     Silent Night     5.2  2012   December           R   \n",
       "139                      Silent Night     5.7  2021   December         NaN   \n",
       "1516               The Girl Next Door     6.5  2007    October           R   \n",
       "1808               The Girl Next Door     6.7  2004      April           R   \n",
       "1113  The Girl with the Dragon Tattoo     7.8  2011   December           R   \n",
       "1355  The Girl with the Dragon Tattoo     7.8  2009      April           R   \n",
       "228                          The Hunt     6.5  2020      March           R   \n",
       "1007                         The Hunt     8.3  2012    January           R   \n",
       "\n",
       "     Runtime                 Directors  \\\n",
       "1610      95               Glen Morgan   \n",
       "348       92              Sophia Takal   \n",
       "1746     106                 Tim Story   \n",
       "767      100                Josh Trank   \n",
       "1263      93                Adam Green   \n",
       "903      102  Chris Buck, Jennifer Lee   \n",
       "357      120             Neil Marshall   \n",
       "1843     122        Guillermo del Toro   \n",
       "1905     120            Park Chan wook   \n",
       "920      104                 Spike Lee   \n",
       "26       105           Robert Zemeckis   \n",
       "323      125            Matteo Garrone   \n",
       "1230     140              Ridley Scott   \n",
       "442      116             Otto Bathurst   \n",
       "1065      94           Steven C Miller   \n",
       "139       92           Camille Griffin   \n",
       "1516      91            Gregory Wilson   \n",
       "1808     109           Luke Greenfield   \n",
       "1113     158             David Fincher   \n",
       "1355     152         Niels Arden Oplev   \n",
       "228       90               Craig Zobel   \n",
       "1007     115         Thomas Vinterberg   \n",
       "\n",
       "                                                  Stars  \\\n",
       "1610  Michelle Trachtenberg, Mary Elizabeth Winstead...   \n",
       "348   Imogen Poots, Aleyse Shannon, Lily Donoghue, B...   \n",
       "1746  Ioan Gruffudd, Michael Chiklis, Chris Evans, J...   \n",
       "767   Miles Teller, Kate Mara, Michael B Jordan, Jam...   \n",
       "1263  Shawn Ashmore, Emma Bell, Kevin Zegers, Ed Ack...   \n",
       "903   Kristen Bell, Idina Menzel, Jonathan Groff, Jo...   \n",
       "357   David Harbour, Milla Jovovich, Ian McShane, Sa...   \n",
       "1843    Ron Perlman, Doug Jones, Selma Blair, John Hurt   \n",
       "1905  Choi Min sik, Yoo Ji tae, Kang Hye jeong, Kim ...   \n",
       "920   Josh Brolin, Elizabeth Olsen, Samuel L Jackson...   \n",
       "26    Joseph Gordon Levitt, Tom Hanks, Benjamin Evan...   \n",
       "323   Federico Ielapi, Roberto Benigni, Rocco Papale...   \n",
       "1230  Russell Crowe, Cate Blanchett, Matthew Macfady...   \n",
       "442   Taron Egerton, Jamie Foxx, Ben Mendelsohn, Eve...   \n",
       "1065  Malcolm McDowell, Jaime King, Donal Logue, Ric...   \n",
       "139   Keira Knightley, Matthew Goode, Roman Griffin ...   \n",
       "1516  William Atherton, Blythe Auffarth, Blanche Bak...   \n",
       "1808  Emile Hirsch, Nicholas Downs, Elisha Cuthbert,...   \n",
       "1113  Daniel Craig, Rooney Mara, Christopher Plummer...   \n",
       "1355  Michael Nyqvist, Noomi Rapace, Ewa Fr ling, Le...   \n",
       "228   Betty Gilpin, Hilary Swank, Ike Barinholtz, Wa...   \n",
       "1007  Mads Mikkelsen, Thomas Bo Larsen, Annika Wedde...   \n",
       "\n",
       "                             Genre Filming_location         Budget  \\\n",
       "1610                        Horror           Canada    $9,000,000    \n",
       "348      Horror, Mystery, Thriller      New Zealand    $5,000,000    \n",
       "1746    Action, Adventure, Fantasy           Canada  $100,000,000    \n",
       "767      Action, Adventure, Sci-Fi              USA  $120,000,000    \n",
       "1263     Adventure, Drama, Mystery              USA        Unknown   \n",
       "903   Animation, Adventure, Comedy            Norge  $150,000,000    \n",
       "357     Action, Adventure, Fantasy         Bulgaria   $50,000,000    \n",
       "1843    Action, Adventure, Fantasy   Czech Republic   $66,000,000    \n",
       "1905        Action, Drama, Mystery      South Korea    $3,000,000    \n",
       "920         Action, Drama, Mystery              USA   $30,000,000    \n",
       "26        Adventure, Comedy, Drama            Italy  $150,000,000    \n",
       "323         Drama, Family, Fantasy            Italy   € 14,750,000   \n",
       "1230      Action, Adventure, Drama               UK  $200,000,000    \n",
       "442       Action, Adventure, Drama          Croatia  $100,000,000    \n",
       "1065       Comedy, Horror, Mystery           Canada    $5,000,000    \n",
       "139                  Comedy, Drama          Unknown        Unknown   \n",
       "1516          Crime, Drama, Horror              USA        Unknown   \n",
       "1808        Comedy, Drama, Romance              USA   $25,000,000    \n",
       "1113         Crime, Drama, Mystery           Sweden   $90,000,000    \n",
       "1355         Crime, Drama, Mystery            Spain   $13,000,000    \n",
       "228       Action, Horror, Thriller              USA   $14,000,000    \n",
       "1007                         Drama          Denmark    $3,800,000    \n",
       "\n",
       "               Income                                  Country_of_origin  \n",
       "1610     $21,510,851                               Canada, United States  \n",
       "348      $18,529,730                  United States, New Zealand, Canada  \n",
       "1746    $333,535,934                              Germany, United States  \n",
       "767     $167,882,881              United States, Germany, United Kingdom  \n",
       "1263      $3,843,774                                       United States  \n",
       "903   $1,304,550,716                                       United States  \n",
       "357      $55,065,289   United States, United Kingdom, Bulgaria, Canad...  \n",
       "1843     $99,378,985                                       United States  \n",
       "1905     $15,421,226                                         South Korea  \n",
       "920       $5,186,767                                       United States  \n",
       "26           $37,353                                       United States  \n",
       "323      $23,841,090                       Italy, France, United Kingdom  \n",
       "1230    $321,669,741                       United States, United Kingdom  \n",
       "442      $86,493,046                                       United States  \n",
       "1065        $130,781                               Canada, United States  \n",
       "139         $438,825                                      United Kingdom  \n",
       "1516          Unknown                                      United States  \n",
       "1808     $30,381,722                                       United States  \n",
       "1113    $232,617,430                       United States, Sweden, Norway  \n",
       "1355    $104,414,200                    Sweden, Denmark, Germany, Norway  \n",
       "228      $10,550,350                         United States, Japan, China  \n",
       "1007     $15,886,373                                     Denmark, Sweden  "
      ]
     },
     "execution_count": 79,
     "metadata": {},
     "output_type": "execute_result"
    }
   ],
   "source": [
    "duplicates = df[df.duplicated(['Title'], keep=False)].sort_values(by=['Title'])\n",
    "\n",
    "duplicates"
   ]
  },
  {
   "cell_type": "markdown",
   "id": "92a60258",
   "metadata": {},
   "source": [
    "Looking at the duplicate movie titles we can quickly see that its totally diffrent movies that only share the title name and nothing else therefore no duplicate data and we can keep it.\n",
    "I do expect that we drop this column since we cant make in to numeric.\n",
    "Well, you could keep it and count the length of the title but I would say that shouldnt have an effect on the model and just be in the way."
   ]
  },
  {
   "cell_type": "markdown",
   "id": "084d634b",
   "metadata": {},
   "source": [
    "### 2.Rating"
   ]
  },
  {
   "cell_type": "markdown",
   "id": "00bcebc7",
   "metadata": {},
   "source": [
    "Rating of the movie, the user rates 0-10 and this it the average of that voting with 1 decimal. This is our y, the data that we want to predict. "
   ]
  },
  {
   "cell_type": "markdown",
   "id": "46622b31",
   "metadata": {},
   "source": [
    "#### 2.1 Missing data\n",
    "According to the info-function, there is one movie that doesn´t have a value. We cant do more than just drop that one from the dataset.\n",
    "\n"
   ]
  },
  {
   "cell_type": "code",
   "execution_count": 80,
   "id": "b98d21b6",
   "metadata": {},
   "outputs": [
    {
     "name": "stdout",
     "output_type": "stream",
     "text": [
      "<class 'pandas.core.frame.DataFrame'>\n",
      "Int64Index: 1999 entries, 0 to 1999\n",
      "Data columns (total 13 columns):\n",
      " #   Column             Non-Null Count  Dtype  \n",
      "---  ------             --------------  -----  \n",
      " 0   Title              1999 non-null   object \n",
      " 1   Rating             1999 non-null   float64\n",
      " 2   Year               1999 non-null   int64  \n",
      " 3   Month              1999 non-null   object \n",
      " 4   Certificate        1965 non-null   object \n",
      " 5   Runtime            1999 non-null   object \n",
      " 6   Directors          1999 non-null   object \n",
      " 7   Stars              1999 non-null   object \n",
      " 8   Genre              1999 non-null   object \n",
      " 9   Filming_location   1999 non-null   object \n",
      " 10  Budget             1999 non-null   object \n",
      " 11  Income             1999 non-null   object \n",
      " 12  Country_of_origin  1999 non-null   object \n",
      "dtypes: float64(1), int64(1), object(11)\n",
      "memory usage: 218.6+ KB\n"
     ]
    }
   ],
   "source": [
    "df = df.dropna(subset=['Rating'])\n",
    "\n",
    "\n",
    "#A quick check to see that the row was removed from the dataset\n",
    "df.info()\n"
   ]
  },
  {
   "cell_type": "markdown",
   "id": "769a9de5",
   "metadata": {},
   "source": [
    "Since this is what our model is gonna predict, I dont want to do more here. The type is float64, which tells us that all values is numeric and can be decimal and since imdb is ratings from 0-10 with decimals this seems correct. One thing to consider would be to 10x all the values in ratings and convert the column to an int since that will be quicker to work with.\n",
    "Actually wann quick check that all the values is between 0 and 10."
   ]
  },
  {
   "cell_type": "markdown",
   "id": "d4efcba8",
   "metadata": {},
   "source": [
    "#### 2.2 Check the data is within expected range"
   ]
  },
  {
   "cell_type": "code",
   "execution_count": 81,
   "id": "0bd4d0e0",
   "metadata": {},
   "outputs": [],
   "source": [
    "# Count how many values are between 0 and 10 (inclusive)\n",
    "column_values = df['Rating']\n",
    "count = column_values.between(0, 10).sum()"
   ]
  },
  {
   "cell_type": "code",
   "execution_count": 82,
   "id": "45b67d7d",
   "metadata": {
    "scrolled": true
   },
   "outputs": [
    {
     "name": "stdout",
     "output_type": "stream",
     "text": [
      "1999\n"
     ]
    }
   ],
   "source": [
    "print(count)"
   ]
  },
  {
   "cell_type": "markdown",
   "id": "f61b0189",
   "metadata": {},
   "source": [
    "Our orginial dataset consistet of 2000 rows and we dropped one with missing values so 1999 was what we expected and hoped for. \n"
   ]
  },
  {
   "cell_type": "markdown",
   "id": "afc68b96",
   "metadata": {},
   "source": [
    "### 3.Year"
   ]
  },
  {
   "cell_type": "markdown",
   "id": "e9301c30",
   "metadata": {},
   "source": [
    "#### 3.1 Check the data is within expected range"
   ]
  },
  {
   "cell_type": "code",
   "execution_count": 83,
   "id": "9a9c5684",
   "metadata": {},
   "outputs": [],
   "source": [
    "# Count how many values are between 0 and 10 (inclusive)\n",
    "column_values = df['Year']\n",
    "count = column_values.between(2002, 2023).sum()"
   ]
  },
  {
   "cell_type": "code",
   "execution_count": 84,
   "id": "df40d244",
   "metadata": {},
   "outputs": [
    {
     "name": "stdout",
     "output_type": "stream",
     "text": [
      "1999\n"
     ]
    }
   ],
   "source": [
    "print(count)"
   ]
  },
  {
   "cell_type": "markdown",
   "id": "39028f0d",
   "metadata": {},
   "source": [
    "The type of the column is int which make sense aswell."
   ]
  },
  {
   "cell_type": "markdown",
   "id": "480ebc71",
   "metadata": {},
   "source": [
    "### 4.Month"
   ]
  },
  {
   "cell_type": "markdown",
   "id": "e6787c99",
   "metadata": {},
   "source": [
    "#### 4.1 Unqiue/ Dupclicate values\n",
    "\n"
   ]
  },
  {
   "cell_type": "code",
   "execution_count": 85,
   "id": "b9a57851",
   "metadata": {},
   "outputs": [
    {
     "name": "stdout",
     "output_type": "stream",
     "text": [
      "['December' 'August' 'November' 'October' 'March' 'September' 'May'\n",
      " 'April' 'January' 'July' 'June' 'February' '2014' '2008']\n"
     ]
    }
   ],
   "source": [
    "column_values = df['Month'].unique()\n",
    "print(column_values)"
   ]
  },
  {
   "cell_type": "markdown",
   "id": "293b520a",
   "metadata": {},
   "source": [
    "Seeing two values that I didnt expect,  2014 and 2018. Start with checking number of times they appear."
   ]
  },
  {
   "cell_type": "code",
   "execution_count": 86,
   "id": "7dcea137",
   "metadata": {},
   "outputs": [
    {
     "name": "stdout",
     "output_type": "stream",
     "text": [
      "1\n"
     ]
    }
   ],
   "source": [
    "# Count the number of times a specific string value occurs in a column\n",
    "count = df['Month'].value_counts()['2014']\n",
    "print(count)"
   ]
  },
  {
   "cell_type": "code",
   "execution_count": 87,
   "id": "54aa9ece",
   "metadata": {},
   "outputs": [
    {
     "name": "stdout",
     "output_type": "stream",
     "text": [
      "1\n"
     ]
    }
   ],
   "source": [
    "# Count the number of times a specific string value occurs in a column\n",
    "count = df['Month'].value_counts()['2008']\n",
    "print(count)"
   ]
  },
  {
   "cell_type": "markdown",
   "id": "db774378",
   "metadata": {},
   "source": [
    "Since they just occurs one time each in the Month-column I suggest we drop them since 2/ 1999 rows one impact our size of dataset especcially much and not seeing it beeing the worth the time to save"
   ]
  },
  {
   "cell_type": "code",
   "execution_count": 88,
   "id": "b95b2906",
   "metadata": {},
   "outputs": [],
   "source": [
    "df = df.drop(index=df.loc[df['Month'] == '2014'].index)\n",
    "df = df.drop(index=df.loc[df['Month'] == '2008'].index)"
   ]
  },
  {
   "cell_type": "code",
   "execution_count": 89,
   "id": "4c6f983e",
   "metadata": {},
   "outputs": [
    {
     "name": "stdout",
     "output_type": "stream",
     "text": [
      "<class 'pandas.core.frame.DataFrame'>\n",
      "Int64Index: 1997 entries, 0 to 1999\n",
      "Data columns (total 13 columns):\n",
      " #   Column             Non-Null Count  Dtype  \n",
      "---  ------             --------------  -----  \n",
      " 0   Title              1997 non-null   object \n",
      " 1   Rating             1997 non-null   float64\n",
      " 2   Year               1997 non-null   int64  \n",
      " 3   Month              1997 non-null   object \n",
      " 4   Certificate        1964 non-null   object \n",
      " 5   Runtime            1997 non-null   object \n",
      " 6   Directors          1997 non-null   object \n",
      " 7   Stars              1997 non-null   object \n",
      " 8   Genre              1997 non-null   object \n",
      " 9   Filming_location   1997 non-null   object \n",
      " 10  Budget             1997 non-null   object \n",
      " 11  Income             1997 non-null   object \n",
      " 12  Country_of_origin  1997 non-null   object \n",
      "dtypes: float64(1), int64(1), object(11)\n",
      "memory usage: 218.4+ KB\n"
     ]
    }
   ],
   "source": [
    "#checking the rows have been dropped\n",
    "df.info()"
   ]
  },
  {
   "cell_type": "code",
   "execution_count": 90,
   "id": "e1ea1a12",
   "metadata": {},
   "outputs": [
    {
     "name": "stdout",
     "output_type": "stream",
     "text": [
      "['December' 'August' 'November' 'October' 'March' 'September' 'May'\n",
      " 'April' 'January' 'July' 'June' 'February']\n"
     ]
    }
   ],
   "source": [
    "column_values = df['Month'].unique()\n",
    "print(column_values)"
   ]
  },
  {
   "cell_type": "markdown",
   "id": "5002a679",
   "metadata": {},
   "source": [
    "#### 4.2 Converting non-numeric to numeric values\n",
    "\n"
   ]
  },
  {
   "cell_type": "code",
   "execution_count": 91,
   "id": "ef01fb4a",
   "metadata": {},
   "outputs": [],
   "source": [
    "# Define a dictionary to map months to integers\n",
    "month_to_int = {'January': 1, 'February': 2, 'March': 3, 'April': 4, 'May': 5, 'June': 6,\n",
    "                'July': 7, 'August': 8, 'September': 9, 'October': 10, 'November': 11, 'December': 12}\n",
    "\n",
    "# Apply the map() method to convert the values\n",
    "df['Month'] = df['Month'].map(month_to_int)\n",
    "\n",
    "# Convert the type of the column to int\n",
    "df['Month'] = df['Month'].astype(int)"
   ]
  },
  {
   "cell_type": "code",
   "execution_count": 92,
   "id": "1f64868d",
   "metadata": {},
   "outputs": [
    {
     "name": "stdout",
     "output_type": "stream",
     "text": [
      "<class 'pandas.core.frame.DataFrame'>\n",
      "Int64Index: 1997 entries, 0 to 1999\n",
      "Data columns (total 13 columns):\n",
      " #   Column             Non-Null Count  Dtype  \n",
      "---  ------             --------------  -----  \n",
      " 0   Title              1997 non-null   object \n",
      " 1   Rating             1997 non-null   float64\n",
      " 2   Year               1997 non-null   int64  \n",
      " 3   Month              1997 non-null   int64  \n",
      " 4   Certificate        1964 non-null   object \n",
      " 5   Runtime            1997 non-null   object \n",
      " 6   Directors          1997 non-null   object \n",
      " 7   Stars              1997 non-null   object \n",
      " 8   Genre              1997 non-null   object \n",
      " 9   Filming_location   1997 non-null   object \n",
      " 10  Budget             1997 non-null   object \n",
      " 11  Income             1997 non-null   object \n",
      " 12  Country_of_origin  1997 non-null   object \n",
      "dtypes: float64(1), int64(2), object(10)\n",
      "memory usage: 218.4+ KB\n"
     ]
    }
   ],
   "source": [
    "#checking the month-values has been rplaced by 1-12 and the column converted to int\n",
    "df.info()"
   ]
  },
  {
   "cell_type": "code",
   "execution_count": 93,
   "id": "20dd9459",
   "metadata": {},
   "outputs": [
    {
     "name": "stdout",
     "output_type": "stream",
     "text": [
      "[ 1  2  3  4  5  6  7  8  9 10 11 12]\n"
     ]
    }
   ],
   "source": [
    "column_values = df['Month'].unique()\n",
    "column_values.sort()\n",
    "print(column_values)"
   ]
  },
  {
   "cell_type": "markdown",
   "id": "03c6dde0",
   "metadata": {},
   "source": [
    "### 5.Certificate"
   ]
  },
  {
   "cell_type": "code",
   "execution_count": 94,
   "id": "4da2e9cf",
   "metadata": {},
   "outputs": [
    {
     "name": "stdout",
     "output_type": "stream",
     "text": [
      "<class 'pandas.core.frame.DataFrame'>\n",
      "Int64Index: 1997 entries, 0 to 1999\n",
      "Data columns (total 13 columns):\n",
      " #   Column             Non-Null Count  Dtype  \n",
      "---  ------             --------------  -----  \n",
      " 0   Title              1997 non-null   object \n",
      " 1   Rating             1997 non-null   float64\n",
      " 2   Year               1997 non-null   int64  \n",
      " 3   Month              1997 non-null   int64  \n",
      " 4   Certificate        1964 non-null   object \n",
      " 5   Runtime            1997 non-null   object \n",
      " 6   Directors          1997 non-null   object \n",
      " 7   Stars              1997 non-null   object \n",
      " 8   Genre              1997 non-null   object \n",
      " 9   Filming_location   1997 non-null   object \n",
      " 10  Budget             1997 non-null   object \n",
      " 11  Income             1997 non-null   object \n",
      " 12  Country_of_origin  1997 non-null   object \n",
      "dtypes: float64(1), int64(2), object(10)\n",
      "memory usage: 218.4+ KB\n"
     ]
    }
   ],
   "source": [
    "df.info()"
   ]
  },
  {
   "cell_type": "code",
   "execution_count": 95,
   "id": "221126ee",
   "metadata": {},
   "outputs": [],
   "source": [
    "### 5.1 Unique values"
   ]
  },
  {
   "cell_type": "code",
   "execution_count": 96,
   "id": "378c6ef4",
   "metadata": {},
   "outputs": [],
   "source": [
    "# Get all unique values of a column\n",
    "unique_values = df['Certificate'].unique()"
   ]
  },
  {
   "cell_type": "code",
   "execution_count": 97,
   "id": "e308438f",
   "metadata": {},
   "outputs": [
    {
     "name": "stdout",
     "output_type": "stream",
     "text": [
      "['PG-13' 'PG' 'R' 'TV-14' 'TV-MA' 'TV-PG' 'TV-Y7' 'Not Rated' nan 'NC-17'\n",
      " 'TV-G' 'Unrated' 'G']\n"
     ]
    }
   ],
   "source": [
    "print(unique_values)"
   ]
  },
  {
   "cell_type": "code",
   "execution_count": 98,
   "id": "5ebd78bd",
   "metadata": {},
   "outputs": [
    {
     "name": "stdout",
     "output_type": "stream",
     "text": [
      "R            867\n",
      "PG-13        712\n",
      "PG           225\n",
      "Not Rated     61\n",
      "TV-MA         40\n",
      "NaN           33\n",
      "G             22\n",
      "TV-14         12\n",
      "TV-PG          9\n",
      "NC-17          6\n",
      "Unrated        6\n",
      "TV-G           3\n",
      "TV-Y7          1\n",
      "Name: Certificate, dtype: int64\n",
      "Total: 1997\n"
     ]
    }
   ],
   "source": [
    "# Get the count of each unique value in the column, including missing values\n",
    "value_counts = df['Certificate'].value_counts(dropna=False)\n",
    "\n",
    "# Print the value counts\n",
    "print(value_counts)\n",
    "\n",
    "# Calculate the sum of the counts and print the total\n",
    "total = value_counts.sum()\n",
    "print(f'Total: {total}')"
   ]
  },
  {
   "cell_type": "markdown",
   "id": "3949b45c",
   "metadata": {},
   "source": [
    "A couple of things. Tree columns stand out.\n",
    "Not Rated     61   --- probably takes a while from a movie is realsed until it gets rated. Make sense that this mostly consists of movies from the past year\n",
    "NaN           32   --- not sure how to replace\n",
    "Unrated        6   --- not sure how to replace\n",
    "\n",
    "At this point Im not sure how to replace the missing values and w/ ca 100 rows w/ diffrent kind of missing values its a bit much to drop them.\n",
    "My conclusion is to drop the whole column.\n"
   ]
  },
  {
   "cell_type": "markdown",
   "id": "2407917e",
   "metadata": {},
   "source": [
    "### 6.Runtime"
   ]
  },
  {
   "cell_type": "markdown",
   "id": "95bdf4da",
   "metadata": {},
   "source": [
    "#### 6.1 Check non numeric"
   ]
  },
  {
   "cell_type": "code",
   "execution_count": 99,
   "id": "972fc673",
   "metadata": {},
   "outputs": [
    {
     "name": "stdout",
     "output_type": "stream",
     "text": [
      "  Non-Numeric Value  Count\n",
      "0           Unknown      1\n"
     ]
    }
   ],
   "source": [
    "#Checking non numeric values\n",
    "check_non_numeric_values(df, \"Runtime\")"
   ]
  },
  {
   "cell_type": "code",
   "execution_count": 100,
   "id": "b7adde2f",
   "metadata": {},
   "outputs": [],
   "source": [
    "df = df.drop(index=df.loc[df['Runtime'] == 'Unknown'].index)"
   ]
  },
  {
   "cell_type": "code",
   "execution_count": 101,
   "id": "5f52b4ba",
   "metadata": {},
   "outputs": [
    {
     "name": "stdout",
     "output_type": "stream",
     "text": [
      "<class 'pandas.core.frame.DataFrame'>\n",
      "Int64Index: 1996 entries, 0 to 1999\n",
      "Data columns (total 13 columns):\n",
      " #   Column             Non-Null Count  Dtype  \n",
      "---  ------             --------------  -----  \n",
      " 0   Title              1996 non-null   object \n",
      " 1   Rating             1996 non-null   float64\n",
      " 2   Year               1996 non-null   int64  \n",
      " 3   Month              1996 non-null   int64  \n",
      " 4   Certificate        1964 non-null   object \n",
      " 5   Runtime            1996 non-null   object \n",
      " 6   Directors          1996 non-null   object \n",
      " 7   Stars              1996 non-null   object \n",
      " 8   Genre              1996 non-null   object \n",
      " 9   Filming_location   1996 non-null   object \n",
      " 10  Budget             1996 non-null   object \n",
      " 11  Income             1996 non-null   object \n",
      " 12  Country_of_origin  1996 non-null   object \n",
      "dtypes: float64(1), int64(2), object(10)\n",
      "memory usage: 218.3+ KB\n"
     ]
    }
   ],
   "source": [
    "#check that the row has been dropped\n",
    "df.info()"
   ]
  },
  {
   "cell_type": "code",
   "execution_count": 102,
   "id": "bec1c4e2",
   "metadata": {},
   "outputs": [],
   "source": [
    "#converting the type of the column to int\n",
    "df['Runtime'] = df['Runtime'].astype(int)"
   ]
  },
  {
   "cell_type": "code",
   "execution_count": 103,
   "id": "4ee85269",
   "metadata": {},
   "outputs": [
    {
     "name": "stdout",
     "output_type": "stream",
     "text": [
      "<class 'pandas.core.frame.DataFrame'>\n",
      "Int64Index: 1996 entries, 0 to 1999\n",
      "Data columns (total 13 columns):\n",
      " #   Column             Non-Null Count  Dtype  \n",
      "---  ------             --------------  -----  \n",
      " 0   Title              1996 non-null   object \n",
      " 1   Rating             1996 non-null   float64\n",
      " 2   Year               1996 non-null   int64  \n",
      " 3   Month              1996 non-null   int64  \n",
      " 4   Certificate        1964 non-null   object \n",
      " 5   Runtime            1996 non-null   int64  \n",
      " 6   Directors          1996 non-null   object \n",
      " 7   Stars              1996 non-null   object \n",
      " 8   Genre              1996 non-null   object \n",
      " 9   Filming_location   1996 non-null   object \n",
      " 10  Budget             1996 non-null   object \n",
      " 11  Income             1996 non-null   object \n",
      " 12  Country_of_origin  1996 non-null   object \n",
      "dtypes: float64(1), int64(3), object(9)\n",
      "memory usage: 218.3+ KB\n"
     ]
    }
   ],
   "source": [
    "#checking the type has been changed\n",
    "df.info()"
   ]
  },
  {
   "cell_type": "markdown",
   "id": "9cef797e",
   "metadata": {},
   "source": [
    "check for outliers, since movies should maybe have a range from 30-250min isch.\n",
    "So if i found values >30 or over 300 min I can assumme that something is wrong and drop them"
   ]
  },
  {
   "cell_type": "code",
   "execution_count": 104,
   "id": "d4590d4e",
   "metadata": {},
   "outputs": [],
   "source": [
    "# Count how many values are between 0 and 10 (inclusive)\n",
    "column_values = df['Runtime']\n",
    "count = column_values.between(30, 300).sum()"
   ]
  },
  {
   "cell_type": "code",
   "execution_count": 105,
   "id": "cf6710f9",
   "metadata": {},
   "outputs": [
    {
     "name": "stdout",
     "output_type": "stream",
     "text": [
      "1996\n"
     ]
    }
   ],
   "source": [
    "print(count)"
   ]
  },
  {
   "cell_type": "markdown",
   "id": "4a6b4ed7",
   "metadata": {},
   "source": [
    "Seems all remaining rows has a value between 30-300min which is good news."
   ]
  },
  {
   "cell_type": "markdown",
   "id": "2fd1326d",
   "metadata": {},
   "source": [
    "### 7.Directors"
   ]
  },
  {
   "cell_type": "code",
   "execution_count": 106,
   "id": "b29d50c9",
   "metadata": {},
   "outputs": [
    {
     "name": "stdout",
     "output_type": "stream",
     "text": [
      "<class 'pandas.core.frame.DataFrame'>\n",
      "Int64Index: 1996 entries, 0 to 1999\n",
      "Data columns (total 13 columns):\n",
      " #   Column             Non-Null Count  Dtype  \n",
      "---  ------             --------------  -----  \n",
      " 0   Title              1996 non-null   object \n",
      " 1   Rating             1996 non-null   float64\n",
      " 2   Year               1996 non-null   int64  \n",
      " 3   Month              1996 non-null   int64  \n",
      " 4   Certificate        1964 non-null   object \n",
      " 5   Runtime            1996 non-null   int64  \n",
      " 6   Directors          1996 non-null   object \n",
      " 7   Stars              1996 non-null   object \n",
      " 8   Genre              1996 non-null   object \n",
      " 9   Filming_location   1996 non-null   object \n",
      " 10  Budget             1996 non-null   object \n",
      " 11  Income             1996 non-null   object \n",
      " 12  Country_of_origin  1996 non-null   object \n",
      "dtypes: float64(1), int64(3), object(9)\n",
      "memory usage: 218.3+ KB\n"
     ]
    }
   ],
   "source": [
    "df.info()"
   ]
  },
  {
   "cell_type": "code",
   "execution_count": 107,
   "id": "86a7515a",
   "metadata": {},
   "outputs": [],
   "source": [
    "#calling the function\n",
    "#df = one_hot_coding_binary(df, \"Directors\", \"top_50_director\", \"Name\", \"C:/Users/admin1/Documents/GitHub/ds22_project/data/top_50_directors.csv\", num_categories=4, drop_original=True)\n",
    "df = one_hot_coding_binary(df, \"Directors\", \"top_50_director\", \"Name\", \"./data/top_50_directors.csv\", num_categories=2, drop_original=False)\n"
   ]
  },
  {
   "cell_type": "code",
   "execution_count": 108,
   "id": "f04699cd",
   "metadata": {},
   "outputs": [
    {
     "data": {
      "text/html": [
       "<div>\n",
       "<style scoped>\n",
       "    .dataframe tbody tr th:only-of-type {\n",
       "        vertical-align: middle;\n",
       "    }\n",
       "\n",
       "    .dataframe tbody tr th {\n",
       "        vertical-align: top;\n",
       "    }\n",
       "\n",
       "    .dataframe thead th {\n",
       "        text-align: right;\n",
       "    }\n",
       "</style>\n",
       "<table border=\"1\" class=\"dataframe\">\n",
       "  <thead>\n",
       "    <tr style=\"text-align: right;\">\n",
       "      <th></th>\n",
       "      <th>Title</th>\n",
       "      <th>Rating</th>\n",
       "      <th>Year</th>\n",
       "      <th>Month</th>\n",
       "      <th>Certificate</th>\n",
       "      <th>Runtime</th>\n",
       "      <th>Directors</th>\n",
       "      <th>Stars</th>\n",
       "      <th>Genre</th>\n",
       "      <th>Filming_location</th>\n",
       "      <th>Budget</th>\n",
       "      <th>Income</th>\n",
       "      <th>Country_of_origin</th>\n",
       "      <th>top_50_director_1</th>\n",
       "      <th>top_50_director_2</th>\n",
       "    </tr>\n",
       "  </thead>\n",
       "  <tbody>\n",
       "    <tr>\n",
       "      <th>0</th>\n",
       "      <td>Avatar: The Way of Water</td>\n",
       "      <td>7.8</td>\n",
       "      <td>2022</td>\n",
       "      <td>12</td>\n",
       "      <td>PG-13</td>\n",
       "      <td>192</td>\n",
       "      <td>James Cameron</td>\n",
       "      <td>Sam Worthington, Zoe Saldana, Sigourney Weaver...</td>\n",
       "      <td>Action, Adventure, Fantasy</td>\n",
       "      <td>New Zealand</td>\n",
       "      <td>$350,000,000</td>\n",
       "      <td>$2,267,946,983</td>\n",
       "      <td>United States</td>\n",
       "      <td>1</td>\n",
       "      <td>0</td>\n",
       "    </tr>\n",
       "    <tr>\n",
       "      <th>1</th>\n",
       "      <td>Guillermo del Toro's Pinocchio</td>\n",
       "      <td>7.6</td>\n",
       "      <td>2022</td>\n",
       "      <td>12</td>\n",
       "      <td>PG</td>\n",
       "      <td>117</td>\n",
       "      <td>Guillermo del Toro, Mark Gustafson</td>\n",
       "      <td>Ewan McGregor, David Bradley, Gregory Mann, Bu...</td>\n",
       "      <td>Animation, Drama, Family</td>\n",
       "      <td>USA</td>\n",
       "      <td>$35,000,000</td>\n",
       "      <td>$108,967</td>\n",
       "      <td>United States, Mexico, France</td>\n",
       "      <td>1</td>\n",
       "      <td>0</td>\n",
       "    </tr>\n",
       "    <tr>\n",
       "      <th>2</th>\n",
       "      <td>Bullet Train</td>\n",
       "      <td>7.3</td>\n",
       "      <td>2022</td>\n",
       "      <td>8</td>\n",
       "      <td>R</td>\n",
       "      <td>127</td>\n",
       "      <td>David Leitch</td>\n",
       "      <td>Brad Pitt, Joey King, Aaron Taylor Johnson, Br...</td>\n",
       "      <td>Action, Comedy, Thriller</td>\n",
       "      <td>Japan</td>\n",
       "      <td>$85,900,000</td>\n",
       "      <td>$239,268,602</td>\n",
       "      <td>Japan, United States</td>\n",
       "      <td>0</td>\n",
       "      <td>0</td>\n",
       "    </tr>\n",
       "    <tr>\n",
       "      <th>3</th>\n",
       "      <td>The Banshees of Inisherin</td>\n",
       "      <td>7.8</td>\n",
       "      <td>2022</td>\n",
       "      <td>11</td>\n",
       "      <td>R</td>\n",
       "      <td>114</td>\n",
       "      <td>Martin McDonagh</td>\n",
       "      <td>Colin Farrell, Brendan Gleeson, Kerry Condon, ...</td>\n",
       "      <td>Comedy, Drama</td>\n",
       "      <td>Ireland</td>\n",
       "      <td>Unknown</td>\n",
       "      <td>$19,720,823</td>\n",
       "      <td>Ireland, United Kingdom, United States</td>\n",
       "      <td>0</td>\n",
       "      <td>0</td>\n",
       "    </tr>\n",
       "    <tr>\n",
       "      <th>4</th>\n",
       "      <td>M3gan</td>\n",
       "      <td>6.4</td>\n",
       "      <td>2022</td>\n",
       "      <td>12</td>\n",
       "      <td>PG-13</td>\n",
       "      <td>102</td>\n",
       "      <td>Gerard Johnstone</td>\n",
       "      <td>Jenna Davis, Amie Donald, Allison Williams, Vi...</td>\n",
       "      <td>Horror, Sci-Fi, Thriller</td>\n",
       "      <td>New Zealand</td>\n",
       "      <td>$12,000,000</td>\n",
       "      <td>$171,253,910</td>\n",
       "      <td>United States</td>\n",
       "      <td>0</td>\n",
       "      <td>0</td>\n",
       "    </tr>\n",
       "  </tbody>\n",
       "</table>\n",
       "</div>"
      ],
      "text/plain": [
       "                            Title  Rating  Year  Month Certificate  Runtime  \\\n",
       "0        Avatar: The Way of Water     7.8  2022     12       PG-13      192   \n",
       "1  Guillermo del Toro's Pinocchio     7.6  2022     12          PG      117   \n",
       "2                    Bullet Train     7.3  2022      8           R      127   \n",
       "3       The Banshees of Inisherin     7.8  2022     11           R      114   \n",
       "4                           M3gan     6.4  2022     12       PG-13      102   \n",
       "\n",
       "                            Directors  \\\n",
       "0                       James Cameron   \n",
       "1  Guillermo del Toro, Mark Gustafson   \n",
       "2                        David Leitch   \n",
       "3                     Martin McDonagh   \n",
       "4                    Gerard Johnstone   \n",
       "\n",
       "                                               Stars  \\\n",
       "0  Sam Worthington, Zoe Saldana, Sigourney Weaver...   \n",
       "1  Ewan McGregor, David Bradley, Gregory Mann, Bu...   \n",
       "2  Brad Pitt, Joey King, Aaron Taylor Johnson, Br...   \n",
       "3  Colin Farrell, Brendan Gleeson, Kerry Condon, ...   \n",
       "4  Jenna Davis, Amie Donald, Allison Williams, Vi...   \n",
       "\n",
       "                        Genre Filming_location         Budget  \\\n",
       "0  Action, Adventure, Fantasy      New Zealand  $350,000,000    \n",
       "1    Animation, Drama, Family              USA   $35,000,000    \n",
       "2    Action, Comedy, Thriller            Japan   $85,900,000    \n",
       "3               Comedy, Drama          Ireland        Unknown   \n",
       "4    Horror, Sci-Fi, Thriller      New Zealand   $12,000,000    \n",
       "\n",
       "            Income                       Country_of_origin  top_50_director_1  \\\n",
       "0  $2,267,946,983                            United States                  1   \n",
       "1        $108,967            United States, Mexico, France                  1   \n",
       "2    $239,268,602                     Japan, United States                  0   \n",
       "3     $19,720,823   Ireland, United Kingdom, United States                  0   \n",
       "4    $171,253,910                            United States                  0   \n",
       "\n",
       "   top_50_director_2  \n",
       "0                  0  \n",
       "1                  0  \n",
       "2                  0  \n",
       "3                  0  \n",
       "4                  0  "
      ]
     },
     "execution_count": 108,
     "metadata": {},
     "output_type": "execute_result"
    }
   ],
   "source": [
    "df.head()"
   ]
  },
  {
   "cell_type": "code",
   "execution_count": 109,
   "id": "0068c276",
   "metadata": {},
   "outputs": [
    {
     "name": "stdout",
     "output_type": "stream",
     "text": [
      "<class 'pandas.core.frame.DataFrame'>\n",
      "Int64Index: 1996 entries, 0 to 1999\n",
      "Data columns (total 15 columns):\n",
      " #   Column             Non-Null Count  Dtype  \n",
      "---  ------             --------------  -----  \n",
      " 0   Title              1996 non-null   object \n",
      " 1   Rating             1996 non-null   float64\n",
      " 2   Year               1996 non-null   int64  \n",
      " 3   Month              1996 non-null   int64  \n",
      " 4   Certificate        1964 non-null   object \n",
      " 5   Runtime            1996 non-null   int64  \n",
      " 6   Directors          1996 non-null   object \n",
      " 7   Stars              1996 non-null   object \n",
      " 8   Genre              1996 non-null   object \n",
      " 9   Filming_location   1996 non-null   object \n",
      " 10  Budget             1996 non-null   object \n",
      " 11  Income             1996 non-null   object \n",
      " 12  Country_of_origin  1996 non-null   object \n",
      " 13  top_50_director_1  1996 non-null   int64  \n",
      " 14  top_50_director_2  1996 non-null   int64  \n",
      "dtypes: float64(1), int64(5), object(9)\n",
      "memory usage: 249.5+ KB\n"
     ]
    }
   ],
   "source": [
    "df.info()"
   ]
  },
  {
   "cell_type": "code",
   "execution_count": 112,
   "id": "7c0f118e",
   "metadata": {},
   "outputs": [
    {
     "data": {
      "text/html": [
       "<div>\n",
       "<style scoped>\n",
       "    .dataframe tbody tr th:only-of-type {\n",
       "        vertical-align: middle;\n",
       "    }\n",
       "\n",
       "    .dataframe tbody tr th {\n",
       "        vertical-align: top;\n",
       "    }\n",
       "\n",
       "    .dataframe thead th {\n",
       "        text-align: right;\n",
       "    }\n",
       "</style>\n",
       "<table border=\"1\" class=\"dataframe\">\n",
       "  <thead>\n",
       "    <tr style=\"text-align: right;\">\n",
       "      <th></th>\n",
       "      <th>director_one</th>\n",
       "      <th>director_two</th>\n",
       "    </tr>\n",
       "  </thead>\n",
       "  <tbody>\n",
       "    <tr>\n",
       "      <th>0</th>\n",
       "      <td>190</td>\n",
       "      <td>7</td>\n",
       "    </tr>\n",
       "  </tbody>\n",
       "</table>\n",
       "</div>"
      ],
      "text/plain": [
       "   director_one  director_two\n",
       "0           190             7"
      ]
     },
     "execution_count": 112,
     "metadata": {},
     "output_type": "execute_result"
    }
   ],
   "source": [
    "#checking sum of each row\n",
    "director_one = df['top_50_director_1'].sum()\n",
    "director_two = df['top_50_director_2'].sum()\n",
    "# director_three = df['top_50_director_3'].sum()\n",
    "# director_four = df['top_50_director_4'].sum()\n",
    "\n",
    "\n",
    "#df_directors = pd.DataFrame({'director_one': [director_one], 'director_two': [director_two], 'director_three': [director_three], 'director_four': [director_four]})\n",
    "df_directors = pd.DataFrame({'director_one': [director_one], 'director_two': [director_two]})\n",
    "\n",
    "df_directors.head()\n"
   ]
  },
  {
   "cell_type": "markdown",
   "id": "f8fb9107",
   "metadata": {},
   "source": [
    "### 8.Stars"
   ]
  },
  {
   "cell_type": "code",
   "execution_count": 113,
   "id": "fa2ad135",
   "metadata": {},
   "outputs": [
    {
     "data": {
      "text/html": [
       "<div>\n",
       "<style scoped>\n",
       "    .dataframe tbody tr th:only-of-type {\n",
       "        vertical-align: middle;\n",
       "    }\n",
       "\n",
       "    .dataframe tbody tr th {\n",
       "        vertical-align: top;\n",
       "    }\n",
       "\n",
       "    .dataframe thead th {\n",
       "        text-align: right;\n",
       "    }\n",
       "</style>\n",
       "<table border=\"1\" class=\"dataframe\">\n",
       "  <thead>\n",
       "    <tr style=\"text-align: right;\">\n",
       "      <th></th>\n",
       "      <th>Title</th>\n",
       "      <th>Rating</th>\n",
       "      <th>Year</th>\n",
       "      <th>Month</th>\n",
       "      <th>Certificate</th>\n",
       "      <th>Runtime</th>\n",
       "      <th>Directors</th>\n",
       "      <th>Stars</th>\n",
       "      <th>Genre</th>\n",
       "      <th>Filming_location</th>\n",
       "      <th>Budget</th>\n",
       "      <th>Income</th>\n",
       "      <th>Country_of_origin</th>\n",
       "      <th>top_50_director_1</th>\n",
       "      <th>top_50_director_2</th>\n",
       "    </tr>\n",
       "  </thead>\n",
       "  <tbody>\n",
       "    <tr>\n",
       "      <th>0</th>\n",
       "      <td>Avatar: The Way of Water</td>\n",
       "      <td>7.8</td>\n",
       "      <td>2022</td>\n",
       "      <td>12</td>\n",
       "      <td>PG-13</td>\n",
       "      <td>192</td>\n",
       "      <td>James Cameron</td>\n",
       "      <td>Sam Worthington, Zoe Saldana, Sigourney Weaver...</td>\n",
       "      <td>Action, Adventure, Fantasy</td>\n",
       "      <td>New Zealand</td>\n",
       "      <td>$350,000,000</td>\n",
       "      <td>$2,267,946,983</td>\n",
       "      <td>United States</td>\n",
       "      <td>1</td>\n",
       "      <td>0</td>\n",
       "    </tr>\n",
       "    <tr>\n",
       "      <th>1</th>\n",
       "      <td>Guillermo del Toro's Pinocchio</td>\n",
       "      <td>7.6</td>\n",
       "      <td>2022</td>\n",
       "      <td>12</td>\n",
       "      <td>PG</td>\n",
       "      <td>117</td>\n",
       "      <td>Guillermo del Toro, Mark Gustafson</td>\n",
       "      <td>Ewan McGregor, David Bradley, Gregory Mann, Bu...</td>\n",
       "      <td>Animation, Drama, Family</td>\n",
       "      <td>USA</td>\n",
       "      <td>$35,000,000</td>\n",
       "      <td>$108,967</td>\n",
       "      <td>United States, Mexico, France</td>\n",
       "      <td>1</td>\n",
       "      <td>0</td>\n",
       "    </tr>\n",
       "  </tbody>\n",
       "</table>\n",
       "</div>"
      ],
      "text/plain": [
       "                            Title  Rating  Year  Month Certificate  Runtime  \\\n",
       "0        Avatar: The Way of Water     7.8  2022     12       PG-13      192   \n",
       "1  Guillermo del Toro's Pinocchio     7.6  2022     12          PG      117   \n",
       "\n",
       "                            Directors  \\\n",
       "0                       James Cameron   \n",
       "1  Guillermo del Toro, Mark Gustafson   \n",
       "\n",
       "                                               Stars  \\\n",
       "0  Sam Worthington, Zoe Saldana, Sigourney Weaver...   \n",
       "1  Ewan McGregor, David Bradley, Gregory Mann, Bu...   \n",
       "\n",
       "                        Genre Filming_location         Budget  \\\n",
       "0  Action, Adventure, Fantasy      New Zealand  $350,000,000    \n",
       "1    Animation, Drama, Family              USA   $35,000,000    \n",
       "\n",
       "            Income              Country_of_origin  top_50_director_1  \\\n",
       "0  $2,267,946,983                   United States                  1   \n",
       "1        $108,967   United States, Mexico, France                  1   \n",
       "\n",
       "   top_50_director_2  \n",
       "0                  0  \n",
       "1                  0  "
      ]
     },
     "execution_count": 113,
     "metadata": {},
     "output_type": "execute_result"
    }
   ],
   "source": [
    "df.head(2)"
   ]
  },
  {
   "cell_type": "code",
   "execution_count": 114,
   "id": "6ac8d7a7",
   "metadata": {},
   "outputs": [
    {
     "name": "stdout",
     "output_type": "stream",
     "text": [
      "<class 'pandas.core.frame.DataFrame'>\n",
      "Int64Index: 1996 entries, 0 to 1999\n",
      "Data columns (total 15 columns):\n",
      " #   Column             Non-Null Count  Dtype  \n",
      "---  ------             --------------  -----  \n",
      " 0   Title              1996 non-null   object \n",
      " 1   Rating             1996 non-null   float64\n",
      " 2   Year               1996 non-null   int64  \n",
      " 3   Month              1996 non-null   int64  \n",
      " 4   Certificate        1964 non-null   object \n",
      " 5   Runtime            1996 non-null   int64  \n",
      " 6   Directors          1996 non-null   object \n",
      " 7   Stars              1996 non-null   object \n",
      " 8   Genre              1996 non-null   object \n",
      " 9   Filming_location   1996 non-null   object \n",
      " 10  Budget             1996 non-null   object \n",
      " 11  Income             1996 non-null   object \n",
      " 12  Country_of_origin  1996 non-null   object \n",
      " 13  top_50_director_1  1996 non-null   int64  \n",
      " 14  top_50_director_2  1996 non-null   int64  \n",
      "dtypes: float64(1), int64(5), object(9)\n",
      "memory usage: 249.5+ KB\n"
     ]
    }
   ],
   "source": [
    "df.info()"
   ]
  },
  {
   "cell_type": "code",
   "execution_count": null,
   "id": "d912b9ea",
   "metadata": {},
   "outputs": [],
   "source": [
    "# Splitting stars"
   ]
  },
  {
   "cell_type": "code",
   "execution_count": 115,
   "id": "fba4accb",
   "metadata": {},
   "outputs": [],
   "source": [
    "#calling the function\n",
    "#df = one_hot_coding_binary(df, \"Stars\", \"top_1000_Stars\", \"Name\", \"C:/Users/admin1/Documents/GitHub/ds22_project/data/top_1000_actors.csv\", num_categories=4, drop_original=True)\n",
    "df = one_hot_coding_binary(df, \"Directors\", \"top_1000_stars\", \"Name\", \"./data/top_1000_actors.csv\", num_categories=2, drop_original=False)\n"
   ]
  },
  {
   "cell_type": "code",
   "execution_count": 116,
   "id": "7df38a27",
   "metadata": {},
   "outputs": [
    {
     "data": {
      "text/html": [
       "<div>\n",
       "<style scoped>\n",
       "    .dataframe tbody tr th:only-of-type {\n",
       "        vertical-align: middle;\n",
       "    }\n",
       "\n",
       "    .dataframe tbody tr th {\n",
       "        vertical-align: top;\n",
       "    }\n",
       "\n",
       "    .dataframe thead th {\n",
       "        text-align: right;\n",
       "    }\n",
       "</style>\n",
       "<table border=\"1\" class=\"dataframe\">\n",
       "  <thead>\n",
       "    <tr style=\"text-align: right;\">\n",
       "      <th></th>\n",
       "      <th>Title</th>\n",
       "      <th>Rating</th>\n",
       "      <th>Year</th>\n",
       "      <th>Month</th>\n",
       "      <th>Certificate</th>\n",
       "      <th>Runtime</th>\n",
       "      <th>Directors</th>\n",
       "      <th>Stars</th>\n",
       "      <th>Genre</th>\n",
       "      <th>Filming_location</th>\n",
       "      <th>Budget</th>\n",
       "      <th>Income</th>\n",
       "      <th>Country_of_origin</th>\n",
       "      <th>top_50_director_1</th>\n",
       "      <th>top_50_director_2</th>\n",
       "      <th>top_1000_stars_1</th>\n",
       "      <th>top_1000_stars_2</th>\n",
       "    </tr>\n",
       "  </thead>\n",
       "  <tbody>\n",
       "    <tr>\n",
       "      <th>0</th>\n",
       "      <td>Avatar: The Way of Water</td>\n",
       "      <td>7.8</td>\n",
       "      <td>2022</td>\n",
       "      <td>12</td>\n",
       "      <td>PG-13</td>\n",
       "      <td>192</td>\n",
       "      <td>James Cameron</td>\n",
       "      <td>Sam Worthington, Zoe Saldana, Sigourney Weaver...</td>\n",
       "      <td>Action, Adventure, Fantasy</td>\n",
       "      <td>New Zealand</td>\n",
       "      <td>$350,000,000</td>\n",
       "      <td>$2,267,946,983</td>\n",
       "      <td>United States</td>\n",
       "      <td>1</td>\n",
       "      <td>0</td>\n",
       "      <td>0</td>\n",
       "      <td>0</td>\n",
       "    </tr>\n",
       "    <tr>\n",
       "      <th>1</th>\n",
       "      <td>Guillermo del Toro's Pinocchio</td>\n",
       "      <td>7.6</td>\n",
       "      <td>2022</td>\n",
       "      <td>12</td>\n",
       "      <td>PG</td>\n",
       "      <td>117</td>\n",
       "      <td>Guillermo del Toro, Mark Gustafson</td>\n",
       "      <td>Ewan McGregor, David Bradley, Gregory Mann, Bu...</td>\n",
       "      <td>Animation, Drama, Family</td>\n",
       "      <td>USA</td>\n",
       "      <td>$35,000,000</td>\n",
       "      <td>$108,967</td>\n",
       "      <td>United States, Mexico, France</td>\n",
       "      <td>1</td>\n",
       "      <td>0</td>\n",
       "      <td>0</td>\n",
       "      <td>0</td>\n",
       "    </tr>\n",
       "  </tbody>\n",
       "</table>\n",
       "</div>"
      ],
      "text/plain": [
       "                            Title  Rating  Year  Month Certificate  Runtime  \\\n",
       "0        Avatar: The Way of Water     7.8  2022     12       PG-13      192   \n",
       "1  Guillermo del Toro's Pinocchio     7.6  2022     12          PG      117   \n",
       "\n",
       "                            Directors  \\\n",
       "0                       James Cameron   \n",
       "1  Guillermo del Toro, Mark Gustafson   \n",
       "\n",
       "                                               Stars  \\\n",
       "0  Sam Worthington, Zoe Saldana, Sigourney Weaver...   \n",
       "1  Ewan McGregor, David Bradley, Gregory Mann, Bu...   \n",
       "\n",
       "                        Genre Filming_location         Budget  \\\n",
       "0  Action, Adventure, Fantasy      New Zealand  $350,000,000    \n",
       "1    Animation, Drama, Family              USA   $35,000,000    \n",
       "\n",
       "            Income              Country_of_origin  top_50_director_1  \\\n",
       "0  $2,267,946,983                   United States                  1   \n",
       "1        $108,967   United States, Mexico, France                  1   \n",
       "\n",
       "   top_50_director_2  top_1000_stars_1  top_1000_stars_2  \n",
       "0                  0                 0                 0  \n",
       "1                  0                 0                 0  "
      ]
     },
     "execution_count": 116,
     "metadata": {},
     "output_type": "execute_result"
    }
   ],
   "source": [
    "df.head(2)"
   ]
  },
  {
   "cell_type": "code",
   "execution_count": null,
   "id": "f6b14356",
   "metadata": {},
   "outputs": [],
   "source": [
    "df.info()"
   ]
  },
  {
   "cell_type": "markdown",
   "id": "fcf218d8",
   "metadata": {},
   "source": [
    "### 9.Genre"
   ]
  },
  {
   "cell_type": "code",
   "execution_count": null,
   "id": "43bcbf77",
   "metadata": {},
   "outputs": [],
   "source": [
    "df.info()"
   ]
  },
  {
   "cell_type": "code",
   "execution_count": null,
   "id": "f04cbd93",
   "metadata": {},
   "outputs": [],
   "source": [
    "#one hot encoding the column Genre\n",
    "df = one_hot_encoding_column(df, \"Genre\", separator=\", \", prefix = \"\")"
   ]
  },
  {
   "cell_type": "code",
   "execution_count": null,
   "id": "4b86f854",
   "metadata": {},
   "outputs": [],
   "source": [
    "#checking new dataset\n",
    "df.info()\n",
    "df.head(2)"
   ]
  },
  {
   "cell_type": "markdown",
   "id": "9dace6cd",
   "metadata": {},
   "source": [
    "### 10.Filmning_location"
   ]
  },
  {
   "cell_type": "code",
   "execution_count": null,
   "id": "fc171c85",
   "metadata": {},
   "outputs": [],
   "source": [
    "df.info()"
   ]
  },
  {
   "cell_type": "code",
   "execution_count": null,
   "id": "52e2348a",
   "metadata": {},
   "outputs": [],
   "source": [
    "df.head(2)"
   ]
  },
  {
   "cell_type": "code",
   "execution_count": null,
   "id": "a3669ba8",
   "metadata": {},
   "outputs": [],
   "source": [
    "# assume that `df` is your pandas DataFrame object\n",
    "column_values = df['Filming_location'].value_counts().sort_values(ascending=False)\n",
    "print(column_values)"
   ]
  },
  {
   "cell_type": "code",
   "execution_count": null,
   "id": "d0e903d8",
   "metadata": {},
   "outputs": [],
   "source": [
    "#Seeing 75 movies with Unknown filming_location. How can we replace them? and seeing 97 unique filming locations.\n",
    "#We we´re discussing if movies mostly are beeing done w/ green screen.\n",
    "#maybe remove the whole column?\n",
    "\n",
    "#one hot encoding the column Filming_location\n",
    "#df = one_hot_encoding_column(df, \"Filming_location\", separator=\", \", prefix = \"\")"
   ]
  },
  {
   "cell_type": "markdown",
   "id": "7267812b",
   "metadata": {},
   "source": [
    "### 11.Budget"
   ]
  },
  {
   "cell_type": "code",
   "execution_count": null,
   "id": "1809786d",
   "metadata": {},
   "outputs": [],
   "source": [
    "df.head(4)"
   ]
  },
  {
   "cell_type": "code",
   "execution_count": null,
   "id": "06a48e09",
   "metadata": {},
   "outputs": [],
   "source": [
    "#1.1 convert to USD and strip of non numeric characters\n",
    "df['Budget'] = df['Budget'].apply(convert_to_usd)"
   ]
  },
  {
   "cell_type": "code",
   "execution_count": null,
   "id": "7c02a26a",
   "metadata": {},
   "outputs": [],
   "source": [
    "#check the change\n",
    "df.head(4)"
   ]
  },
  {
   "cell_type": "code",
   "execution_count": null,
   "id": "8324ceff",
   "metadata": {},
   "outputs": [],
   "source": [
    "df.info()"
   ]
  },
  {
   "cell_type": "code",
   "execution_count": null,
   "id": "db418d3e",
   "metadata": {},
   "outputs": [],
   "source": [
    "#1.2 --- calc with inflation\n",
    "# Call the function to get the inflation-adjusted values for the \"value\" column\n",
    "df = adjust_for_inflation(df, \"Budget\", \"Year\", \"Budget_inf\", drop_original=True)"
   ]
  },
  {
   "cell_type": "code",
   "execution_count": null,
   "id": "84e29fa9",
   "metadata": {},
   "outputs": [],
   "source": [
    "#checking the change\n",
    "df.head(4)"
   ]
  },
  {
   "cell_type": "code",
   "execution_count": null,
   "id": "05e6e4fe",
   "metadata": {},
   "outputs": [],
   "source": [
    "df.info()"
   ]
  },
  {
   "cell_type": "code",
   "execution_count": null,
   "id": "6821f3e3",
   "metadata": {},
   "outputs": [],
   "source": [
    "#1.3 check the mean and median of the column /value of 0 is not a part of the calculation\n",
    "get_mean_median_for_column(df, \"Budget_inf\")"
   ]
  },
  {
   "cell_type": "code",
   "execution_count": null,
   "id": "dde03983",
   "metadata": {},
   "outputs": [],
   "source": [
    "#1.4 replace missing values w/ mean or median\n",
    "df = replace_missing_values(df, \"Budget_inf\", stat='median')"
   ]
  },
  {
   "cell_type": "code",
   "execution_count": null,
   "id": "77984524",
   "metadata": {},
   "outputs": [],
   "source": [
    "#check the changes"
   ]
  },
  {
   "cell_type": "code",
   "execution_count": null,
   "id": "6f783150",
   "metadata": {},
   "outputs": [],
   "source": [
    "df.head(4)"
   ]
  },
  {
   "cell_type": "code",
   "execution_count": null,
   "id": "b53ede9c",
   "metadata": {},
   "outputs": [],
   "source": [
    "df.info()"
   ]
  },
  {
   "cell_type": "markdown",
   "id": "d786cd9e",
   "metadata": {},
   "source": [
    "### 12.Income"
   ]
  },
  {
   "cell_type": "code",
   "execution_count": null,
   "id": "f21f2e82",
   "metadata": {},
   "outputs": [],
   "source": [
    "df.head(4)"
   ]
  },
  {
   "cell_type": "code",
   "execution_count": null,
   "id": "3bcdc9af",
   "metadata": {},
   "outputs": [],
   "source": [
    "#1.1 convert to USD and strip of non numeric characters\n",
    "df['Income'] = df['Income'].apply(convert_to_usd)"
   ]
  },
  {
   "cell_type": "code",
   "execution_count": null,
   "id": "75641e66",
   "metadata": {},
   "outputs": [],
   "source": [
    "df.head(4)"
   ]
  },
  {
   "cell_type": "code",
   "execution_count": null,
   "id": "ee72de60",
   "metadata": {},
   "outputs": [],
   "source": [
    "#1.2 --- calc with inflation\n",
    "# Call the function to get the inflation-adjusted values for the \"value\" column\n",
    "df = adjust_for_inflation(df, \"Income\", \"Year\", \"Income_inf\", drop_original=True)"
   ]
  },
  {
   "cell_type": "code",
   "execution_count": null,
   "id": "297c6580",
   "metadata": {},
   "outputs": [],
   "source": [
    "df.head(4)"
   ]
  },
  {
   "cell_type": "code",
   "execution_count": null,
   "id": "acd83c67",
   "metadata": {},
   "outputs": [],
   "source": [
    "#1.3 check the mean and median of the column\n",
    "get_mean_median_for_column(df, \"Income_inf\")"
   ]
  },
  {
   "cell_type": "code",
   "execution_count": null,
   "id": "d914fe30",
   "metadata": {},
   "outputs": [],
   "source": [
    "df.head(4)"
   ]
  },
  {
   "cell_type": "code",
   "execution_count": null,
   "id": "b867d078",
   "metadata": {},
   "outputs": [],
   "source": [
    "#1.4 replace missing values w/ mean or median\n",
    "df = replace_missing_values(df, \"Income_inf\", stat='mean')"
   ]
  },
  {
   "attachments": {},
   "cell_type": "markdown",
   "id": "62ba9d4f",
   "metadata": {},
   "source": [
    "### 13.Country_of_origin"
   ]
  },
  {
   "cell_type": "code",
   "execution_count": null,
   "id": "f0fbb59b",
   "metadata": {},
   "outputs": [],
   "source": [
    "df.info()"
   ]
  },
  {
   "cell_type": "code",
   "execution_count": null,
   "id": "302d6c4c",
   "metadata": {},
   "outputs": [],
   "source": [
    "df.head(2)"
   ]
  },
  {
   "cell_type": "code",
   "execution_count": null,
   "id": "c114bb05",
   "metadata": {},
   "outputs": [],
   "source": [
    "#one hot encoding the column Genre\n",
    "df = one_hot_encoding_column(df, \"Country_of_origin\", separator=\", \", prefix = \"\")"
   ]
  },
  {
   "cell_type": "code",
   "execution_count": null,
   "id": "a24b20db",
   "metadata": {},
   "outputs": [],
   "source": [
    "df.info()"
   ]
  },
  {
   "cell_type": "code",
   "execution_count": null,
   "id": "ee9c497c",
   "metadata": {},
   "outputs": [],
   "source": [
    "df.head(2)"
   ]
  },
  {
   "attachments": {},
   "cell_type": "markdown",
   "id": "7f3882c0",
   "metadata": {},
   "source": [
    "### 14.Scraping IMDb for more data"
   ]
  },
  {
   "cell_type": "code",
   "execution_count": 118,
   "id": "50553db3",
   "metadata": {},
   "outputs": [],
   "source": [
    "# 1. Creating a new column 'director' with the first value of 'Directors'\n",
    "df['director'] = df['Directors'].fillna('').str.split(',', expand=True)[0]"
   ]
  },
  {
   "cell_type": "code",
   "execution_count": 127,
   "id": "09e32c8b",
   "metadata": {},
   "outputs": [
    {
     "name": "stdout",
     "output_type": "stream",
     "text": [
      "0\n",
      "1\n",
      "2\n",
      "3\n",
      "4\n",
      "5\n",
      "6\n",
      "7\n",
      "8\n",
      "9\n",
      "10\n",
      "11\n",
      "12\n",
      "13\n",
      "14\n",
      "15\n",
      "16\n",
      "17\n",
      "18\n",
      "19\n",
      "20\n",
      "21\n",
      "22\n",
      "23\n",
      "24\n",
      "25\n",
      "26\n",
      "27\n",
      "28\n",
      "29\n",
      "30\n",
      "31\n",
      "32\n",
      "33\n",
      "34\n",
      "35\n",
      "36\n",
      "37\n",
      "38\n",
      "39\n",
      "40\n",
      "41\n",
      "42\n",
      "43\n",
      "44\n",
      "45\n",
      "46\n",
      "47\n",
      "48\n",
      "49\n",
      "50\n",
      "51\n",
      "52\n",
      "53\n",
      "54\n",
      "55\n",
      "56\n"
     ]
    },
    {
     "name": "stderr",
     "output_type": "stream",
     "text": [
      "/Users/vedabojar/opt/anaconda3/lib/python3.9/site-packages/numpy/core/fromnumeric.py:3464: RuntimeWarning: Mean of empty slice.\n",
      "  return _methods._mean(a, axis=axis, dtype=dtype,\n",
      "/Users/vedabojar/opt/anaconda3/lib/python3.9/site-packages/numpy/core/_methods.py:192: RuntimeWarning: invalid value encountered in scalar divide\n",
      "  ret = ret.dtype.type(ret / rcount)\n"
     ]
    },
    {
     "name": "stdout",
     "output_type": "stream",
     "text": [
      "57\n",
      "58\n",
      "59\n",
      "60\n",
      "61\n",
      "62\n",
      "63\n",
      "64\n",
      "65\n",
      "66\n",
      "67\n",
      "68\n",
      "69\n",
      "70\n",
      "71\n",
      "72\n",
      "73\n",
      "74\n",
      "75\n",
      "76\n",
      "77\n",
      "78\n",
      "79\n",
      "80\n",
      "81\n",
      "82\n",
      "83\n",
      "84\n",
      "86\n",
      "87\n",
      "88\n",
      "89\n",
      "90\n",
      "91\n",
      "92\n",
      "93\n",
      "94\n",
      "95\n",
      "96\n",
      "97\n",
      "98\n",
      "99\n",
      "100\n",
      "101\n",
      "102\n",
      "103\n",
      "104\n",
      "105\n"
     ]
    },
    {
     "ename": "IndexError",
     "evalue": "list index out of range",
     "output_type": "error",
     "traceback": [
      "\u001b[0;31m---------------------------------------------------------------------------\u001b[0m",
      "\u001b[0;31mIndexError\u001b[0m                                Traceback (most recent call last)",
      "\u001b[1;32m/Users/vedabojar/Desktop/DataScience/06_datascience_projekt/ds22_project/main.ipynb Cell 133\u001b[0m in \u001b[0;36m<cell line: 1>\u001b[0;34m()\u001b[0m\n\u001b[0;32m----> <a href='vscode-notebook-cell:/Users/vedabojar/Desktop/DataScience/06_datascience_projekt/ds22_project/main.ipynb#Y255sZmlsZQ%3D%3D?line=0'>1</a>\u001b[0m searching_IMDb_person(\u001b[39m'\u001b[39;49m\u001b[39mdirector\u001b[39;49m\u001b[39m'\u001b[39;49m, df, \u001b[39m'\u001b[39;49m\u001b[39mdirector\u001b[39;49m\u001b[39m'\u001b[39;49m)\n",
      "\u001b[1;32m/Users/vedabojar/Desktop/DataScience/06_datascience_projekt/ds22_project/main.ipynb Cell 133\u001b[0m in \u001b[0;36msearching_IMDb_person\u001b[0;34m(name_column, dataset, person_type)\u001b[0m\n\u001b[1;32m     <a href='vscode-notebook-cell:/Users/vedabojar/Desktop/DataScience/06_datascience_projekt/ds22_project/main.ipynb#Y255sZmlsZQ%3D%3D?line=19'>20</a>\u001b[0m \u001b[39m# Fetch the IMDb name results based on the person's name\u001b[39;00m\n\u001b[1;32m     <a href='vscode-notebook-cell:/Users/vedabojar/Desktop/DataScience/06_datascience_projekt/ds22_project/main.ipynb#Y255sZmlsZQ%3D%3D?line=20'>21</a>\u001b[0m name_search \u001b[39m=\u001b[39m ia\u001b[39m.\u001b[39msearch_person(name)\n\u001b[0;32m---> <a href='vscode-notebook-cell:/Users/vedabojar/Desktop/DataScience/06_datascience_projekt/ds22_project/main.ipynb#Y255sZmlsZQ%3D%3D?line=21'>22</a>\u001b[0m person_id \u001b[39m=\u001b[39m name_search[\u001b[39m0\u001b[39;49m]\u001b[39m.\u001b[39mgetID()\n\u001b[1;32m     <a href='vscode-notebook-cell:/Users/vedabojar/Desktop/DataScience/06_datascience_projekt/ds22_project/main.ipynb#Y255sZmlsZQ%3D%3D?line=23'>24</a>\u001b[0m \u001b[39m# Awards and Nominations\u001b[39;00m\n\u001b[1;32m     <a href='vscode-notebook-cell:/Users/vedabojar/Desktop/DataScience/06_datascience_projekt/ds22_project/main.ipynb#Y255sZmlsZQ%3D%3D?line=24'>25</a>\u001b[0m \u001b[39m# Make a request to the URL and get the HTML content\u001b[39;00m\n\u001b[1;32m     <a href='vscode-notebook-cell:/Users/vedabojar/Desktop/DataScience/06_datascience_projekt/ds22_project/main.ipynb#Y255sZmlsZQ%3D%3D?line=25'>26</a>\u001b[0m awards_req \u001b[39m=\u001b[39m Request(\n\u001b[1;32m     <a href='vscode-notebook-cell:/Users/vedabojar/Desktop/DataScience/06_datascience_projekt/ds22_project/main.ipynb#Y255sZmlsZQ%3D%3D?line=26'>27</a>\u001b[0m     url \u001b[39m=\u001b[39m \u001b[39mf\u001b[39m\u001b[39m'\u001b[39m\u001b[39mhttps://www.imdb.com/name/nm\u001b[39m\u001b[39m{\u001b[39;00mperson_id\u001b[39m}\u001b[39;00m\u001b[39m/awards/?ref_=nm_awd\u001b[39m\u001b[39m'\u001b[39m, \n\u001b[1;32m     <a href='vscode-notebook-cell:/Users/vedabojar/Desktop/DataScience/06_datascience_projekt/ds22_project/main.ipynb#Y255sZmlsZQ%3D%3D?line=27'>28</a>\u001b[0m     headers\u001b[39m=\u001b[39m{\u001b[39m'\u001b[39m\u001b[39mUser-Agent\u001b[39m\u001b[39m'\u001b[39m: \u001b[39m'\u001b[39m\u001b[39mMozilla/5.0\u001b[39m\u001b[39m'\u001b[39m}\n\u001b[1;32m     <a href='vscode-notebook-cell:/Users/vedabojar/Desktop/DataScience/06_datascience_projekt/ds22_project/main.ipynb#Y255sZmlsZQ%3D%3D?line=28'>29</a>\u001b[0m )\n",
      "\u001b[0;31mIndexError\u001b[0m: list index out of range"
     ]
    }
   ],
   "source": [
    "searching_IMDb_person('director', df, 'director')"
   ]
  },
  {
   "cell_type": "code",
   "execution_count": 129,
   "id": "19dfcf02",
   "metadata": {},
   "outputs": [
    {
     "data": {
      "text/html": [
       "<div>\n",
       "<style scoped>\n",
       "    .dataframe tbody tr th:only-of-type {\n",
       "        vertical-align: middle;\n",
       "    }\n",
       "\n",
       "    .dataframe tbody tr th {\n",
       "        vertical-align: top;\n",
       "    }\n",
       "\n",
       "    .dataframe thead th {\n",
       "        text-align: right;\n",
       "    }\n",
       "</style>\n",
       "<table border=\"1\" class=\"dataframe\">\n",
       "  <thead>\n",
       "    <tr style=\"text-align: right;\">\n",
       "      <th></th>\n",
       "      <th>Title</th>\n",
       "      <th>Rating</th>\n",
       "      <th>Year</th>\n",
       "      <th>Month</th>\n",
       "      <th>Certificate</th>\n",
       "      <th>Runtime</th>\n",
       "      <th>Directors</th>\n",
       "      <th>Stars</th>\n",
       "      <th>Genre</th>\n",
       "      <th>Filming_location</th>\n",
       "      <th>...</th>\n",
       "      <th>top_50_director_2</th>\n",
       "      <th>top_1000_stars_1</th>\n",
       "      <th>top_1000_stars_2</th>\n",
       "      <th>director</th>\n",
       "      <th>lead</th>\n",
       "      <th>supporting</th>\n",
       "      <th>director_num_wins</th>\n",
       "      <th>director_num_nominations</th>\n",
       "      <th>director_num_movies</th>\n",
       "      <th>director_avg_rating</th>\n",
       "    </tr>\n",
       "  </thead>\n",
       "  <tbody>\n",
       "    <tr>\n",
       "      <th>106</th>\n",
       "      <td>Love Hard</td>\n",
       "      <td>6.3</td>\n",
       "      <td>2021</td>\n",
       "      <td>11</td>\n",
       "      <td>TV-MA</td>\n",
       "      <td>104</td>\n",
       "      <td>Hern n Jim nez</td>\n",
       "      <td>Nina Dobrev, Jimmy O Yang, Darren Barnet, Jame...</td>\n",
       "      <td>Comedy, Romance</td>\n",
       "      <td>Canada</td>\n",
       "      <td>...</td>\n",
       "      <td>0</td>\n",
       "      <td>0</td>\n",
       "      <td>0</td>\n",
       "      <td>Hern n Jim nez</td>\n",
       "      <td>Nina Dobrev</td>\n",
       "      <td>Jimmy O Yang</td>\n",
       "      <td>NaN</td>\n",
       "      <td>NaN</td>\n",
       "      <td>NaN</td>\n",
       "      <td>NaN</td>\n",
       "    </tr>\n",
       "  </tbody>\n",
       "</table>\n",
       "<p>1 rows × 24 columns</p>\n",
       "</div>"
      ],
      "text/plain": [
       "         Title  Rating  Year  Month Certificate  Runtime       Directors  \\\n",
       "106  Love Hard     6.3  2021     11       TV-MA      104  Hern n Jim nez   \n",
       "\n",
       "                                                 Stars            Genre  \\\n",
       "106  Nina Dobrev, Jimmy O Yang, Darren Barnet, Jame...  Comedy, Romance   \n",
       "\n",
       "    Filming_location  ... top_50_director_2 top_1000_stars_1 top_1000_stars_2  \\\n",
       "106           Canada  ...                 0                0                0   \n",
       "\n",
       "           director         lead     supporting  director_num_wins  \\\n",
       "106  Hern n Jim nez  Nina Dobrev   Jimmy O Yang                NaN   \n",
       "\n",
       "    director_num_nominations director_num_movies director_avg_rating  \n",
       "106                      NaN                 NaN                 NaN  \n",
       "\n",
       "[1 rows x 24 columns]"
      ]
     },
     "execution_count": 129,
     "metadata": {},
     "output_type": "execute_result"
    }
   ],
   "source": [
    "df.iloc[105:106, :]"
   ]
  },
  {
   "cell_type": "code",
   "execution_count": 119,
   "id": "b03e3351",
   "metadata": {},
   "outputs": [],
   "source": [
    "# 1. Creating a new column 'lead' with the first value of 'Stars'\n",
    "df['lead'] = df['Stars'].fillna('').str.split(',', expand=True)[0]\n",
    "\n",
    "# 2. Creating a new column 'supporting' with the second value of 'Stars'\n",
    "df['supporting'] = df['Stars'].fillna('').str.split(',', expand=True)[1]"
   ]
  },
  {
   "cell_type": "code",
   "execution_count": null,
   "id": "30d18147",
   "metadata": {},
   "outputs": [],
   "source": [
    "searching_IMDb_person('lead', df, 'actor')"
   ]
  },
  {
   "cell_type": "code",
   "execution_count": null,
   "id": "e911ea0a",
   "metadata": {},
   "outputs": [],
   "source": [
    "searching_IMDb_person('supporting', df, 'actor')"
   ]
  }
 ],
 "metadata": {
  "kernelspec": {
   "display_name": "base",
   "language": "python",
   "name": "python3"
  },
  "language_info": {
   "codemirror_mode": {
    "name": "ipython",
    "version": 3
   },
   "file_extension": ".py",
   "mimetype": "text/x-python",
   "name": "python",
   "nbconvert_exporter": "python",
   "pygments_lexer": "ipython3",
   "version": "3.9.12"
  },
  "vscode": {
   "interpreter": {
    "hash": "c0de92a10c1f65e53f9acff1f0bafd09b320a4aed9d91aa143eea6431dc87452"
   }
  }
 },
 "nbformat": 4,
 "nbformat_minor": 5
}
