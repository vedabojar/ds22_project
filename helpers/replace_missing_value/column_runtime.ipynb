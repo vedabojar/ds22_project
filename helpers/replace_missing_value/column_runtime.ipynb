{
 "cells": [
  {
   "cell_type": "code",
   "execution_count": null,
   "id": "09e154c8",
   "metadata": {},
   "outputs": [],
   "source": [
    "#import libraries\n",
    "import pandas as pd\n",
    "import matplotlib.pyplot as plt\n",
    "import numpy as np\n",
    "import matplotlib.pyplot as plt\n",
    "\n",
    "#load data\n",
    "df = pd.read_csv('C:/Users/admin1/Documents/GitHub/ds22_project/data/movies.csv')\n",
    "\n",
    "#short eda\n",
    "df.info()\n",
    "df.head(2)"
   ]
  },
  {
   "cell_type": "code",
   "execution_count": null,
   "id": "842ec723",
   "metadata": {},
   "outputs": [],
   "source": [
    "def check_non_numeric(dataset, column):\n",
    "    # Identify the column that contains the data you want to analyze\n",
    "    column_name = column\n",
    "\n",
    "    # Initialize a dictionary to store the counts of all non-numeric values\n",
    "    non_numeric_counts = {}\n",
    "\n",
    "    # Loop through each row in the column\n",
    "    for index, row in dataset.iterrows():\n",
    "        # Check if the row consists of only non-numeric characters\n",
    "        if not str(row[column_name]).isnumeric():\n",
    "            # If the value is not already in the dictionary, add it with a count of 1\n",
    "            if row[column_name] not in non_numeric_counts:\n",
    "                non_numeric_counts[row[column_name]] = 1\n",
    "            # If the value is already in the dictionary, increment its count by 1\n",
    "            else:\n",
    "                non_numeric_counts[row[column_name]] += 1\n",
    "\n",
    "    # Print the final table of non-numeric counts\n",
    "\n",
    "    print(f'Table of counts for non-numeric values in column {column_name}:')\n",
    "    print('Value\\tCount')\n",
    "    for value, count in non_numeric_counts.items():\n",
    "        print(f'{value}\\t{count}')\n",
    "\n",
    "        \n",
    "check_non_numeric(df, \"Runtime\")"
   ]
  },
  {
   "cell_type": "code",
   "execution_count": null,
   "id": "552e5557",
   "metadata": {},
   "outputs": [],
   "source": [
    "num_missing = df[\"Runtime\"].isnull().sum()\n",
    "print(num_missing)"
   ]
  },
  {
   "cell_type": "code",
   "execution_count": null,
   "id": "dcbfc4f1",
   "metadata": {},
   "outputs": [],
   "source": [
    "df.info()"
   ]
  },
  {
   "cell_type": "code",
   "execution_count": null,
   "id": "594fb773",
   "metadata": {
    "scrolled": true
   },
   "outputs": [],
   "source": [
    "def get_mean_median(df, column):\n",
    "\n",
    "    # Step 1: Drop all rows that contain a non-numeric character\n",
    "    non_numeric_rows = df[~df[column].str.isdigit()]\n",
    "    df = df[df[column].str.isdigit()]\n",
    "\n",
    "    # Step 2: Convert the column to an integer\n",
    "    df[column] = df[column].astype(int)\n",
    "\n",
    "    \n",
    "    # Step 3: Calculate the average value of the column\n",
    "    replace_mean = df[column].mean()\n",
    "    replace_mean = round(replace_mean)\n",
    "\n",
    "    # Step 3: Calculate the average value of the column\n",
    "    replace_med = df[column].median()\n",
    "    replace_med = round(replace_med)\n",
    "    \n",
    "    return (replace_mean, replace_med)\n",
    "\n",
    "replace_mean, replace_med = get_mean_median(df, 'Runtime')\n",
    "print(replace_mean)\n",
    "print(replace_med)"
   ]
  },
  {
   "cell_type": "code",
   "execution_count": null,
   "id": "7dbaff02",
   "metadata": {},
   "outputs": [],
   "source": []
  },
  {
   "cell_type": "code",
   "execution_count": null,
   "id": "9da64f92",
   "metadata": {},
   "outputs": [],
   "source": []
  },
  {
   "cell_type": "code",
   "execution_count": null,
   "id": "aca68511",
   "metadata": {},
   "outputs": [],
   "source": []
  },
  {
   "cell_type": "code",
   "execution_count": null,
   "id": "3c54c7f3",
   "metadata": {},
   "outputs": [],
   "source": [
    "def replace_missing_values(df, column, replace_type = \"mean\"):\n",
    "\n",
    "    # Step 1: Drop all rows that contain a non-numeric character\n",
    "    non_numeric_rows = df[~df[column].str.isdigit()]\n",
    "    df = df[df[column].str.isdigit()]\n",
    "\n",
    "    # Step 2: Convert the column to an integer\n",
    "    df[column] = df[column].astype(int)\n",
    "\n",
    "    if(replace_type == \"mean\"):\n",
    "        # Step 3: Calculate the average value of the column\n",
    "        replace_mean = df[column].mean()\n",
    "        replace_mean = round(replace_mean)\n",
    "        non_numeric_rows.loc[~non_numeric_rows[column].str.isdigit(), column] = replace_mean\n",
    "    else:\n",
    "        # Step 3: Calculate the average value of the column\n",
    "        replace_med = df[column].median()\n",
    "        replace_med = round(replace_med)\n",
    "        non_numeric_rows.loc[~non_numeric_rows[column].str.isdigit(), column] = replace_med\n",
    "\n",
    "    # Step 4: Take back the dropped rows and replace their value with the average value\n",
    "    #non_numeric_rows.loc[~non_numeric_rows[column].str.isdigit(), column] = avg\n",
    "    df = pd.concat([df, non_numeric_rows])\n",
    "\n",
    "    # Optional: Reset the index of the DataFrame\n",
    "    df = df.reset_index(drop=True)\n",
    "    \n",
    "    #\n",
    "    df[column] = df[column].astype(int)\n",
    "    \n",
    "    return df\n",
    "\n",
    "df = replace_missing_values(df, 'Runtime')"
   ]
  },
  {
   "cell_type": "code",
   "execution_count": null,
   "id": "75440294",
   "metadata": {},
   "outputs": [],
   "source": [
    "df.info()"
   ]
  },
  {
   "cell_type": "code",
   "execution_count": null,
   "id": "f43b4973",
   "metadata": {},
   "outputs": [],
   "source": []
  }
 ],
 "metadata": {
  "kernelspec": {
   "display_name": "Python 3 (ipykernel)",
   "language": "python",
   "name": "python3"
  },
  "language_info": {
   "codemirror_mode": {
    "name": "ipython",
    "version": 3
   },
   "file_extension": ".py",
   "mimetype": "text/x-python",
   "name": "python",
   "nbconvert_exporter": "python",
   "pygments_lexer": "ipython3",
   "version": "3.7.15"
  }
 },
 "nbformat": 4,
 "nbformat_minor": 5
}
