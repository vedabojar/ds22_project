{
 "cells": [
  {
   "cell_type": "code",
   "execution_count": 4,
   "id": "4ce11327",
   "metadata": {},
   "outputs": [
    {
     "name": "stdout",
     "output_type": "stream",
     "text": [
      "  value\n",
      "0     1\n",
      "1     2\n",
      "2     3\n",
      "3  four\n",
      "4     5\n",
      "\n",
      "   value\n",
      "0   1.00\n",
      "1   2.00\n",
      "2   3.00\n",
      "3   2.75\n",
      "4   5.00\n"
     ]
    }
   ],
   "source": [
    "import pandas as pd\n",
    "\n",
    "# create sample data\n",
    "data = {'value': ['1', '2', '3', 'four', '5']}\n",
    "df = pd.DataFrame(data)\n",
    "\n",
    "print(df)\n",
    "\n",
    "# convert the column to a numeric type\n",
    "numeric_col = pd.to_numeric(df['value'], errors='coerce')\n",
    "\n",
    "print()\n",
    "\n",
    "# calculate the average of the numeric values\n",
    "numeric_mean = numeric_col.mean()\n",
    "\n",
    "# replace the NaN values with the average\n",
    "filled_col = numeric_col.fillna(numeric_mean)\n",
    "\n",
    "# replace the original column with the filled column\n",
    "df['value'] = filled_col\n",
    "\n",
    "print(df)\n"
   ]
  },
  {
   "cell_type": "code",
   "execution_count": null,
   "id": "c0b51bcf",
   "metadata": {},
   "outputs": [],
   "source": []
  }
 ],
 "metadata": {
  "kernelspec": {
   "display_name": "Python 3 (ipykernel)",
   "language": "python",
   "name": "python3"
  },
  "language_info": {
   "codemirror_mode": {
    "name": "ipython",
    "version": 3
   },
   "file_extension": ".py",
   "mimetype": "text/x-python",
   "name": "python",
   "nbconvert_exporter": "python",
   "pygments_lexer": "ipython3",
   "version": "3.7.15"
  }
 },
 "nbformat": 4,
 "nbformat_minor": 5
}
