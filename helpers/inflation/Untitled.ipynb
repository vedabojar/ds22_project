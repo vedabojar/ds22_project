{
 "cells": [
  {
   "cell_type": "code",
   "execution_count": 1,
   "id": "c1d6be6d",
   "metadata": {},
   "outputs": [
    {
     "name": "stdout",
     "output_type": "stream",
     "text": [
      "   col1 col2\n",
      "0  10.0    a\n",
      "1  20.0    b\n",
      "2          c\n",
      "3  40.0    d\n",
      "4          e\n"
     ]
    }
   ],
   "source": [
    "import pandas as pd\n",
    "\n",
    "# Create a sample dataframe\n",
    "df = pd.DataFrame({'col1': [1, 2, '', 4, ''], 'col2': ['a', 'b', 'c', 'd', 'e']})\n",
    "\n",
    "# Multiply all numeric values in col1 by 10 and leave non-numeric values unchanged\n",
    "df['col1'] = pd.to_numeric(df['col1'], errors='coerce') * 10\n",
    "df['col1'] = df['col1'].fillna('')\n",
    "\n",
    "print(df)\n"
   ]
  },
  {
   "cell_type": "code",
   "execution_count": null,
   "id": "f2b5ee95",
   "metadata": {},
   "outputs": [],
   "source": []
  }
 ],
 "metadata": {
  "kernelspec": {
   "display_name": "Python 3 (ipykernel)",
   "language": "python",
   "name": "python3"
  },
  "language_info": {
   "codemirror_mode": {
    "name": "ipython",
    "version": 3
   },
   "file_extension": ".py",
   "mimetype": "text/x-python",
   "name": "python",
   "nbconvert_exporter": "python",
   "pygments_lexer": "ipython3",
   "version": "3.7.15"
  }
 },
 "nbformat": 4,
 "nbformat_minor": 5
}
