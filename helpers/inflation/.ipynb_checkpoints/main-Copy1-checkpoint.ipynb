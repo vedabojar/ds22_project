{
 "cells": [
  {
   "cell_type": "markdown",
   "id": "348ae723",
   "metadata": {},
   "source": [
    "### Importing Libraries"
   ]
  },
  {
   "cell_type": "code",
   "execution_count": 1,
   "id": "1cdefb36",
   "metadata": {},
   "outputs": [],
   "source": [
    "import pandas as pd\n",
    "#import cpi #library for inflation-data\n",
    "df = pd.read_csv('C:/Users/admin1/Documents/GitHub/ds22_project/data/movies.csv')"
   ]
  },
  {
   "cell_type": "markdown",
   "id": "34ed766b",
   "metadata": {},
   "source": [
    "#### 11.1 Remove non numeric charcharters"
   ]
  },
  {
   "cell_type": "code",
   "execution_count": 2,
   "id": "26e1ced9",
   "metadata": {},
   "outputs": [],
   "source": [
    "# remove non-numeric characters from the column (currency-characters mostly but also all values like 'unknown' or such)\n",
    "df['Budget'] = df['Budget'].replace('[^0-9]', '', regex=True)"
   ]
  },
  {
   "cell_type": "code",
   "execution_count": 5,
   "id": "5cf4b3b7",
   "metadata": {
    "scrolled": true
   },
   "outputs": [
    {
     "name": "stdout",
     "output_type": "stream",
     "text": [
      "<class 'pandas.core.frame.DataFrame'>\n",
      "RangeIndex: 2000 entries, 0 to 1999\n",
      "Data columns (total 13 columns):\n",
      " #   Column             Non-Null Count  Dtype  \n",
      "---  ------             --------------  -----  \n",
      " 0   Title              2000 non-null   object \n",
      " 1   Rating             1999 non-null   float64\n",
      " 2   Year               2000 non-null   int64  \n",
      " 3   Month              2000 non-null   object \n",
      " 4   Certificate        1966 non-null   object \n",
      " 5   Runtime            2000 non-null   object \n",
      " 6   Directors          2000 non-null   object \n",
      " 7   Stars              2000 non-null   object \n",
      " 8   Genre              2000 non-null   object \n",
      " 9   Filming_location   2000 non-null   object \n",
      " 10  Budget             1696 non-null   float64\n",
      " 11  Income             2000 non-null   object \n",
      " 12  Country_of_origin  2000 non-null   object \n",
      "dtypes: float64(2), int64(1), object(10)\n",
      "memory usage: 203.2+ KB\n"
     ]
    }
   ],
   "source": [
    "df.info()"
   ]
  },
  {
   "cell_type": "code",
   "execution_count": 6,
   "id": "1809786d",
   "metadata": {},
   "outputs": [
    {
     "data": {
      "text/plain": [
       "0    350000000.0\n",
       "1     35000000.0\n",
       "2     85900000.0\n",
       "3            NaN\n",
       "4     12000000.0\n",
       "Name: Budget, dtype: float64"
      ]
     },
     "execution_count": 6,
     "metadata": {},
     "output_type": "execute_result"
    }
   ],
   "source": [
    "# Multiply all numeric values in col1 by 10 and leave non-numeric values unchanged\n",
    "df['Budget'] = pd.to_numeric(df['Budget'], errors='coerce') * 25\n",
    "df['Budget'] = df['Budget'].fillna('')\n",
    "\n",
    "print(df)"
   ]
  },
  {
   "cell_type": "code",
   "execution_count": null,
   "id": "f21f2e82",
   "metadata": {},
   "outputs": [],
   "source": []
  },
  {
   "cell_type": "code",
   "execution_count": null,
   "id": "f0fbb59b",
   "metadata": {},
   "outputs": [],
   "source": []
  },
  {
   "cell_type": "code",
   "execution_count": null,
   "id": "302d6c4c",
   "metadata": {},
   "outputs": [],
   "source": []
  },
  {
   "cell_type": "code",
   "execution_count": null,
   "id": "c114bb05",
   "metadata": {},
   "outputs": [],
   "source": []
  }
 ],
 "metadata": {
  "kernelspec": {
   "display_name": "Python 3 (ipykernel)",
   "language": "python",
   "name": "python3"
  },
  "language_info": {
   "codemirror_mode": {
    "name": "ipython",
    "version": 3
   },
   "file_extension": ".py",
   "mimetype": "text/x-python",
   "name": "python",
   "nbconvert_exporter": "python",
   "pygments_lexer": "ipython3",
   "version": "3.7.15"
  }
 },
 "nbformat": 4,
 "nbformat_minor": 5
}
