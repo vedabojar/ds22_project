{
 "cells": [
  {
   "cell_type": "code",
   "execution_count": null,
   "id": "ec3c819e",
   "metadata": {},
   "outputs": [],
   "source": [
    "#standard start\n",
    "import pandas as pd\n",
    "dataset_raw = pd.read_csv('C:/Users/admin1/Documents/GitHub/ds22_project/data/movies.csv')\n",
    "dataset_raw.head(2)"
   ]
  },
  {
   "cell_type": "code",
   "execution_count": 1,
   "id": "d5673dbb",
   "metadata": {},
   "outputs": [],
   "source": [
    "#save to csv\n",
    "DATASET.to_csv('C:/zlatte1/test123.csv', index=False)"
   ]
  },
  {
   "cell_type": "code",
   "execution_count": null,
   "id": "c7a64bfd",
   "metadata": {},
   "outputs": [],
   "source": []
  }
 ],
 "metadata": {
  "kernelspec": {
   "display_name": "Python 3 (ipykernel)",
   "language": "python",
   "name": "python3"
  },
  "language_info": {
   "codemirror_mode": {
    "name": "ipython",
    "version": 3
   },
   "file_extension": ".py",
   "mimetype": "text/x-python",
   "name": "python",
   "nbconvert_exporter": "python",
   "pygments_lexer": "ipython3",
   "version": "3.7.15"
  }
 },
 "nbformat": 4,
 "nbformat_minor": 5
}
