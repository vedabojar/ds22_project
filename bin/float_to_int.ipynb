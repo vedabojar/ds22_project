{
 "cells": [
  {
   "cell_type": "code",
   "execution_count": 2,
   "id": "73708593",
   "metadata": {},
   "outputs": [
    {
     "name": "stdout",
     "output_type": "stream",
     "text": [
      "<class 'pandas.core.frame.DataFrame'>\n",
      "   float_column\n",
      "0             3\n",
      "1             2\n",
      "2             1\n"
     ]
    }
   ],
   "source": [
    "import pandas as pd\n",
    "\n",
    "# create a sample dataframe with a float column\n",
    "df = pd.DataFrame({'float_column': [3.14, 2.71, 1.41]})\n",
    "\n",
    "print(type(df))\n",
    "\n",
    "# convert the float column to int\n",
    "df['float_column'] = df['float_column'].astype(int)\n",
    "\n",
    "# print the updated dataframe\n",
    "print(df)\n"
   ]
  },
  {
   "cell_type": "code",
   "execution_count": null,
   "id": "4be9b944",
   "metadata": {},
   "outputs": [],
   "source": []
  }
 ],
 "metadata": {
  "kernelspec": {
   "display_name": "Python 3 (ipykernel)",
   "language": "python",
   "name": "python3"
  },
  "language_info": {
   "codemirror_mode": {
    "name": "ipython",
    "version": 3
   },
   "file_extension": ".py",
   "mimetype": "text/x-python",
   "name": "python",
   "nbconvert_exporter": "python",
   "pygments_lexer": "ipython3",
   "version": "3.7.15"
  }
 },
 "nbformat": 4,
 "nbformat_minor": 5
}
