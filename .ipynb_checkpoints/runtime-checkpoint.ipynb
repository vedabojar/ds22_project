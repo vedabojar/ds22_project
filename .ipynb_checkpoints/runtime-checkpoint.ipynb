{
 "cells": [
  {
   "cell_type": "code",
   "execution_count": 1,
   "id": "09e154c8",
   "metadata": {},
   "outputs": [],
   "source": [
    "#import libraries\n",
    "import pandas as pd\n",
    "import matplotlib.pyplot as plt\n",
    "import numpy as np\n",
    "import matplotlib.pyplot as plt\n",
    "\n",
    "#load data\n",
    "df = pd.read_csv('C:/Users/admin1/Documents/GitHub/ds22_project/data/movies.csv')"
   ]
  },
  {
   "cell_type": "code",
   "execution_count": 2,
   "id": "e4e8f9ad",
   "metadata": {},
   "outputs": [
    {
     "name": "stdout",
     "output_type": "stream",
     "text": [
      "<class 'pandas.core.frame.DataFrame'>\n",
      "RangeIndex: 2000 entries, 0 to 1999\n",
      "Data columns (total 13 columns):\n",
      " #   Column             Non-Null Count  Dtype  \n",
      "---  ------             --------------  -----  \n",
      " 0   Title              2000 non-null   object \n",
      " 1   Rating             1999 non-null   float64\n",
      " 2   Year               2000 non-null   int64  \n",
      " 3   Month              2000 non-null   object \n",
      " 4   Certificate        1966 non-null   object \n",
      " 5   Runtime            2000 non-null   object \n",
      " 6   Directors          2000 non-null   object \n",
      " 7   Stars              2000 non-null   object \n",
      " 8   Genre              2000 non-null   object \n",
      " 9   Filming_location   2000 non-null   object \n",
      " 10  Budget             2000 non-null   object \n",
      " 11  Income             2000 non-null   object \n",
      " 12  Country_of_origin  2000 non-null   object \n",
      "dtypes: float64(1), int64(1), object(11)\n",
      "memory usage: 203.2+ KB\n"
     ]
    }
   ],
   "source": [
    "df.info()"
   ]
  },
  {
   "cell_type": "markdown",
   "id": "932eb41c",
   "metadata": {},
   "source": [
    "Runtime:\n",
    "  0 empty values\n",
    "  type object which indicates their is non numeric values otherwise the type would be float or int\n",
    "  \n",
    "  \n",
    "Goal:\n",
    "find all non numeric values and replace with a resonable value\n",
    "change the type of the column from object to int"
   ]
  },
  {
   "cell_type": "code",
   "execution_count": 3,
   "id": "842ec723",
   "metadata": {},
   "outputs": [
    {
     "name": "stdout",
     "output_type": "stream",
     "text": [
      "Table of counts for non-numeric values in column Runtime:\n",
      "Value\tCount\n",
      "Unknown\t2\n"
     ]
    }
   ],
   "source": [
    "#CHECK IF THERE´S ANY NON NUMERIC VALUES\n",
    "\n",
    "# Load the dataset into a Pandas DataFrame\n",
    "\n",
    "\n",
    "# Identify the column that contains the data you want to analyze\n",
    "column_name = 'Runtime'\n",
    "\n",
    "# Initialize a dictionary to store the counts of all non-numeric values\n",
    "non_numeric_counts = {}\n",
    "\n",
    "# Loop through each row in the column\n",
    "for index, row in df.iterrows():\n",
    "    # Check if the row consists of only non-numeric characters\n",
    "    if not str(row[column_name]).isnumeric():\n",
    "        # If the value is not already in the dictionary, add it with a count of 1\n",
    "        if row[column_name] not in non_numeric_counts:\n",
    "            non_numeric_counts[row[column_name]] = 1\n",
    "        # If the value is already in the dictionary, increment its count by 1\n",
    "        else:\n",
    "            non_numeric_counts[row[column_name]] += 1\n",
    "\n",
    "# Print the final table of non-numeric counts\n",
    "print(f'Table of counts for non-numeric values in column {column_name}:')\n",
    "print('Value\\tCount')\n",
    "for value, count in non_numeric_counts.items():\n",
    "    print(f'{value}\\t{count}')\n"
   ]
  },
  {
   "cell_type": "markdown",
   "id": "75aa67ed",
   "metadata": {},
   "source": [
    "Found 2 values with non numeric characthers."
   ]
  },
  {
   "cell_type": "code",
   "execution_count": 4,
   "id": "594fb773",
   "metadata": {},
   "outputs": [
    {
     "name": "stdout",
     "output_type": "stream",
     "text": [
      "<class 'int'>\n",
      "                                           Title  Rating  Year      Month  \\\n",
      "848                                       Mantus     2.1  2014       2014   \n",
      "1249                          My Little Princess     3.2  2010  September   \n",
      "0                       Avatar: The Way of Water     7.8  2022   December   \n",
      "1                 Guillermo del Toro's Pinocchio     7.6  2022   December   \n",
      "2                                   Bullet Train     7.3  2022     August   \n",
      "...                                          ...     ...   ...        ...   \n",
      "1995                       A Tale of Two Sisters     7.1  2003       June   \n",
      "1996  Lara Croft Tomb Raider: The Cradle of Life     5.5  2003       July   \n",
      "1997                                     Gothika     5.8  2003   November   \n",
      "1998                   Ong-Bak: The Thai Warrior     7.1  2003   February   \n",
      "1999                                  Open Water     5.8  2003     August   \n",
      "\n",
      "     Certificate  Runtime                           Directors  \\\n",
      "848          NaN    113.0                       Enzo Zelocchi   \n",
      "1249         NaN    113.0                       Enzo Zelocchi   \n",
      "0          PG-13    192.0                       James Cameron   \n",
      "1             PG    117.0  Guillermo del Toro, Mark Gustafson   \n",
      "2              R    127.0                        David Leitch   \n",
      "...          ...      ...                                 ...   \n",
      "1995           R    114.0                        Jee woon Kim   \n",
      "1996       PG-13    117.0                         Jan de Bont   \n",
      "1997           R     98.0                   Mathieu Kassovitz   \n",
      "1998           R    105.0                     Prachya Pinkaew   \n",
      "1999           R     79.0                        Chris Kentis   \n",
      "\n",
      "                                                  Stars  \\\n",
      "848   Enzo Zelocchi, Miryam Negrin, Paul Gregory, Ma...   \n",
      "1249  Enzo Zelocchi, Charlotte Labadie, David M Edel...   \n",
      "0     Sam Worthington, Zoe Saldana, Sigourney Weaver...   \n",
      "1     Ewan McGregor, David Bradley, Gregory Mann, Bu...   \n",
      "2     Brad Pitt, Joey King, Aaron Taylor Johnson, Br...   \n",
      "...                                                 ...   \n",
      "1995  Lim Soo jung, Yum Jung ah, Kim Kap su, Moon Ge...   \n",
      "1996  Angelina Jolie, Gerard Butler, Chris Barrie, C...   \n",
      "1997  Halle Berry, Pen lope Cruz, Robert Downey Jr ,...   \n",
      "1998  Tony Jaa, Phetthai Vongkumlao, Pumwaree Yodkam...   \n",
      "1999  Blanchard Ryan, Daniel Travis, Saul Stein, Mic...   \n",
      "\n",
      "                           Genre Filming_location         Budget  \\\n",
      "848      Comedy, Drama, Thriller              USA      $250,000    \n",
      "1249      Romance, Drama, Family          Unknown           $10    \n",
      "0     Action, Adventure, Fantasy      New Zealand  $350,000,000    \n",
      "1       Animation, Drama, Family              USA   $35,000,000    \n",
      "2       Action, Comedy, Thriller            Japan   $85,900,000    \n",
      "...                          ...              ...            ...   \n",
      "1995      Drama, Horror, Mystery      South Korea        Unknown   \n",
      "1996  Action, Adventure, Fantasy           Greece   $95,000,000    \n",
      "1997   Horror, Mystery, Thriller           Canada   $40,000,000    \n",
      "1998     Action, Crime, Thriller         Thailand        Unknown   \n",
      "1999    Adventure, Drama, Horror          Bahamas      $500,000    \n",
      "\n",
      "               Income                                  Country_of_origin  \n",
      "848           Unknown                                      United States  \n",
      "1249          Unknown                                      United States  \n",
      "0     $2,267,946,983                                       United States  \n",
      "1           $108,967                       United States, Mexico, France  \n",
      "2       $239,268,602                                Japan, United States  \n",
      "...               ...                                                ...  \n",
      "1995      $1,062,878                                         South Korea  \n",
      "1996    $160,099,222   United States, Germany, Japan, United Kingdom,...  \n",
      "1997    $141,591,324                United States, France, Canada, Spain  \n",
      "1998     $20,235,426                         Thailand, France, Hong Kong  \n",
      "1999     $54,683,487                                       United States  \n",
      "\n",
      "[2000 rows x 13 columns]\n"
     ]
    }
   ],
   "source": [
    "#CALCULATING THE MEAN OF THE NUMERIC VALUES\n",
    "\n",
    "\n",
    "# filter out rows with string values\n",
    "num_df = df[pd.to_numeric(df['Runtime'], errors='coerce').notnull()]\n",
    "\n",
    "# calculate mean of numeric values\n",
    "mean_val = num_df['Runtime'].astype(float).mean()\n",
    "mean_val = round(mean_val)\n",
    "\n",
    "print(type(mean_val))\n",
    "\n",
    "# merge the original dataframe with the mean values of the dropped rows\n",
    "df = pd.concat([df.drop(num_df.index), num_df], sort=False)\n",
    "\n",
    "# replace the string values with mean value\n",
    "df['Runtime'] = pd.to_numeric(df['Runtime'], errors='coerce').fillna(mean_val)\n",
    "\n",
    "#print(df)\n"
   ]
  },
  {
   "cell_type": "code",
   "execution_count": 5,
   "id": "be129a4d",
   "metadata": {},
   "outputs": [
    {
     "name": "stdout",
     "output_type": "stream",
     "text": [
      "<class 'pandas.core.frame.DataFrame'>\n",
      "Int64Index: 2000 entries, 848 to 1999\n",
      "Data columns (total 13 columns):\n",
      " #   Column             Non-Null Count  Dtype  \n",
      "---  ------             --------------  -----  \n",
      " 0   Title              2000 non-null   object \n",
      " 1   Rating             1999 non-null   float64\n",
      " 2   Year               2000 non-null   int64  \n",
      " 3   Month              2000 non-null   object \n",
      " 4   Certificate        1966 non-null   object \n",
      " 5   Runtime            2000 non-null   float64\n",
      " 6   Directors          2000 non-null   object \n",
      " 7   Stars              2000 non-null   object \n",
      " 8   Genre              2000 non-null   object \n",
      " 9   Filming_location   2000 non-null   object \n",
      " 10  Budget             2000 non-null   object \n",
      " 11  Income             2000 non-null   object \n",
      " 12  Country_of_origin  2000 non-null   object \n",
      "dtypes: float64(2), int64(1), object(10)\n",
      "memory usage: 218.8+ KB\n"
     ]
    }
   ],
   "source": [
    "df.info()"
   ]
  },
  {
   "cell_type": "code",
   "execution_count": 6,
   "id": "4d2d31e6",
   "metadata": {},
   "outputs": [],
   "source": [
    "df['Runtime'] = df['Runtime'].astype(int)"
   ]
  },
  {
   "cell_type": "code",
   "execution_count": 7,
   "id": "fdee8bd1",
   "metadata": {},
   "outputs": [
    {
     "name": "stdout",
     "output_type": "stream",
     "text": [
      "<class 'pandas.core.frame.DataFrame'>\n",
      "Int64Index: 2000 entries, 848 to 1999\n",
      "Data columns (total 13 columns):\n",
      " #   Column             Non-Null Count  Dtype  \n",
      "---  ------             --------------  -----  \n",
      " 0   Title              2000 non-null   object \n",
      " 1   Rating             1999 non-null   float64\n",
      " 2   Year               2000 non-null   int64  \n",
      " 3   Month              2000 non-null   object \n",
      " 4   Certificate        1966 non-null   object \n",
      " 5   Runtime            2000 non-null   int32  \n",
      " 6   Directors          2000 non-null   object \n",
      " 7   Stars              2000 non-null   object \n",
      " 8   Genre              2000 non-null   object \n",
      " 9   Filming_location   2000 non-null   object \n",
      " 10  Budget             2000 non-null   object \n",
      " 11  Income             2000 non-null   object \n",
      " 12  Country_of_origin  2000 non-null   object \n",
      "dtypes: float64(1), int32(1), int64(1), object(10)\n",
      "memory usage: 210.9+ KB\n"
     ]
    }
   ],
   "source": [
    "df.info()"
   ]
  },
  {
   "cell_type": "code",
   "execution_count": 8,
   "id": "fbfba415",
   "metadata": {},
   "outputs": [
    {
     "data": {
      "image/png": "[encoded data removed]",
      "text/plain": [
       "<Figure size 640x480 with 1 Axes>"
      ]
     },
     "metadata": {},
     "output_type": "display_data"
    },
    {
     "data": {
      "image/png": "[encoded data removed]",
      "text/plain": [
       "<Figure size 640x480 with 1 Axes>"
      ]
     },
     "metadata": {},
     "output_type": "display_data"
    }
   ],
   "source": [
    "#PLOTTING THE DATA\n",
    "\n",
    "# calculate average runtime for each year\n",
    "df_mean = df.groupby('Year').mean()\n",
    "\n",
    "# plot the data\n",
    "plt.bar(df_mean.index, df_mean['Runtime'])\n",
    "plt.xlabel('Year')\n",
    "plt.ylabel('Average Runtime (minutes)')\n",
    "plt.title('Average Movie Runtime by Year')\n",
    "plt.show()\n",
    "\n",
    "# calculate median runtime for each year\n",
    "df_median = df.groupby('Year').median()\n",
    "\n",
    "# plot the data\n",
    "plt.bar(df_median.index, df_median['Runtime'])\n",
    "plt.xlabel('Year')\n",
    "plt.ylabel('Median Runtime (minutes)')\n",
    "plt.title('Median Movie Runtime by Year')\n",
    "plt.show()\n",
    "\n"
   ]
  },
  {
   "cell_type": "code",
   "execution_count": null,
   "id": "66d45309",
   "metadata": {},
   "outputs": [],
   "source": [
    "\n",
    "\n"
   ]
  },
  {
   "cell_type": "code",
   "execution_count": null,
   "id": "3c54c7f3",
   "metadata": {},
   "outputs": [],
   "source": []
  }
 ],
 "metadata": {
  "kernelspec": {
   "display_name": "Python 3 (ipykernel)",
   "language": "python",
   "name": "python3"
  },
  "language_info": {
   "codemirror_mode": {
    "name": "ipython",
    "version": 3
   },
   "file_extension": ".py",
   "mimetype": "text/x-python",
   "name": "python",
   "nbconvert_exporter": "python",
   "pygments_lexer": "ipython3",
   "version": "3.7.15"
  }
 },
 "nbformat": 4,
 "nbformat_minor": 5
}
