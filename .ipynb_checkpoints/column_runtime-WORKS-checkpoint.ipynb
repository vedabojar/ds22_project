{
 "cells": [
  {
   "cell_type": "code",
   "execution_count": 1,
   "id": "09e154c8",
   "metadata": {},
   "outputs": [],
   "source": [
    "#import libraries\n",
    "import pandas as pd\n",
    "import matplotlib.pyplot as plt\n",
    "import numpy as np\n",
    "import matplotlib.pyplot as plt\n",
    "\n",
    "#load data\n",
    "df = pd.read_csv('C:/Users/admin1/Documents/GitHub/ds22_project/data/movies.csv')"
   ]
  },
  {
   "cell_type": "code",
   "execution_count": 2,
   "id": "321f8051",
   "metadata": {},
   "outputs": [],
   "source": [
    "def replace_missing_values(df, column, replace_type = \"mean\"):\n",
    "\n",
    "    # Step 1: Drop all rows that contain a non-numeric character\n",
    "    non_numeric_rows = df[~df[column].str.isdigit()]\n",
    "    df = df[df[column].str.isdigit()]\n",
    "\n",
    "    # Step 2: Convert the column to an integer\n",
    "    df[column] = df[column].astype(int)\n",
    "\n",
    "    if(replace_type == \"mean\"):\n",
    "        # Step 3: Calculate the average value of the column\n",
    "        replace_mean = df[column].mean()\n",
    "        replace_mean = round(replace_mean)\n",
    "        non_numeric_rows.loc[~non_numeric_rows[column].str.isdigit(), column] = replace_mean\n",
    "    else:\n",
    "        # Step 3: Calculate the average value of the column\n",
    "        replace_med = df[column].median()\n",
    "        replace_med = round(replace_med)\n",
    "        non_numeric_rows.loc[~non_numeric_rows[column].str.isdigit(), column] = replace_med\n",
    "\n",
    "    # Step 4: Take back the dropped rows and replace their value with the average value\n",
    "    #non_numeric_rows.loc[~non_numeric_rows[column].str.isdigit(), column] = avg\n",
    "    df = pd.concat([df, non_numeric_rows])\n",
    "\n",
    "    # Optional: Reset the index of the DataFrame\n",
    "    df = df.reset_index(drop=True)\n",
    "    \n",
    "    #\n",
    "    df[column] = df[column].astype(int)\n",
    "    \n",
    "    return df\n",
    "\n"
   ]
  },
  {
   "cell_type": "code",
   "execution_count": 3,
   "id": "842ec723",
   "metadata": {},
   "outputs": [],
   "source": [
    "def check_non_numeric(df, column):\n",
    "    num_missing = df[column].isnull().sum()\n",
    "    non_numeric = pd.to_numeric(df[column], errors=\"coerce\").isnull().sum()\n",
    "\n",
    "    # Step 1: Drop all rows that contain a non-numeric character\n",
    "    non_numeric_rows = df[~df[column].str.isdigit()]\n",
    "    df = df.loc[df[column].str.isdigit()]\n",
    "\n",
    "    # Step 2: Convert the column to an integer\n",
    "    df.loc[:, column] = df[column].astype(int)\n",
    "\n",
    "    # Step 3: Calculate the average value of the column\n",
    "    replace_mean = df[column].mean()\n",
    "    replace_mean = round(replace_mean)\n",
    "\n",
    "    # Step 3: Calculate the average value of the column\n",
    "    replace_med = df[column].median()\n",
    "    replace_med = round(replace_med)\n",
    "\n",
    "    data = {'Missing Values': [num_missing],\n",
    "            'non_numeric': [non_numeric],\n",
    "            'replace_mean': [replace_mean],\n",
    "            'replace_med': [replace_med]}\n",
    "\n",
    "    df2 = pd.DataFrame(data)\n",
    "\n",
    "    print(df2)\n"
   ]
  },
  {
   "cell_type": "code",
   "execution_count": 4,
   "id": "90d4d4ae",
   "metadata": {},
   "outputs": [
    {
     "name": "stdout",
     "output_type": "stream",
     "text": [
      "<class 'pandas.core.frame.DataFrame'>\n",
      "RangeIndex: 2000 entries, 0 to 1999\n",
      "Data columns (total 13 columns):\n",
      " #   Column             Non-Null Count  Dtype  \n",
      "---  ------             --------------  -----  \n",
      " 0   Title              2000 non-null   object \n",
      " 1   Rating             1999 non-null   float64\n",
      " 2   Year               2000 non-null   int64  \n",
      " 3   Month              2000 non-null   object \n",
      " 4   Certificate        1966 non-null   object \n",
      " 5   Runtime            2000 non-null   object \n",
      " 6   Directors          2000 non-null   object \n",
      " 7   Stars              2000 non-null   object \n",
      " 8   Genre              2000 non-null   object \n",
      " 9   Filming_location   2000 non-null   object \n",
      " 10  Budget             2000 non-null   object \n",
      " 11  Income             2000 non-null   object \n",
      " 12  Country_of_origin  2000 non-null   object \n",
      "dtypes: float64(1), int64(1), object(11)\n",
      "memory usage: 203.2+ KB\n"
     ]
    },
    {
     "data": {
      "text/html": [
       "<div>\n",
       "<style scoped>\n",
       "    .dataframe tbody tr th:only-of-type {\n",
       "        vertical-align: middle;\n",
       "    }\n",
       "\n",
       "    .dataframe tbody tr th {\n",
       "        vertical-align: top;\n",
       "    }\n",
       "\n",
       "    .dataframe thead th {\n",
       "        text-align: right;\n",
       "    }\n",
       "</style>\n",
       "<table border=\"1\" class=\"dataframe\">\n",
       "  <thead>\n",
       "    <tr style=\"text-align: right;\">\n",
       "      <th></th>\n",
       "      <th>Title</th>\n",
       "      <th>Rating</th>\n",
       "      <th>Year</th>\n",
       "      <th>Month</th>\n",
       "      <th>Certificate</th>\n",
       "      <th>Runtime</th>\n",
       "      <th>Directors</th>\n",
       "      <th>Stars</th>\n",
       "      <th>Genre</th>\n",
       "      <th>Filming_location</th>\n",
       "      <th>Budget</th>\n",
       "      <th>Income</th>\n",
       "      <th>Country_of_origin</th>\n",
       "    </tr>\n",
       "  </thead>\n",
       "  <tbody>\n",
       "    <tr>\n",
       "      <th>0</th>\n",
       "      <td>Avatar: The Way of Water</td>\n",
       "      <td>7.8</td>\n",
       "      <td>2022</td>\n",
       "      <td>December</td>\n",
       "      <td>PG-13</td>\n",
       "      <td>192</td>\n",
       "      <td>James Cameron</td>\n",
       "      <td>Sam Worthington, Zoe Saldana, Sigourney Weaver...</td>\n",
       "      <td>Action, Adventure, Fantasy</td>\n",
       "      <td>New Zealand</td>\n",
       "      <td>$350,000,000</td>\n",
       "      <td>$2,267,946,983</td>\n",
       "      <td>United States</td>\n",
       "    </tr>\n",
       "    <tr>\n",
       "      <th>1</th>\n",
       "      <td>Guillermo del Toro's Pinocchio</td>\n",
       "      <td>7.6</td>\n",
       "      <td>2022</td>\n",
       "      <td>December</td>\n",
       "      <td>PG</td>\n",
       "      <td>117</td>\n",
       "      <td>Guillermo del Toro, Mark Gustafson</td>\n",
       "      <td>Ewan McGregor, David Bradley, Gregory Mann, Bu...</td>\n",
       "      <td>Animation, Drama, Family</td>\n",
       "      <td>USA</td>\n",
       "      <td>$35,000,000</td>\n",
       "      <td>$108,967</td>\n",
       "      <td>United States, Mexico, France</td>\n",
       "    </tr>\n",
       "  </tbody>\n",
       "</table>\n",
       "</div>"
      ],
      "text/plain": [
       "                            Title  Rating  Year     Month Certificate Runtime  \\\n",
       "0        Avatar: The Way of Water     7.8  2022  December       PG-13     192   \n",
       "1  Guillermo del Toro's Pinocchio     7.6  2022  December          PG     117   \n",
       "\n",
       "                            Directors  \\\n",
       "0                       James Cameron   \n",
       "1  Guillermo del Toro, Mark Gustafson   \n",
       "\n",
       "                                               Stars  \\\n",
       "0  Sam Worthington, Zoe Saldana, Sigourney Weaver...   \n",
       "1  Ewan McGregor, David Bradley, Gregory Mann, Bu...   \n",
       "\n",
       "                        Genre Filming_location         Budget  \\\n",
       "0  Action, Adventure, Fantasy      New Zealand  $350,000,000    \n",
       "1    Animation, Drama, Family              USA   $35,000,000    \n",
       "\n",
       "            Income              Country_of_origin  \n",
       "0  $2,267,946,983                   United States  \n",
       "1        $108,967   United States, Mexico, France  "
      ]
     },
     "execution_count": 4,
     "metadata": {},
     "output_type": "execute_result"
    }
   ],
   "source": [
    "\n",
    "\n",
    "#short eda\n",
    "df.info()\n",
    "df.head(2)"
   ]
  },
  {
   "cell_type": "code",
   "execution_count": 5,
   "id": "552e5557",
   "metadata": {},
   "outputs": [
    {
     "name": "stdout",
     "output_type": "stream",
     "text": [
      "   Missing Values  non_numeric  replace_mean  replace_med\n",
      "0               0            2           113          110\n"
     ]
    },
    {
     "name": "stderr",
     "output_type": "stream",
     "text": [
      "C:\\Users\\admin1\\anaconda3\\envs\\new_python_3_7_15\\lib\\site-packages\\pandas\\core\\indexing.py:1773: SettingWithCopyWarning: \n",
      "A value is trying to be set on a copy of a slice from a DataFrame.\n",
      "Try using .loc[row_indexer,col_indexer] = value instead\n",
      "\n",
      "See the caveats in the documentation: https://pandas.pydata.org/pandas-docs/stable/user_guide/indexing.html#returning-a-view-versus-a-copy\n",
      "  self._setitem_single_column(ilocs[0], value, pi)\n"
     ]
    }
   ],
   "source": [
    "check_non_numeric(df, \"Runtime\")"
   ]
  },
  {
   "cell_type": "code",
   "execution_count": 6,
   "id": "7dbaff02",
   "metadata": {},
   "outputs": [
    {
     "name": "stderr",
     "output_type": "stream",
     "text": [
      "C:\\Users\\admin1\\anaconda3\\envs\\new_python_3_7_15\\lib\\site-packages\\ipykernel_launcher.py:8: SettingWithCopyWarning: \n",
      "A value is trying to be set on a copy of a slice from a DataFrame.\n",
      "Try using .loc[row_indexer,col_indexer] = value instead\n",
      "\n",
      "See the caveats in the documentation: https://pandas.pydata.org/pandas-docs/stable/user_guide/indexing.html#returning-a-view-versus-a-copy\n",
      "  \n",
      "C:\\Users\\admin1\\anaconda3\\envs\\new_python_3_7_15\\lib\\site-packages\\pandas\\core\\indexing.py:1817: SettingWithCopyWarning: \n",
      "A value is trying to be set on a copy of a slice from a DataFrame.\n",
      "Try using .loc[row_indexer,col_indexer] = value instead\n",
      "\n",
      "See the caveats in the documentation: https://pandas.pydata.org/pandas-docs/stable/user_guide/indexing.html#returning-a-view-versus-a-copy\n",
      "  self._setitem_single_column(loc, value, pi)\n"
     ]
    }
   ],
   "source": [
    "df = replace_missing_values(df, 'Runtime')"
   ]
  },
  {
   "cell_type": "code",
   "execution_count": null,
   "id": "9da64f92",
   "metadata": {},
   "outputs": [],
   "source": []
  },
  {
   "cell_type": "code",
   "execution_count": null,
   "id": "aca68511",
   "metadata": {},
   "outputs": [],
   "source": []
  },
  {
   "cell_type": "code",
   "execution_count": null,
   "id": "3c54c7f3",
   "metadata": {},
   "outputs": [],
   "source": []
  },
  {
   "cell_type": "code",
   "execution_count": 7,
   "id": "75440294",
   "metadata": {
    "scrolled": true
   },
   "outputs": [
    {
     "name": "stdout",
     "output_type": "stream",
     "text": [
      "<class 'pandas.core.frame.DataFrame'>\n",
      "RangeIndex: 2000 entries, 0 to 1999\n",
      "Data columns (total 13 columns):\n",
      " #   Column             Non-Null Count  Dtype  \n",
      "---  ------             --------------  -----  \n",
      " 0   Title              2000 non-null   object \n",
      " 1   Rating             1999 non-null   float64\n",
      " 2   Year               2000 non-null   int64  \n",
      " 3   Month              2000 non-null   object \n",
      " 4   Certificate        1966 non-null   object \n",
      " 5   Runtime            2000 non-null   int32  \n",
      " 6   Directors          2000 non-null   object \n",
      " 7   Stars              2000 non-null   object \n",
      " 8   Genre              2000 non-null   object \n",
      " 9   Filming_location   2000 non-null   object \n",
      " 10  Budget             2000 non-null   object \n",
      " 11  Income             2000 non-null   object \n",
      " 12  Country_of_origin  2000 non-null   object \n",
      "dtypes: float64(1), int32(1), int64(1), object(10)\n",
      "memory usage: 195.4+ KB\n"
     ]
    }
   ],
   "source": [
    "df.info()"
   ]
  },
  {
   "cell_type": "code",
   "execution_count": 8,
   "id": "f43b4973",
   "metadata": {},
   "outputs": [
    {
     "ename": "ValueError",
     "evalue": "cannot convert float NaN to integer",
     "output_type": "error",
     "traceback": [
      "\u001b[1;31m---------------------------------------------------------------------------\u001b[0m",
      "\u001b[1;31mValueError\u001b[0m                                Traceback (most recent call last)",
      "\u001b[1;32m~\\AppData\\Local\\Temp\\ipykernel_2488\\2867020217.py\u001b[0m in \u001b[0;36m<module>\u001b[1;34m\u001b[0m\n\u001b[1;32m----> 1\u001b[1;33m \u001b[0mcheck_non_numeric\u001b[0m\u001b[1;33m(\u001b[0m\u001b[0mdf\u001b[0m\u001b[1;33m,\u001b[0m \u001b[1;34m\"Budget\"\u001b[0m\u001b[1;33m)\u001b[0m\u001b[1;33m\u001b[0m\u001b[1;33m\u001b[0m\u001b[0m\n\u001b[0m",
      "\u001b[1;32m~\\AppData\\Local\\Temp\\ipykernel_2488\\3154279002.py\u001b[0m in \u001b[0;36mcheck_non_numeric\u001b[1;34m(df, column)\u001b[0m\n\u001b[0;32m     12\u001b[0m     \u001b[1;31m# Step 3: Calculate the average value of the column\u001b[0m\u001b[1;33m\u001b[0m\u001b[1;33m\u001b[0m\u001b[1;33m\u001b[0m\u001b[0m\n\u001b[0;32m     13\u001b[0m     \u001b[0mreplace_mean\u001b[0m \u001b[1;33m=\u001b[0m \u001b[0mdf\u001b[0m\u001b[1;33m[\u001b[0m\u001b[0mcolumn\u001b[0m\u001b[1;33m]\u001b[0m\u001b[1;33m.\u001b[0m\u001b[0mmean\u001b[0m\u001b[1;33m(\u001b[0m\u001b[1;33m)\u001b[0m\u001b[1;33m\u001b[0m\u001b[1;33m\u001b[0m\u001b[0m\n\u001b[1;32m---> 14\u001b[1;33m     \u001b[0mreplace_mean\u001b[0m \u001b[1;33m=\u001b[0m \u001b[0mround\u001b[0m\u001b[1;33m(\u001b[0m\u001b[0mreplace_mean\u001b[0m\u001b[1;33m)\u001b[0m\u001b[1;33m\u001b[0m\u001b[1;33m\u001b[0m\u001b[0m\n\u001b[0m\u001b[0;32m     15\u001b[0m \u001b[1;33m\u001b[0m\u001b[0m\n\u001b[0;32m     16\u001b[0m     \u001b[1;31m# Step 3: Calculate the average value of the column\u001b[0m\u001b[1;33m\u001b[0m\u001b[1;33m\u001b[0m\u001b[1;33m\u001b[0m\u001b[0m\n",
      "\u001b[1;31mValueError\u001b[0m: cannot convert float NaN to integer"
     ]
    }
   ],
   "source": [
    "def replace_missing_values(df, \"Budget\")"
   ]
  },
  {
   "cell_type": "code",
   "execution_count": null,
   "id": "c88b5008",
   "metadata": {},
   "outputs": [],
   "source": []
  }
 ],
 "metadata": {
  "kernelspec": {
   "display_name": "Python 3 (ipykernel)",
   "language": "python",
   "name": "python3"
  },
  "language_info": {
   "codemirror_mode": {
    "name": "ipython",
    "version": 3
   },
   "file_extension": ".py",
   "mimetype": "text/x-python",
   "name": "python",
   "nbconvert_exporter": "python",
   "pygments_lexer": "ipython3",
   "version": "3.7.15"
  }
 },
 "nbformat": 4,
 "nbformat_minor": 5
}
