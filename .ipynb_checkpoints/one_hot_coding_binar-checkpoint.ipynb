{
 "cells": [
  {
   "cell_type": "code",
   "execution_count": 1,
   "id": "32715857",
   "metadata": {},
   "outputs": [],
   "source": [
    "import pandas as pd"
   ]
  },
  {
   "cell_type": "code",
   "execution_count": 2,
   "id": "5e8f4381",
   "metadata": {},
   "outputs": [
    {
     "data": {
      "text/html": [
       "<div>\n",
       "<style scoped>\n",
       "    .dataframe tbody tr th:only-of-type {\n",
       "        vertical-align: middle;\n",
       "    }\n",
       "\n",
       "    .dataframe tbody tr th {\n",
       "        vertical-align: top;\n",
       "    }\n",
       "\n",
       "    .dataframe thead th {\n",
       "        text-align: right;\n",
       "    }\n",
       "</style>\n",
       "<table border=\"1\" class=\"dataframe\">\n",
       "  <thead>\n",
       "    <tr style=\"text-align: right;\">\n",
       "      <th></th>\n",
       "      <th>Title</th>\n",
       "      <th>Rating</th>\n",
       "      <th>Year</th>\n",
       "      <th>Month</th>\n",
       "      <th>Certificate</th>\n",
       "      <th>Runtime</th>\n",
       "      <th>Directors</th>\n",
       "      <th>Stars</th>\n",
       "      <th>Genre</th>\n",
       "      <th>Filming_location</th>\n",
       "      <th>Budget</th>\n",
       "      <th>Income</th>\n",
       "      <th>Country_of_origin</th>\n",
       "    </tr>\n",
       "  </thead>\n",
       "  <tbody>\n",
       "    <tr>\n",
       "      <th>0</th>\n",
       "      <td>Avatar: The Way of Water</td>\n",
       "      <td>7.8</td>\n",
       "      <td>2022</td>\n",
       "      <td>December</td>\n",
       "      <td>PG-13</td>\n",
       "      <td>192</td>\n",
       "      <td>James Cameron</td>\n",
       "      <td>Sam Worthington, Zoe Saldana, Sigourney Weaver...</td>\n",
       "      <td>Action, Adventure, Fantasy</td>\n",
       "      <td>New Zealand</td>\n",
       "      <td>$350,000,000</td>\n",
       "      <td>$2,267,946,983</td>\n",
       "      <td>United States</td>\n",
       "    </tr>\n",
       "    <tr>\n",
       "      <th>1</th>\n",
       "      <td>Guillermo del Toro's Pinocchio</td>\n",
       "      <td>7.6</td>\n",
       "      <td>2022</td>\n",
       "      <td>December</td>\n",
       "      <td>PG</td>\n",
       "      <td>117</td>\n",
       "      <td>Guillermo del Toro, Mark Gustafson</td>\n",
       "      <td>Ewan McGregor, David Bradley, Gregory Mann, Bu...</td>\n",
       "      <td>Animation, Drama, Family</td>\n",
       "      <td>USA</td>\n",
       "      <td>$35,000,000</td>\n",
       "      <td>$108,967</td>\n",
       "      <td>United States, Mexico, France</td>\n",
       "    </tr>\n",
       "  </tbody>\n",
       "</table>\n",
       "</div>"
      ],
      "text/plain": [
       "                            Title  Rating  Year     Month Certificate Runtime  \\\n",
       "0        Avatar: The Way of Water     7.8  2022  December       PG-13     192   \n",
       "1  Guillermo del Toro's Pinocchio     7.6  2022  December          PG     117   \n",
       "\n",
       "                            Directors  \\\n",
       "0                       James Cameron   \n",
       "1  Guillermo del Toro, Mark Gustafson   \n",
       "\n",
       "                                               Stars  \\\n",
       "0  Sam Worthington, Zoe Saldana, Sigourney Weaver...   \n",
       "1  Ewan McGregor, David Bradley, Gregory Mann, Bu...   \n",
       "\n",
       "                        Genre Filming_location         Budget  \\\n",
       "0  Action, Adventure, Fantasy      New Zealand  $350,000,000    \n",
       "1    Animation, Drama, Family              USA   $35,000,000    \n",
       "\n",
       "            Income              Country_of_origin  \n",
       "0  $2,267,946,983                   United States  \n",
       "1        $108,967   United States, Mexico, France  "
      ]
     },
     "execution_count": 2,
     "metadata": {},
     "output_type": "execute_result"
    }
   ],
   "source": [
    "dataset_raw = pd.read_csv('movies.csv')\n",
    "dataset_raw.head(2)"
   ]
  },
  {
   "cell_type": "code",
   "execution_count": 4,
   "id": "594a2f23",
   "metadata": {},
   "outputs": [
    {
     "ename": "NameError",
     "evalue": "name 'dataset_processed_1' is not defined",
     "output_type": "error",
     "traceback": [
      "\u001b[1;31m---------------------------------------------------------------------------\u001b[0m",
      "\u001b[1;31mNameError\u001b[0m                                 Traceback (most recent call last)",
      "\u001b[1;32m~\\AppData\\Local\\Temp\\ipykernel_5912\\1003572985.py\u001b[0m in \u001b[0;36m<module>\u001b[1;34m\u001b[0m\n\u001b[0;32m     18\u001b[0m     \u001b[0mprint\u001b[0m\u001b[1;33m(\u001b[0m\u001b[1;34mf'Number of top 50 directors in dataset: {(dataset_processed_1[new_column_name] == 1).astype(int).sum()}'\u001b[0m\u001b[1;33m)\u001b[0m\u001b[1;33m\u001b[0m\u001b[1;33m\u001b[0m\u001b[0m\n\u001b[0;32m     19\u001b[0m \u001b[1;33m\u001b[0m\u001b[0m\n\u001b[1;32m---> 20\u001b[1;33m \u001b[0mdataset_director\u001b[0m \u001b[1;33m=\u001b[0m \u001b[0mone_hot_encoding_bin\u001b[0m\u001b[1;33m(\u001b[0m\u001b[0mdataset_raw\u001b[0m\u001b[1;33m,\u001b[0m \u001b[1;34m\"Directors\"\u001b[0m\u001b[1;33m,\u001b[0m \u001b[1;34m\"Top_50_Director\"\u001b[0m\u001b[1;33m,\u001b[0m \u001b[1;34m\", \"\u001b[0m\u001b[1;33m,\u001b[0m \u001b[1;34m\"top_50_directors.csv\"\u001b[0m\u001b[1;33m)\u001b[0m\u001b[1;33m\u001b[0m\u001b[1;33m\u001b[0m\u001b[0m\n\u001b[0m",
      "\u001b[1;32m~\\AppData\\Local\\Temp\\ipykernel_5912\\1003572985.py\u001b[0m in \u001b[0;36mone_hot_encoding_bin\u001b[1;34m(dataset, orginal_column, new_column_name, seperator, file_location)\u001b[0m\n\u001b[0;32m      1\u001b[0m \u001b[1;32mdef\u001b[0m \u001b[0mone_hot_encoding_bin\u001b[0m\u001b[1;33m(\u001b[0m\u001b[0mdataset\u001b[0m\u001b[1;33m,\u001b[0m \u001b[0morginal_column\u001b[0m\u001b[1;33m,\u001b[0m \u001b[0mnew_column_name\u001b[0m\u001b[1;33m,\u001b[0m \u001b[0mseperator\u001b[0m\u001b[1;33m,\u001b[0m \u001b[0mfile_location\u001b[0m\u001b[1;33m)\u001b[0m\u001b[1;33m:\u001b[0m\u001b[1;33m\u001b[0m\u001b[1;33m\u001b[0m\u001b[0m\n\u001b[0;32m      2\u001b[0m     \u001b[1;31m# 1. Only keeping the first director\u001b[0m\u001b[1;33m\u001b[0m\u001b[1;33m\u001b[0m\u001b[1;33m\u001b[0m\u001b[0m\n\u001b[1;32m----> 3\u001b[1;33m     \u001b[0mdataset_processed_1\u001b[0m\u001b[1;33m[\u001b[0m\u001b[0mnew_column_name\u001b[0m\u001b[1;33m]\u001b[0m \u001b[1;33m=\u001b[0m \u001b[0mdataset_processed_1\u001b[0m\u001b[1;33m[\u001b[0m\u001b[0morginal_column\u001b[0m\u001b[1;33m]\u001b[0m\u001b[1;33m.\u001b[0m\u001b[0mstr\u001b[0m\u001b[1;33m.\u001b[0m\u001b[0msplit\u001b[0m\u001b[1;33m(\u001b[0m\u001b[0mseperator\u001b[0m\u001b[1;33m)\u001b[0m\u001b[1;33m.\u001b[0m\u001b[0mstr\u001b[0m\u001b[1;33m[\u001b[0m\u001b[1;36m0\u001b[0m\u001b[1;33m]\u001b[0m\u001b[1;33m\u001b[0m\u001b[1;33m\u001b[0m\u001b[0m\n\u001b[0m\u001b[0;32m      4\u001b[0m \u001b[1;33m\u001b[0m\u001b[0m\n\u001b[0;32m      5\u001b[0m     \u001b[1;31m# 2. Dropping the original column\u001b[0m\u001b[1;33m\u001b[0m\u001b[1;33m\u001b[0m\u001b[1;33m\u001b[0m\u001b[0m\n",
      "\u001b[1;31mNameError\u001b[0m: name 'dataset_processed_1' is not defined"
     ]
    }
   ],
   "source": [
    "def one_hot_encoding_bin(dataset, orginal_column, new_column_name, seperator, file_location):\n",
    "    # 1. Only keeping the first director\n",
    "    dataset[new_column_name] = dataset[orginal_column].str.split(seperator).str[0]\n",
    "\n",
    "    # 2. Dropping the original column\n",
    "    dataset.drop(columns=[orginal_column], inplace=True)\n",
    "\n",
    "    # 1. Importing top directors dataset\n",
    "    dataset_directors = pd.read_csv(file_location)\n",
    "\n",
    "    # 2. If Director is in dataset_directors, replace name with 1\n",
    "    # else replace name with 0\n",
    "    replace = dataset[new_column_name].isin(dataset_directors['Name'])\n",
    "    dataset[new_column_name] = replace.astype(int)\n",
    "\n",
    "    # 3. Check the updated table\n",
    "    dataset.head(2)\n",
    "    print(f'Number of top 50 directors in dataset: {(dataset[new_column_name] == 1).astype(int).sum()}')\n",
    "\n",
    "dataset_director = one_hot_encoding_bin(dataset_raw, \"Directors\", \"Top_50_Director\", \", \", \"top_50_directors.csv\")  "
   ]
  },
  {
   "cell_type": "code",
   "execution_count": null,
   "id": "f99e6c0b",
   "metadata": {},
   "outputs": [],
   "source": [
    "dataset_encoding.head()"
   ]
  },
  {
   "cell_type": "code",
   "execution_count": null,
   "id": "762d6161",
   "metadata": {},
   "outputs": [],
   "source": [
    "#dataset_encoding.to_csv('C:/zlatte1/dataset_encoding.csv', index=False)"
   ]
  },
  {
   "cell_type": "code",
   "execution_count": null,
   "id": "76e4bf37",
   "metadata": {},
   "outputs": [],
   "source": []
  }
 ],
 "metadata": {
  "kernelspec": {
   "display_name": "Python 3 (ipykernel)",
   "language": "python",
   "name": "python3"
  },
  "language_info": {
   "codemirror_mode": {
    "name": "ipython",
    "version": 3
   },
   "file_extension": ".py",
   "mimetype": "text/x-python",
   "name": "python",
   "nbconvert_exporter": "python",
   "pygments_lexer": "ipython3",
   "version": "3.7.15"
  }
 },
 "nbformat": 4,
 "nbformat_minor": 5
}
