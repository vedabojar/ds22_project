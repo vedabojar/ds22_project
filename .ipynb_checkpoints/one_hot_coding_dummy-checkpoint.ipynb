{
 "cells": [
  {
   "cell_type": "code",
   "execution_count": 1,
   "id": "32715857",
   "metadata": {},
   "outputs": [],
   "source": [
    "import pandas as pd"
   ]
  },
  {
   "cell_type": "code",
   "execution_count": 2,
   "id": "5e8f4381",
   "metadata": {},
   "outputs": [
    {
     "data": {
      "text/html": [
       "<div>\n",
       "<style scoped>\n",
       "    .dataframe tbody tr th:only-of-type {\n",
       "        vertical-align: middle;\n",
       "    }\n",
       "\n",
       "    .dataframe tbody tr th {\n",
       "        vertical-align: top;\n",
       "    }\n",
       "\n",
       "    .dataframe thead th {\n",
       "        text-align: right;\n",
       "    }\n",
       "</style>\n",
       "<table border=\"1\" class=\"dataframe\">\n",
       "  <thead>\n",
       "    <tr style=\"text-align: right;\">\n",
       "      <th></th>\n",
       "      <th>Title</th>\n",
       "      <th>Rating</th>\n",
       "      <th>Year</th>\n",
       "      <th>Month</th>\n",
       "      <th>Certificate</th>\n",
       "      <th>Runtime</th>\n",
       "      <th>Directors</th>\n",
       "      <th>Stars</th>\n",
       "      <th>Genre</th>\n",
       "      <th>Filming_location</th>\n",
       "      <th>Budget</th>\n",
       "      <th>Income</th>\n",
       "      <th>Country_of_origin</th>\n",
       "    </tr>\n",
       "  </thead>\n",
       "  <tbody>\n",
       "    <tr>\n",
       "      <th>0</th>\n",
       "      <td>Avatar: The Way of Water</td>\n",
       "      <td>7.8</td>\n",
       "      <td>2022</td>\n",
       "      <td>December</td>\n",
       "      <td>PG-13</td>\n",
       "      <td>192</td>\n",
       "      <td>James Cameron</td>\n",
       "      <td>Sam Worthington, Zoe Saldana, Sigourney Weaver...</td>\n",
       "      <td>Action, Adventure, Fantasy</td>\n",
       "      <td>New Zealand</td>\n",
       "      <td>$350,000,000</td>\n",
       "      <td>$2,267,946,983</td>\n",
       "      <td>United States</td>\n",
       "    </tr>\n",
       "    <tr>\n",
       "      <th>1</th>\n",
       "      <td>Guillermo del Toro's Pinocchio</td>\n",
       "      <td>7.6</td>\n",
       "      <td>2022</td>\n",
       "      <td>December</td>\n",
       "      <td>PG</td>\n",
       "      <td>117</td>\n",
       "      <td>Guillermo del Toro, Mark Gustafson</td>\n",
       "      <td>Ewan McGregor, David Bradley, Gregory Mann, Bu...</td>\n",
       "      <td>Animation, Drama, Family</td>\n",
       "      <td>USA</td>\n",
       "      <td>$35,000,000</td>\n",
       "      <td>$108,967</td>\n",
       "      <td>United States, Mexico, France</td>\n",
       "    </tr>\n",
       "  </tbody>\n",
       "</table>\n",
       "</div>"
      ],
      "text/plain": [
       "                            Title  Rating  Year     Month Certificate Runtime  \\\n",
       "0        Avatar: The Way of Water     7.8  2022  December       PG-13     192   \n",
       "1  Guillermo del Toro's Pinocchio     7.6  2022  December          PG     117   \n",
       "\n",
       "                            Directors  \\\n",
       "0                       James Cameron   \n",
       "1  Guillermo del Toro, Mark Gustafson   \n",
       "\n",
       "                                               Stars  \\\n",
       "0  Sam Worthington, Zoe Saldana, Sigourney Weaver...   \n",
       "1  Ewan McGregor, David Bradley, Gregory Mann, Bu...   \n",
       "\n",
       "                        Genre Filming_location         Budget  \\\n",
       "0  Action, Adventure, Fantasy      New Zealand  $350,000,000    \n",
       "1    Animation, Drama, Family              USA   $35,000,000    \n",
       "\n",
       "            Income              Country_of_origin  \n",
       "0  $2,267,946,983                   United States  \n",
       "1        $108,967   United States, Mexico, France  "
      ]
     },
     "execution_count": 2,
     "metadata": {},
     "output_type": "execute_result"
    }
   ],
   "source": [
    "dataset_raw = pd.read_csv('movies.csv')\n",
    "dataset_raw.head(2)"
   ]
  },
  {
   "cell_type": "code",
   "execution_count": null,
   "id": "594a2f23",
   "metadata": {},
   "outputs": [],
   "source": [
    "def one_hot_encoding_dummy(column, seperator, dataset, y_column):\n",
    "    dataset_processed_genre = dataset\n",
    "    # 1. Creating a list with all genres mentioned in the dataset\n",
    "    genre_list = []\n",
    "    for genres in dataset_processed_genre[column]:\n",
    "        genre_list.append(genres.split(seperator))\n",
    "\n",
    "    # 2. Creating a list with genre categories\n",
    "    unique_g= set()\n",
    "    for genres in genre_list:\n",
    "        for genre in genres:\n",
    "            unique_g.add(genre)\n",
    "\n",
    "    unique_genres = list(unique_g)\n",
    "    amount = len(unique_genres)\n",
    "    #return ((amount), (unique_genres))\n",
    "\n",
    "    # 3. Creating a subtable with title as the first column followed by one \n",
    "    # column per genre\n",
    "    genre_subtable = pd.DataFrame(columns=[y_column] + unique_genres)\n",
    "\n",
    "    # 4. For each movie, assign 1 to those genres it has been assigned \n",
    "    for i, row in dataset_processed_genre.iterrows():\n",
    "        new_row = {y_column: row[y_column]}\n",
    "        for genre in unique_genres:\n",
    "            new_row[genre] = 0\n",
    "        for genre in row[column].split(seperator):\n",
    "            new_row[genre] = 1\n",
    "        genre_subtable = genre_subtable.append(new_row, ignore_index=True)\n",
    "\n",
    "    # 5. Merging the subtable with the main dataset\n",
    "    pivot_table = genre_subtable.melt(id_vars=y_column, var_name=column)\n",
    "    pivot_table = pivot_table[pivot_table['value'] == 1]\n",
    "    pivot_table = pivot_table.drop(columns=['value'])\n",
    "    pivot_table = pivot_table.pivot_table(index=y_column, columns=column, aggfunc='size', fill_value=0).reset_index()\n",
    "\n",
    "    # 7. Merge the pivot table with the original DataFrame\n",
    "    dataset_processed_genre = pd.merge(dataset_processed_genre, pivot_table, on=y_column, how='left')\n",
    "    dataset_processed_genre.drop(columns=[column], inplace=True)\n",
    "\n",
    "    # 8. Checking the dataset shape\n",
    "    return dataset_processed_genre\n",
    "    #print('-----------------------------')\n",
    "    #print(f'Current number of columns: {dataset_processed_genre.shape[1]}')\n",
    "    #print(f'Current number of rows: {dataset_processed_genre.shape[0]}')\n",
    "    \n",
    "    \n",
    "dataset_encoding =  one_hot_encoding_dummy(\"Genre\", \", \", dataset_raw, \"Title\" )"
   ]
  },
  {
   "cell_type": "code",
   "execution_count": null,
   "id": "f9af3bc8",
   "metadata": {},
   "outputs": [],
   "source": []
  },
  {
   "cell_type": "code",
   "execution_count": null,
   "id": "f99e6c0b",
   "metadata": {},
   "outputs": [],
   "source": [
    "dataset_encoding.head()"
   ]
  },
  {
   "cell_type": "code",
   "execution_count": null,
   "id": "762d6161",
   "metadata": {},
   "outputs": [],
   "source": [
    "#dataset_encoding.to_csv('C:/zlatte1/dataset_encoding.csv', index=False)"
   ]
  },
  {
   "cell_type": "code",
   "execution_count": null,
   "id": "76e4bf37",
   "metadata": {},
   "outputs": [],
   "source": [
    "#dataset_encoding2 =  one_hot_encoding_dummy(\"Country_of_origin\", \", \", dataset_encoding, \"Title\" )"
   ]
  },
  {
   "cell_type": "code",
   "execution_count": null,
   "id": "6cc52c71",
   "metadata": {},
   "outputs": [],
   "source": [
    "#dataset_encoding2.head()"
   ]
  },
  {
   "cell_type": "code",
   "execution_count": null,
   "id": "38c193d4",
   "metadata": {},
   "outputs": [],
   "source": [
    "#dataset_encoding2.to_csv('C:/zlatte1/dataset_encoding.csv', index=False)"
   ]
  },
  {
   "cell_type": "code",
   "execution_count": null,
   "id": "88e0520e",
   "metadata": {},
   "outputs": [],
   "source": []
  }
 ],
 "metadata": {
  "kernelspec": {
   "display_name": "Python 3 (ipykernel)",
   "language": "python",
   "name": "python3"
  },
  "language_info": {
   "codemirror_mode": {
    "name": "ipython",
    "version": 3
   },
   "file_extension": ".py",
   "mimetype": "text/x-python",
   "name": "python",
   "nbconvert_exporter": "python",
   "pygments_lexer": "ipython3",
   "version": "3.7.15"
  }
 },
 "nbformat": 4,
 "nbformat_minor": 5
}
