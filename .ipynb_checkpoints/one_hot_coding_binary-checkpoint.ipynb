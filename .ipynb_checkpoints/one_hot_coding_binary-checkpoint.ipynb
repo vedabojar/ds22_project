{
 "cells": [
  {
   "cell_type": "code",
   "execution_count": null,
   "metadata": {},
   "outputs": [],
   "source": [
    "import pandas as pd"
   ]
  },
  {
   "cell_type": "code",
   "execution_count": null,
   "metadata": {},
   "outputs": [],
   "source": [
    "dataset_raw = pd.read_csv('C:/Users/admin1/Documents/GitHub/ds22_project/data/movies.csv')\n",
    "dataset_raw.head(2)"
   ]
  },
  {
   "cell_type": "code",
   "execution_count": null,
   "metadata": {},
   "outputs": [],
   "source": [
    "def one_hot_coding_binary(dataset, original_column, new_column, file_column, file_location, separator=\",\", check_all_directors=False):\n",
    "    \n",
    "    #Only first or all directors\n",
    "    if check_all_directors:\n",
    "        dataset[new_column] = dataset[original_column].str.split(separator)\n",
    "    else:\n",
    "        dataset[new_column] = dataset[original_column].str.split(separator, expand=True)[0]\n",
    "\n",
    "    # Importing the dataset with the values to be checked\n",
    "    dataset_directors = pd.read_csv(file_location)\n",
    "\n",
    "    # Create a new column to store the binary values for each director\n",
    "    dataset[new_column+\"_binary\"] = 0\n",
    "\n",
    "    # Iterate over the directors and set the binary value to 1 if the director is in the dataset_directors\n",
    "    if check_all_directors:\n",
    "        for i, row in dataset.iterrows():\n",
    "            for director in row[new_column]:\n",
    "                if director.strip() in dataset_directors[file_column].values:\n",
    "                    dataset.loc[i, new_column+\"_binary\"] = 1\n",
    "    else:\n",
    "        replace = dataset[new_column].isin(dataset_directors[file_column])\n",
    "        dataset[new_column+\"_binary\"] = replace.astype(int)\n",
    "    \n",
    "    # Drop unnecessary columns and rename the new column\n",
    "    dataset.drop(columns=[original_column, new_column], inplace=True)\n",
    "    dataset.rename(columns={new_column+\"_binary\": new_column}, inplace=True)\n",
    "    \n",
    "    return dataset\n",
    "\n",
    "dataset_new = one_hot_coding_binary(dataset_raw, \"Directors\", \"Top_50_Director\", \"Name\", \"C:/Users/admin1/Documents/GitHub/ds22_project/data/top_50_directors.csv\", check_all_directors=False)\n"
   ]
  },
  {
   "cell_type": "code",
   "execution_count": null,
   "metadata": {
    "scrolled": true
   },
   "outputs": [],
   "source": [
    "dataset_new.head(122)"
   ]
  },
  {
   "cell_type": "code",
   "execution_count": null,
   "metadata": {},
   "outputs": [],
   "source": [
    "#dataset_new.info()"
   ]
  },
  {
   "cell_type": "code",
   "execution_count": null,
   "metadata": {},
   "outputs": [],
   "source": [
    "#count = (dataset_new['Top_50_Director'] > 0).sum()\n",
    "#print(count)"
   ]
  },
  {
   "cell_type": "code",
   "execution_count": null,
   "metadata": {},
   "outputs": [],
   "source": []
  }
 ],
 "metadata": {
  "kernelspec": {
   "display_name": "Python 3 (ipykernel)",
   "language": "python",
   "name": "python3"
  },
  "language_info": {
   "codemirror_mode": {
    "name": "ipython",
    "version": 3
   },
   "file_extension": ".py",
   "mimetype": "text/x-python",
   "name": "python",
   "nbconvert_exporter": "python",
   "pygments_lexer": "ipython3",
   "version": "3.7.15"
  },
  "vscode": {
   "interpreter": {
    "hash": "c0de92a10c1f65e53f9acff1f0bafd09b320a4aed9d91aa143eea6431dc87452"
   }
  }
 },
 "nbformat": 4,
 "nbformat_minor": 2
}
