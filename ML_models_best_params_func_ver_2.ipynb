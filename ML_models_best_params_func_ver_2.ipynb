{
 "cells": [
  {
   "cell_type": "code",
   "execution_count": 1,
   "id": "44ce616b",
   "metadata": {},
   "outputs": [],
   "source": [
    "import pandas as pd\n",
    "from sklearn.ensemble import RandomForestRegressor\n",
    "from sklearn.model_selection import GridSearchCV, train_test_split\n",
    "from sklearn.metrics import mean_squared_error\n",
    "import numpy as np\n",
    "import time\n",
    "\n",
    "\n",
    "def train_random_forest_model(df, target_col, param_grid):\n",
    "    start_time = time.time()\n",
    "    # Split the data into training, validation, and testing sets\n",
    "    X = df.drop(target_col, axis=1)\n",
    "    y = df[target_col]\n",
    "    X_trainval, X_test, y_trainval, y_test = train_test_split(X, y, test_size=0.15, random_state=42)\n",
    "    X_train, X_val, y_train, y_val = train_test_split(X_trainval, y_trainval, test_size=0.1765, random_state=42)  # 0.1765 = 15/85\n",
    "\n",
    "    # Create a random forest regressor object\n",
    "    rf = RandomForestRegressor()\n",
    "\n",
    "    # Perform grid search to find the best hyperparameters\n",
    "    grid_search = GridSearchCV(estimator=rf, param_grid=param_grid, cv=5)\n",
    "    grid_search.fit(X_train, y_train)\n",
    "\n",
    "    # Print the best hyperparameters and corresponding mean cross-validated score on validation set\n",
    "    print(f'Best hyperparameters: {grid_search.best_params_}')\n",
    "    #print(f'Best cross-validated score on validation set: {grid_search.best_score_}')\n",
    "\n",
    "    # Use the best hyperparameters to create a random forest model\n",
    "    best_rf = RandomForestRegressor(**grid_search.best_params_)\n",
    "    best_rf.fit(X_trainval, y_trainval)\n",
    "\n",
    "    # Use the trained model to predict the target variable on the validation set\n",
    "    y_pred_val = best_rf.predict(X_val)\n",
    "\n",
    "    # Compute the RMSE on the validation set\n",
    "    val_rmse = np.sqrt(mean_squared_error(y_val, y_pred_val))\n",
    "\n",
    "    # Use the trained model to predict the target variable on the test set\n",
    "    y_pred_test = best_rf.predict(X_test)\n",
    "\n",
    "    # Compute the RMSE on the test set\n",
    "    test_rmse = np.sqrt(mean_squared_error(y_test, y_pred_test))\n",
    "    \n",
    "    end_time = time.time()\n",
    "    elapsed_time = end_time - start_time\n",
    "    \n",
    "    return best_rf, grid_search.best_params_, val_rmse, test_rmse, elapsed_time\n"
   ]
  },
  {
   "cell_type": "code",
   "execution_count": 2,
   "id": "b2019f2c",
   "metadata": {},
   "outputs": [
    {
     "name": "stdout",
     "output_type": "stream",
     "text": [
      "Best hyperparameters: {'max_depth': 5, 'min_samples_leaf': 2, 'min_samples_split': 5, 'n_estimators': 50}\n"
     ]
    }
   ],
   "source": [
    "# Parameters for the function\n",
    "df = pd.read_csv('mvoies_processed_noTitle.csv')\n",
    "target_col = \"Rating\"\n",
    "param_grid = {\n",
    "    'n_estimators': [25, 50],\n",
    "    'max_depth': [1, 5],\n",
    "    'min_samples_split': [2, 5],\n",
    "    'min_samples_leaf': [1, 2],\n",
    "}\n",
    "# Call the function\n",
    "# model, best_params, val_rmse, test_rmse, time\n",
    "model_rf = train_random_forest_model(df, target_col, param_grid)"
   ]
  },
  {
   "cell_type": "code",
   "execution_count": 4,
   "id": "da5e7b8a",
   "metadata": {},
   "outputs": [
    {
     "name": "stdout",
     "output_type": "stream",
     "text": [
      "Best hyperparameters: {'max_depth': 5, 'min_samples_leaf': 2, 'min_samples_split': 5, 'n_estimators': 50}\n"
     ]
    }
   ],
   "source": [
    "param_grid = {\n",
    "    'n_estimators': [25, 50, 100],\n",
    "    'max_depth': [1, 5],\n",
    "    'min_samples_split': [2, 5],\n",
    "    'min_samples_leaf': [1, 2],\n",
    "}\n",
    "# Call the function\n",
    "# model, best_params, val_rmse, test_rmse, time\n",
    "model_rf_2 = train_random_forest_model(df, target_col, param_grid)"
   ]
  },
  {
   "cell_type": "code",
   "execution_count": 13,
   "id": "3d3236b0",
   "metadata": {},
   "outputs": [
    {
     "data": {
      "text/html": [
       "<div>\n",
       "<style scoped>\n",
       "    .dataframe tbody tr th:only-of-type {\n",
       "        vertical-align: middle;\n",
       "    }\n",
       "\n",
       "    .dataframe tbody tr th {\n",
       "        vertical-align: top;\n",
       "    }\n",
       "\n",
       "    .dataframe thead th {\n",
       "        text-align: right;\n",
       "    }\n",
       "</style>\n",
       "<table border=\"1\" class=\"dataframe\">\n",
       "  <thead>\n",
       "    <tr style=\"text-align: right;\">\n",
       "      <th></th>\n",
       "      <th>Best Params</th>\n",
       "      <th></th>\n",
       "      <th>val RMSE</th>\n",
       "      <th>test RMSE</th>\n",
       "      <th>time</th>\n",
       "      <th>Comments</th>\n",
       "    </tr>\n",
       "  </thead>\n",
       "  <tbody>\n",
       "    <tr>\n",
       "      <th>0</th>\n",
       "      <td>{'max_depth': 5, 'min_samples_leaf': 2, 'min_s...</td>\n",
       "      <td>{'max_depth': 5, 'min_samples_leaf': 2, 'min_s...</td>\n",
       "      <td>0.602688</td>\n",
       "      <td>0.756150</td>\n",
       "      <td>13.533924</td>\n",
       "      <td>Standard settings</td>\n",
       "    </tr>\n",
       "    <tr>\n",
       "      <th>1</th>\n",
       "      <td>{'max_depth': 5, 'min_samples_leaf': 2, 'min_s...</td>\n",
       "      <td>{'max_depth': 5, 'min_samples_leaf': 2, 'min_s...</td>\n",
       "      <td>0.597853</td>\n",
       "      <td>0.755815</td>\n",
       "      <td>31.293541</td>\n",
       "      <td>changed n_est</td>\n",
       "    </tr>\n",
       "  </tbody>\n",
       "</table>\n",
       "</div>"
      ],
      "text/plain": [
       "                                         Best Params  \\\n",
       "0  {'max_depth': 5, 'min_samples_leaf': 2, 'min_s...   \n",
       "1  {'max_depth': 5, 'min_samples_leaf': 2, 'min_s...   \n",
       "\n",
       "                                                      val RMSE  test RMSE  \\\n",
       "0  {'max_depth': 5, 'min_samples_leaf': 2, 'min_s...  0.602688   0.756150   \n",
       "1  {'max_depth': 5, 'min_samples_leaf': 2, 'min_s...  0.597853   0.755815   \n",
       "\n",
       "        time           Comments  \n",
       "0  13.533924  Standard settings  \n",
       "1  31.293541      changed n_est  "
      ]
     },
     "execution_count": 13,
     "metadata": {},
     "output_type": "execute_result"
    }
   ],
   "source": [
    "# Define some sample data\n",
    "data = {'Best Params': [model_rf[1], model_rf_2[1]],\n",
    "        '': [model_rf[1], model_rf_2[1]],\n",
    "        'val RMSE': [model_rf[2], model_rf_2[2]],\n",
    "        'test RMSE': [model_rf[3], model_rf_2[3]],\n",
    "        'time': [model_rf[4], model_rf_2[4]],\n",
    "        'Comments': [\"Standard settings\", \"changed n_est\"]}\n",
    "\n",
    "# Create a pandas DataFrame from the data dictionary\n",
    "df = pd.DataFrame(data)\n",
    "\n",
    "# Print the DataFrame\n",
    "df.head()"
   ]
  },
  {
   "cell_type": "code",
   "execution_count": null,
   "id": "46219bb6",
   "metadata": {},
   "outputs": [],
   "source": []
  }
 ],
 "metadata": {
  "kernelspec": {
   "display_name": "Python 3 (ipykernel)",
   "language": "python",
   "name": "python3"
  },
  "language_info": {
   "codemirror_mode": {
    "name": "ipython",
    "version": 3
   },
   "file_extension": ".py",
   "mimetype": "text/x-python",
   "name": "python",
   "nbconvert_exporter": "python",
   "pygments_lexer": "ipython3",
   "version": "3.7.15"
  }
 },
 "nbformat": 4,
 "nbformat_minor": 5
}
