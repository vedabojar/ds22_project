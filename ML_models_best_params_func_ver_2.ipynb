{
 "cells": [
  {
   "cell_type": "code",
   "execution_count": 1,
   "id": "44ce616b",
   "metadata": {},
   "outputs": [],
   "source": [
    "import warnings\n",
    "warnings.filterwarnings('ignore')\n",
    "\n",
    "import pandas as pd\n",
    "from sklearn.ensemble import RandomForestRegressor\n",
    "from sklearn.model_selection import GridSearchCV, train_test_split\n",
    "from sklearn.metrics import mean_squared_error\n",
    "import numpy as np\n",
    "import time\n",
    "from sklearn.linear_model import LinearRegression\n",
    "import joblib\n",
    "\n",
    "\n",
    "\n",
    "def train_random_forest_model(df, target_col, param_grid):\n",
    "    start_time = time.time()\n",
    "    # Split the data into training, validation, and testing sets\n",
    "    X = df.drop(target_col, axis=1)\n",
    "    y = df[target_col]\n",
    "    X_trainval, X_test, y_trainval, y_test = train_test_split(X, y, test_size=0.15, random_state=42)\n",
    "    X_train, X_val, y_train, y_val = train_test_split(X_trainval, y_trainval, test_size=0.1765, random_state=42)  # 0.1765 = 15/85\n",
    "\n",
    "    \n",
    "    # Print the shape of the datasets\n",
    "   # print(\"Shape of X: \", X.shape)\n",
    "    #print(\"Shape of X_train: \", X_train.shape)\n",
    "    #print(\"Shape of X_test: \", X_test.shape)\n",
    "    #print(\"Shape of X_val: \", X_val.shape)\n",
    "    \n",
    "    \n",
    "    # Create a random forest regressor object\n",
    "    rf = RandomForestRegressor()\n",
    "\n",
    "    # Perform grid search to find the best hyperparameters\n",
    "    grid_search = GridSearchCV(estimator=rf, param_grid=param_grid, cv=5)\n",
    "    grid_search.fit(X_train, y_train)\n",
    "\n",
    "    # Print the best hyperparameters and corresponding mean cross-validated score on validation set\n",
    "    #print(f'Best hyperparameters: {grid_search.best_params_}')\n",
    "    #print(f'Best cross-validated score on validation set: {grid_search.best_score_}')\n",
    "\n",
    "    # Use the best hyperparameters to create a random forest model\n",
    "    best_rf = RandomForestRegressor(**grid_search.best_params_)\n",
    "    best_rf.fit(X_trainval, y_trainval)\n",
    "\n",
    "    # Use the trained model to predict the target variable on the validation set\n",
    "    y_pred_val = best_rf.predict(X_val)\n",
    "\n",
    "    # Compute the RMSE on the validation set\n",
    "    val_rmse = np.sqrt(mean_squared_error(y_val, y_pred_val))\n",
    "\n",
    "    # Use the trained model to predict the target variable on the test set\n",
    "    y_pred_test = best_rf.predict(X_test)\n",
    "\n",
    "    # Compute the RMSE on the test set\n",
    "    test_rmse = np.sqrt(mean_squared_error(y_test, y_pred_test))\n",
    "    \n",
    "    end_time = time.time()\n",
    "    elapsed_time = end_time - start_time\n",
    "    \n",
    "    return best_rf, grid_search.best_params_, val_rmse, test_rmse, elapsed_time"
   ]
  },
  {
   "cell_type": "code",
   "execution_count": 2,
   "id": "e96c8486",
   "metadata": {},
   "outputs": [],
   "source": [
    "def train_linear_regression_model(df, target_col, param_grid):\n",
    "    start_time = time.time()\n",
    "    # Split the data into training, validation, and testing sets\n",
    "    X = df.drop(target_col, axis=1)\n",
    "    y = df[target_col]\n",
    "    X_trainval, X_test, y_trainval, y_test = train_test_split(X, y, test_size=0.15, random_state=42)\n",
    "    X_train, X_val, y_train, y_val = train_test_split(X_trainval, y_trainval, test_size=0.1765, random_state=42)  # 0.1765 = 15/85\n",
    "\n",
    "    # Print the shape of the datasets\n",
    "    #print(\"Shape of X: \", X.shape)\n",
    "    #print(\"Shape of X_train: \", X_train.shape)\n",
    "    #print(\"Shape of X_test: \", X_test.shape)\n",
    "   ## print(\"Shape of X_val: \", X_val.shape)\n",
    "\n",
    "    # Create a linear regression object\n",
    "    lr = LinearRegression()\n",
    "\n",
    "    # Perform grid search to find the best hyperparameters\n",
    "    grid_search = GridSearchCV(estimator=lr, param_grid=param_grid, cv=5)\n",
    "    grid_search.fit(X_train, y_train)\n",
    "\n",
    "    # Print the best hyperparameters and corresponding mean cross-validated score on validation set\n",
    "    #print(f'Best hyperparameters: {grid_search.best_params_}')\n",
    "\n",
    "    # Use the best hyperparameters to create a linear regression model\n",
    "    best_lr = LinearRegression(**grid_search.best_params_)\n",
    "    best_lr.fit(X_trainval, y_trainval)\n",
    "\n",
    "    # Use the trained model to predict the target variable on the validation set\n",
    "    y_pred_val = best_lr.predict(X_val)\n",
    "\n",
    "    # Compute the RMSE on the validation set\n",
    "    val_rmse = np.sqrt(mean_squared_error(y_val, y_pred_val))\n",
    "\n",
    "    # Use the trained model to predict the target variable on the test set\n",
    "    y_pred_test = best_lr.predict(X_test)\n",
    "\n",
    "    # Compute the RMSE on the test set\n",
    "    test_rmse = np.sqrt(mean_squared_error(y_test, y_pred_test))\n",
    "\n",
    "    end_time = time.time()\n",
    "    elapsed_time = end_time - start_time\n",
    "\n",
    "    return best_lr, grid_search.best_params_, val_rmse, test_rmse, elapsed_time"
   ]
  },
  {
   "cell_type": "code",
   "execution_count": 3,
   "id": "46219bb6",
   "metadata": {},
   "outputs": [],
   "source": [
    "#Load dataset and set target_col\n",
    "df = pd.read_csv('./data/mvoies_processed_noTitle.csv')\n",
    "target_col = \"Rating\""
   ]
  },
  {
   "cell_type": "markdown",
   "id": "6955eff3",
   "metadata": {},
   "source": [
    "#### RF "
   ]
  },
  {
   "cell_type": "code",
   "execution_count": 4,
   "id": "9084e6a1",
   "metadata": {},
   "outputs": [],
   "source": [
    "# Parameters for RF\n",
    "rf_param_grid = {\n",
    "    'n_estimators': [25, 50],\n",
    "    'max_depth': [1, 5],\n",
    "    'min_samples_split': [2, 5],\n",
    "    'min_samples_leaf': [1, 2],\n",
    "}\n",
    "# model, best_params, val_rmse, test_rmse, time\n",
    "model_rf = train_random_forest_model(df, target_col, rf_param_grid)"
   ]
  },
  {
   "cell_type": "markdown",
   "id": "bf5901fc",
   "metadata": {},
   "source": [
    "#### Lin Reg"
   ]
  },
  {
   "cell_type": "code",
   "execution_count": 5,
   "id": "4463ecef",
   "metadata": {},
   "outputs": [],
   "source": [
    "# Parameters for the function\n",
    "lin_param_grid = {\n",
    "    'fit_intercept': [True, False],\n",
    "    'normalize': [True, False]\n",
    "}\n",
    "# Call the function\n",
    "# model, best_params, val_rmse, test_rmse, time\n",
    "model_lin = train_linear_regression_model(df, target_col, lin_param_grid)"
   ]
  },
  {
   "cell_type": "markdown",
   "id": "ef3f8f81",
   "metadata": {},
   "source": [
    "#### Overview of models with tuned hyper params"
   ]
  },
  {
   "cell_type": "code",
   "execution_count": 6,
   "id": "123f70a5",
   "metadata": {},
   "outputs": [
    {
     "data": {
      "text/html": [
       "<div>\n",
       "<style scoped>\n",
       "    .dataframe tbody tr th:only-of-type {\n",
       "        vertical-align: middle;\n",
       "    }\n",
       "\n",
       "    .dataframe tbody tr th {\n",
       "        vertical-align: top;\n",
       "    }\n",
       "\n",
       "    .dataframe thead th {\n",
       "        text-align: right;\n",
       "    }\n",
       "</style>\n",
       "<table border=\"1\" class=\"dataframe\">\n",
       "  <thead>\n",
       "    <tr style=\"text-align: right;\">\n",
       "      <th></th>\n",
       "      <th>Model</th>\n",
       "      <th>Val_RMSE</th>\n",
       "      <th>Test_RMSE</th>\n",
       "      <th>Best_params</th>\n",
       "    </tr>\n",
       "  </thead>\n",
       "  <tbody>\n",
       "    <tr>\n",
       "      <th>0</th>\n",
       "      <td>RF</td>\n",
       "      <td>0.602429</td>\n",
       "      <td>0.760805</td>\n",
       "      <td>{'max_depth': 5, 'min_samples_leaf': 1, 'min_s...</td>\n",
       "    </tr>\n",
       "    <tr>\n",
       "      <th>1</th>\n",
       "      <td>Lin</td>\n",
       "      <td>0.648123</td>\n",
       "      <td>0.753572</td>\n",
       "      <td>{'fit_intercept': True, 'normalize': False}</td>\n",
       "    </tr>\n",
       "  </tbody>\n",
       "</table>\n",
       "</div>"
      ],
      "text/plain": [
       "  Model  Val_RMSE  Test_RMSE  \\\n",
       "0    RF  0.602429   0.760805   \n",
       "1   Lin  0.648123   0.753572   \n",
       "\n",
       "                                         Best_params  \n",
       "0  {'max_depth': 5, 'min_samples_leaf': 1, 'min_s...  \n",
       "1        {'fit_intercept': True, 'normalize': False}  "
      ]
     },
     "execution_count": 6,
     "metadata": {},
     "output_type": "execute_result"
    }
   ],
   "source": [
    "models_overview = { 'Model': ['RF', 'Lin'],\n",
    "                    'Val_RMSE': [model_rf[2], model_lin[2]],\n",
    "                    'Test_RMSE': [model_rf[3], model_lin[3]],\n",
    "                    'Best_params': [model_rf[1], model_lin[1]],}\n",
    "df = pd.DataFrame(models_overview)\n",
    "df.head()"
   ]
  },
  {
   "cell_type": "markdown",
   "id": "d7f9fcc5",
   "metadata": {},
   "source": [
    "#### Save the models with joblib"
   ]
  },
  {
   "cell_type": "code",
   "execution_count": 7,
   "id": "a0093828",
   "metadata": {},
   "outputs": [
    {
     "data": {
      "text/plain": [
       "['./models/model_lin.joblib']"
      ]
     },
     "execution_count": 7,
     "metadata": {},
     "output_type": "execute_result"
    }
   ],
   "source": [
    "filename = './models/model_rf.joblib'\n",
    "joblib.dump(model_rf[0], filename)\n",
    "\n",
    "filename = './models/model_lin.joblib'\n",
    "joblib.dump(model_lin[0], filename)"
   ]
  },
  {
   "cell_type": "code",
   "execution_count": null,
   "id": "4ea452a4",
   "metadata": {},
   "outputs": [],
   "source": []
  },
  {
   "cell_type": "code",
   "execution_count": null,
   "id": "6b374abc",
   "metadata": {},
   "outputs": [],
   "source": []
  }
 ],
 "metadata": {
  "kernelspec": {
   "display_name": "Python 3 (ipykernel)",
   "language": "python",
   "name": "python3"
  },
  "language_info": {
   "codemirror_mode": {
    "name": "ipython",
    "version": 3
   },
   "file_extension": ".py",
   "mimetype": "text/x-python",
   "name": "python",
   "nbconvert_exporter": "python",
   "pygments_lexer": "ipython3",
   "version": "3.7.15"
  }
 },
 "nbformat": 4,
 "nbformat_minor": 5
}
