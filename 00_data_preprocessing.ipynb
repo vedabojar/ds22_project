{
 "cells": [
  {
   "cell_type": "markdown",
   "id": "324f44a8",
   "metadata": {},
   "source": [
    "### Importing Dependencies"
   ]
  },
  {
   "cell_type": "code",
   "execution_count": null,
   "id": "d65dd328",
   "metadata": {},
   "outputs": [],
   "source": [
    "import pandas as pd"
   ]
  },
  {
   "cell_type": "markdown",
   "id": "05ea50b2",
   "metadata": {},
   "source": [
    "### Loading Dataset"
   ]
  },
  {
   "cell_type": "code",
   "execution_count": null,
   "id": "b877a249",
   "metadata": {},
   "outputs": [],
   "source": [
    "df = pd.read_csv(\"../data/movies.csv\")\n",
    "df_continents = pd.read_csv(\"../data/continents.csv\")"
   ]
  },
  {
   "cell_type": "markdown",
   "id": "cfb4febf",
   "metadata": {},
   "source": [
    "### Functions"
   ]
  },
  {
   "cell_type": "markdown",
   "id": "d98b6ebb",
   "metadata": {},
   "source": [
    "#### 1.1 --- check_non_numeric_values"
   ]
  },
  {
   "cell_type": "code",
   "execution_count": null,
   "id": "7cff92f8",
   "metadata": {},
   "outputs": [],
   "source": [
    "def check_non_numeric_values(df, column):\n",
    "    \"\"\"Function takes in dataset and column. No kreturn, Printing out found non numeric values in the column.\"\"\"\n",
    "\n",
    "    # convert column to numeric data type\n",
    "    numeric_col = pd.to_numeric(df[column], errors='coerce')\n",
    "\n",
    "    # get the non-numeric values and their counts\n",
    "    non_numeric_values = df[column][numeric_col.isna()].value_counts()\n",
    "\n",
    "    # check if there are any non-numeric values\n",
    "    if non_numeric_values.empty:\n",
    "        print(\"No non numeric values in that column.\")\n",
    "    else:\n",
    "        # create a table with non-numeric values and their counts\n",
    "        non_numeric_table = pd.DataFrame({'Non-Numeric Value': non_numeric_values.index,\n",
    "                                          'Count': non_numeric_values.values})\n",
    "\n",
    "        # display the table\n",
    "        print(non_numeric_table)"
   ]
  },
  {
   "cell_type": "markdown",
   "id": "40b94d07",
   "metadata": {},
   "source": [
    "#### 2.1 --- convert_to_usd"
   ]
  },
  {
   "cell_type": "code",
   "execution_count": null,
   "id": "c85b06ad",
   "metadata": {},
   "outputs": [],
   "source": [
    "def convert_to_usd(amount):\n",
    "    amount.replace(' ', '')\n",
    "    amount.replace('\\xa0', '')\n",
    "    if amount.startswith('$'):\n",
    "        amount = amount.strip('$').replace(',', '')   # must remove commas\n",
    "        return float(amount)   # convert str into float\n",
    "    elif amount.startswith('€'):\n",
    "        # Exchange rate for EUR to USD\n",
    "        amount = amount.strip('€').replace(',', '')\n",
    "        return float(amount) * 1.06 \n",
    "    elif amount.startswith('¥'):\n",
    "        # Exchange rate for YEN to USD\n",
    "        amount = amount.strip('¥').replace(',', '')\n",
    "        return float(amount) * 0.0075\n",
    "    elif amount.startswith('₹'):\n",
    "        # Exchange rate for RPL to USD\n",
    "        amount = amount.strip('₹').replace(',', '')\n",
    "        return float(amount) * 0.012 \n",
    "    elif amount.startswith('SEK'):\n",
    "        # Exchange rate for SEK to USD\n",
    "        amount = amount.strip('SEK').replace(',', '')\n",
    "        return float(amount) * 0.094\n",
    "    elif amount.startswith('DKK'):\n",
    "        # Exchange rate for RPL to USD\n",
    "        amount = amount.strip('DKK').replace(',', '')\n",
    "        return float(amount) * 0.14\n",
    "    elif amount.startswith('£'):\n",
    "        # Exchange rate for RPL to USD\n",
    "        amount = amount.strip('£').replace(',', '')\n",
    "        return float(amount) * 1.21  \n",
    "    else:\n",
    "        return None"
   ]
  },
  {
   "cell_type": "markdown",
   "id": "4c69e253",
   "metadata": {},
   "source": [
    "#### 2.2 --- adjust_for_inflation"
   ]
  },
  {
   "cell_type": "code",
   "execution_count": null,
   "id": "0c9c894c",
   "metadata": {},
   "outputs": [],
   "source": [
    "def adjust_for_inflation(df, column_name, year_column, new_column, drop_original=True):\n",
    "    data = {\n",
    "        \"1990\": 5.398,\n",
    "        \"1991\": 4.235,\n",
    "        \"1992\": 3.0288,\n",
    "        \"1993\": 2.9517,\n",
    "        \"1994\": 2.6074,\n",
    "        \"1995\": 2.8054,\n",
    "        \"1996\": 2.9312,\n",
    "        \"1997\": 2.3377,\n",
    "        \"1998\": 1.5523,\n",
    "        \"1999\": 2.188,\n",
    "        \"2000\": 3.3769,\n",
    "        \"2001\": 2.8262,\n",
    "        \"2002\": 1.586,\n",
    "        \"2003\": 2.2701,\n",
    "        \"2004\": 2.6772,\n",
    "        \"2005\": 3.3927,\n",
    "        \"2006\": 3.2259,\n",
    "        \"2007\": 2.8527,\n",
    "        \"2008\": 3.8391,\n",
    "        \"2009\": -0.3555,\n",
    "        \"2010\": 1.64,\n",
    "        \"2011\": 3.1568,\n",
    "        \"2012\": 2.0693,\n",
    "        \"2013\": 1.4648,\n",
    "        \"2014\": 1.6222,\n",
    "        \"2015\": 0.1186,\n",
    "        \"2016\": 1.2616,\n",
    "        \"2017\": 2.1301,\n",
    "        \"2018\": 2.4426,\n",
    "        \"2019\": 1.8122,\n",
    "        \"2020\": 1.2336,\n",
    "        \"2021\": 4.6979\n",
    "    }\n",
    "    \n",
    "    # Create a new column in the DataFrame to store the adjusted values\n",
    "    df[new_column] = 0\n",
    "\n",
    "    # Loop over the rows in the DataFrame\n",
    "    for index, row in df.iterrows():\n",
    "        # Get the year from the row\n",
    "        year = row[year_column]\n",
    "        # Skip the row if the value in the specified column is NaN\n",
    "        if pd.isna(row[column_name]):\n",
    "            continue\n",
    "        # Get the inflation rate for each year from the dictionary\n",
    "        inflation_rates = [data[str(yr)] for yr in range(year, 2022)]\n",
    "        # Calculate the total inflation factor by multiplying the inflation rates together\n",
    "        total_inflation_factor = 1\n",
    "        for rate in inflation_rates:\n",
    "            total_inflation_factor *= 1 + (rate / 100)\n",
    "        # Get the value from the specified column\n",
    "        value = row[column_name]\n",
    "        # Adjust the value for inflation using the total inflation factor\n",
    "        adjusted_value = value * total_inflation_factor\n",
    "        # Round the result to two decimal places and store it in the new column\n",
    "        df.at[index, new_column] = round(adjusted_value, 2)\n",
    "\n",
    "    # Drop the original column if specified\n",
    "    if drop_original:\n",
    "        df = df.drop(columns=[column_name])\n",
    "\n",
    "    # Return the DataFrame with the adjusted values\n",
    "    return df\n"
   ]
  },
  {
   "cell_type": "markdown",
   "id": "ad11501f",
   "metadata": {},
   "source": [
    "#### 3.1 --- one_hot_encoding_column"
   ]
  },
  {
   "cell_type": "code",
   "execution_count": null,
   "id": "b8e0da65",
   "metadata": {},
   "outputs": [],
   "source": [
    "def one_hot_encoding_column(dataset, column, separator=\", \", prefix=\"\"):\n",
    "    \"\"\"\n",
    "    Performs one-hot encoding on the specified column of the given dataset.\n",
    "    dataset: The dataset to be processed.\n",
    "    column: The name of the column to be one-hot encoded.\n",
    "    separator: The separator used in the values of the specified column. Defaults to \",\".\n",
    "    prefix: Optional string to be added in front of each new column name. Defaults to \"\".\n",
    "    returns: the new dataset with the specified column one-hot encoded.\n",
    "    \"\"\"\n",
    "\n",
    "    # 1. Creating a list with all the values mentioned in the dataset\n",
    "    value_list = [values.split(separator) for values in dataset[column]]\n",
    "\n",
    "    # 2. Creating a set with value categories\n",
    "    unique_v = {value for values in value_list for value in values}\n",
    "\n",
    "    # 3. Performing one-hot encoding using get_dummies method\n",
    "    value_subtable = pd.get_dummies(dataset[column].str.split(separator, expand=True).stack()).reset_index(level=1, drop=True)\n",
    "    value_subtable = value_subtable.groupby(value_subtable.index).sum()\n",
    "\n",
    "    # 4. Adding the prefix to the column names\n",
    "    if prefix:\n",
    "        value_subtable.columns = [prefix + str(col) for col in value_subtable.columns]\n",
    "\n",
    "    # 5. Merging the subtable with the main dataset\n",
    "    dataset_processed = pd.merge(dataset, value_subtable, left_index=True, right_index=True, how='left')\n",
    "    dataset_processed.drop(columns=[column], inplace=True)\n",
    "\n",
    "    # 6. Returning the new dataset\n",
    "    return dataset_processed"
   ]
  },
  {
   "cell_type": "markdown",
   "id": "d2965427",
   "metadata": {},
   "source": [
    "#### 3.1 --- one_hot_coding_binary"
   ]
  },
  {
   "cell_type": "code",
   "execution_count": null,
   "id": "737482d7",
   "metadata": {},
   "outputs": [],
   "source": [
    "def one_hot_coding_binary(dataset, original_column, prefix, file_column, file_location, separator=\", \", num_categories=1, drop_original=True):\n",
    "    if num_categories not in range(1,5):\n",
    "        raise ValueError(\"num_categories must be between 1 and 4\")\n",
    "\n",
    "    for i in range(1, num_categories+1):\n",
    "        dataset[f\"{prefix}_no_{i}\"] = dataset[original_column].str.split(separator, expand=True)[i-1]\n",
    "\n",
    "    dataset_categories = pd.read_csv(file_location)\n",
    "\n",
    "    for i in range(1, num_categories+1):\n",
    "        replace = dataset[f\"{prefix}_no_{i}\"].isin(dataset_categories[file_column])\n",
    "        dataset[f\"{prefix}_no_{i}_binary\"] = replace.astype(int)\n",
    "\n",
    "    if drop_original:\n",
    "        dataset.drop(columns=[original_column], inplace=True)\n",
    "\n",
    "    if num_categories == 1:\n",
    "        dataset.drop(columns=[f\"{prefix}_no_1\"], inplace=True)\n",
    "        dataset.rename(columns={f\"{prefix}_no_1_binary\": f\"{prefix}\"}, inplace=True)\n",
    "    else:\n",
    "        for i in range(1, num_categories+1):\n",
    "            dataset.drop(columns=[f\"{prefix}_no_{i}\"], inplace=True)\n",
    "            dataset.rename(columns={f\"{prefix}_no_{i}_binary\": f\"{prefix}_{i}\"}, inplace=True)\n",
    "\n",
    "        if num_categories == 5:\n",
    "            dataset.rename(columns={f\"{prefix}_all_binary\": f\"{prefix}_all\"}, inplace=True)\n",
    "\n",
    "    return dataset\n"
   ]
  },
  {
   "cell_type": "markdown",
   "id": "b163ae2e",
   "metadata": {},
   "source": [
    "### Dataset"
   ]
  },
  {
   "cell_type": "code",
   "execution_count": null,
   "id": "74792174",
   "metadata": {},
   "outputs": [],
   "source": [
    "df.info()"
   ]
  },
  {
   "cell_type": "code",
   "execution_count": null,
   "id": "6e150a79",
   "metadata": {},
   "outputs": [],
   "source": [
    "df.head(2)"
   ]
  },
  {
   "cell_type": "markdown",
   "id": "fa8567f2",
   "metadata": {},
   "source": [
    "### Title"
   ]
  },
  {
   "cell_type": "markdown",
   "id": "c25f48ec",
   "metadata": {},
   "source": [
    "#### Duplicates"
   ]
  },
  {
   "cell_type": "code",
   "execution_count": null,
   "id": "2190cfd1",
   "metadata": {},
   "outputs": [],
   "source": [
    "duplicates = df[df.duplicated(['Title'], keep=False)].sort_values(by=['Title'])"
   ]
  },
  {
   "cell_type": "code",
   "execution_count": null,
   "id": "07849bad",
   "metadata": {},
   "outputs": [],
   "source": [
    "print(\"Duplicates: \" + str(len(duplicates)))"
   ]
  },
  {
   "cell_type": "code",
   "execution_count": null,
   "id": "8e753407",
   "metadata": {},
   "outputs": [],
   "source": [
    "duplicates"
   ]
  },
  {
   "cell_type": "markdown",
   "id": "8d589e73",
   "metadata": {},
   "source": [
    "### Rating"
   ]
  },
  {
   "cell_type": "markdown",
   "id": "2692e3e3",
   "metadata": {},
   "source": [
    "#### Missing values"
   ]
  },
  {
   "cell_type": "code",
   "execution_count": null,
   "id": "d3d9586b",
   "metadata": {},
   "outputs": [],
   "source": [
    "#dropping all rows that have missing values in the column Rating\n",
    "df = df.dropna(subset=['Rating'])"
   ]
  },
  {
   "cell_type": "code",
   "execution_count": null,
   "id": "14a28c61",
   "metadata": {},
   "outputs": [],
   "source": [
    "#A quick check to see that the row was removed from the dataset\n",
    "df.info()"
   ]
  },
  {
   "cell_type": "markdown",
   "id": "32b3f943",
   "metadata": {},
   "source": [
    "### Year"
   ]
  },
  {
   "cell_type": "markdown",
   "id": "0b63d2fe",
   "metadata": {},
   "source": [
    "#### Outliers"
   ]
  },
  {
   "cell_type": "code",
   "execution_count": null,
   "id": "057c063a",
   "metadata": {},
   "outputs": [],
   "source": [
    "# Count how many values are between 0 and 10 (inclusive)\n",
    "column_values = df['Year']\n",
    "count = column_values.between(2002, 2023).sum()"
   ]
  },
  {
   "cell_type": "markdown",
   "id": "9ad09b5a",
   "metadata": {},
   "source": [
    "### Month"
   ]
  },
  {
   "cell_type": "markdown",
   "id": "c113b983",
   "metadata": {},
   "source": [
    "#### Unqiue values"
   ]
  },
  {
   "cell_type": "code",
   "execution_count": null,
   "id": "8d6c0421",
   "metadata": {},
   "outputs": [],
   "source": [
    "# Check all unique values in the column Month\n",
    "column_values = df['Month'].unique()\n",
    "print(column_values)"
   ]
  },
  {
   "cell_type": "code",
   "execution_count": null,
   "id": "6f9fcd5c",
   "metadata": {},
   "outputs": [],
   "source": [
    "# Count the number of times a specific string value occurs in a column\n",
    "count_2014 = df['Month'].value_counts()['2014']\n",
    "print(\"2014: \" + str(count_2014))\n",
    "# Count the number of times a specific string value occurs in a column\n",
    "count_2008 = df['Month'].value_counts()['2008']\n",
    "print(\"2008: \" + str(count_2008))"
   ]
  },
  {
   "cell_type": "code",
   "execution_count": null,
   "id": "28dd4537",
   "metadata": {},
   "outputs": [],
   "source": [
    "#Drop non Month-values\n",
    "df = df.drop(index=df.loc[df['Month'] == '2014'].index)\n",
    "df = df.drop(index=df.loc[df['Month'] == '2008'].index)"
   ]
  },
  {
   "cell_type": "code",
   "execution_count": null,
   "id": "bf3b8224",
   "metadata": {},
   "outputs": [],
   "source": [
    "#checking the rows have been dropped\n",
    "df.info()\n",
    "column_values = df['Month'].unique()\n",
    "print(column_values)"
   ]
  },
  {
   "cell_type": "markdown",
   "id": "ab15f8a9",
   "metadata": {},
   "source": [
    "#### Converting non-numeric to numeric values"
   ]
  },
  {
   "cell_type": "code",
   "execution_count": null,
   "id": "f4f735ea",
   "metadata": {},
   "outputs": [],
   "source": [
    "# Define a dictionary to map months to integers\n",
    "month_to_int = {'January': 1, 'February': 2, 'March': 3, 'April': 4, 'May': 5, 'June': 6,\n",
    "                'July': 7, 'August': 8, 'September': 9, 'October': 10, 'November': 11, 'December': 12}\n",
    "\n",
    "# Apply the map() method to convert the values\n",
    "df['Month'] = df['Month'].map(month_to_int)\n",
    "\n",
    "# Convert the type of the column to int\n",
    "df['Month'] = df['Month'].astype(int)"
   ]
  },
  {
   "cell_type": "code",
   "execution_count": null,
   "id": "020cf639",
   "metadata": {},
   "outputs": [],
   "source": [
    "# Check the new column\n",
    "column_values = df['Month'].unique()\n",
    "column_values.sort()\n",
    "print(\"Unique values: \" + str(column_values))\n",
    "df.info()"
   ]
  },
  {
   "cell_type": "markdown",
   "id": "94f7d5e7",
   "metadata": {},
   "source": [
    "### Certificate"
   ]
  },
  {
   "cell_type": "markdown",
   "id": "50a334eb",
   "metadata": {},
   "source": [
    "#### Unqiue values"
   ]
  },
  {
   "cell_type": "code",
   "execution_count": null,
   "id": "84aaf25c",
   "metadata": {},
   "outputs": [],
   "source": [
    "unique_values = df['Certificate'].unique()\n",
    "print(unique_values)\n",
    "unique_values_count = df['Certificate'].value_counts()\n",
    "print(unique_values_count)"
   ]
  },
  {
   "cell_type": "code",
   "execution_count": null,
   "id": "327c9fec",
   "metadata": {},
   "outputs": [],
   "source": [
    "#Drop 'Not Rated', 'Untated' and missing values\n",
    "df = df.dropna(subset=['Certificate'])\n",
    "df = df[~df['Certificate'].isin(['Not Rated', 'Unrated'])]"
   ]
  },
  {
   "cell_type": "code",
   "execution_count": null,
   "id": "5c3752d0",
   "metadata": {},
   "outputs": [],
   "source": [
    "# Check that the rows have been dropped\n",
    "unique_values = df['Certificate'].unique()\n",
    "print(unique_values)\n",
    "unique_values_count = df['Certificate'].value_counts()\n",
    "print(unique_values_count)\n",
    "df.info()"
   ]
  },
  {
   "cell_type": "markdown",
   "id": "3c3f6137",
   "metadata": {},
   "source": [
    "#### Convert Certificate to numeric with One hot encoding"
   ]
  },
  {
   "cell_type": "code",
   "execution_count": null,
   "id": "cf240470",
   "metadata": {},
   "outputs": [],
   "source": [
    "df = one_hot_encoding_column(df, \"Certificate\", prefix=\"cert_\")"
   ]
  },
  {
   "cell_type": "code",
   "execution_count": null,
   "id": "d32e6cdf",
   "metadata": {},
   "outputs": [],
   "source": [
    "#Check the result\n",
    "df.info()"
   ]
  },
  {
   "cell_type": "code",
   "execution_count": null,
   "id": "155ce711",
   "metadata": {},
   "outputs": [],
   "source": [
    "df.head(2)"
   ]
  },
  {
   "cell_type": "markdown",
   "id": "e7055d78",
   "metadata": {},
   "source": [
    "### Runtime"
   ]
  },
  {
   "cell_type": "code",
   "execution_count": null,
   "id": "e8849866",
   "metadata": {},
   "outputs": [],
   "source": [
    "#Checking non numeric values\n",
    "check_non_numeric_values(df, \"Runtime\")"
   ]
  },
  {
   "cell_type": "code",
   "execution_count": null,
   "id": "5082e071",
   "metadata": {},
   "outputs": [],
   "source": [
    "# Convert to integers\n",
    "df['Runtime'] = df['Runtime'].astype(int)"
   ]
  },
  {
   "cell_type": "code",
   "execution_count": null,
   "id": "b362a542",
   "metadata": {},
   "outputs": [],
   "source": [
    "#Check the result\n",
    "df.info()"
   ]
  },
  {
   "cell_type": "markdown",
   "id": "30ac73cf",
   "metadata": {},
   "source": [
    "### Directors"
   ]
  },
  {
   "cell_type": "code",
   "execution_count": null,
   "id": "bb4465f4",
   "metadata": {},
   "outputs": [],
   "source": [
    "df.head(2)"
   ]
  },
  {
   "cell_type": "markdown",
   "id": "58b8e1e9",
   "metadata": {},
   "source": [
    "#### Convert Directors to numeric with One hot encoding"
   ]
  },
  {
   "cell_type": "code",
   "execution_count": null,
   "id": "91a10e0a",
   "metadata": {},
   "outputs": [],
   "source": [
    "num_directors = 2\n",
    "prefix_col = \"top_50_director\"\n",
    "df = one_hot_coding_binary(df, \"Directors\", prefix_col, \"Name\", \"../data/top_50_directors.csv\", num_categories=num_directors, drop_original=True)"
   ]
  },
  {
   "cell_type": "code",
   "execution_count": null,
   "id": "6719925f",
   "metadata": {},
   "outputs": [],
   "source": [
    "#Check the result\n",
    "df.head(2)"
   ]
  },
  {
   "cell_type": "markdown",
   "id": "8edcccc5",
   "metadata": {},
   "source": [
    "#### Stars"
   ]
  },
  {
   "cell_type": "code",
   "execution_count": null,
   "id": "a5f11ca8",
   "metadata": {},
   "outputs": [],
   "source": [
    "df.head(2)"
   ]
  },
  {
   "cell_type": "markdown",
   "id": "ad8ecf1f",
   "metadata": {},
   "source": [
    "#### Convert Stars to numeric with One hot encoding"
   ]
  },
  {
   "cell_type": "code",
   "execution_count": null,
   "id": "753eab84",
   "metadata": {},
   "outputs": [],
   "source": [
    "num_stars = 4\n",
    "prefix_col = \"top_1000_Stars\"\n",
    "df = one_hot_coding_binary(df, \"Stars\", prefix_col, \"Name\", \"../data/top_1000_actors.csv\", num_categories=num_stars, drop_original=True)"
   ]
  },
  {
   "cell_type": "code",
   "execution_count": null,
   "id": "53a78409",
   "metadata": {},
   "outputs": [],
   "source": [
    "#Check the result\n",
    "df.head(2)"
   ]
  },
  {
   "cell_type": "code",
   "execution_count": null,
   "id": "37a3574c",
   "metadata": {},
   "outputs": [],
   "source": [
    "df.info()"
   ]
  },
  {
   "cell_type": "markdown",
   "id": "8c6394fb",
   "metadata": {},
   "source": [
    "### Genre"
   ]
  },
  {
   "cell_type": "markdown",
   "id": "a4a1e327",
   "metadata": {},
   "source": [
    "#### Convert Genre to numeric with One hot encoding"
   ]
  },
  {
   "cell_type": "code",
   "execution_count": null,
   "id": "23a38340",
   "metadata": {},
   "outputs": [],
   "source": [
    "df = one_hot_encoding_column(df, \"Genre\", prefix = \"genre_\")"
   ]
  },
  {
   "cell_type": "code",
   "execution_count": null,
   "id": "8907c50a",
   "metadata": {},
   "outputs": [],
   "source": [
    "#Check result\n",
    "df.head(2)"
   ]
  },
  {
   "cell_type": "code",
   "execution_count": null,
   "id": "3962c409",
   "metadata": {},
   "outputs": [],
   "source": [
    "df.info()"
   ]
  },
  {
   "cell_type": "markdown",
   "id": "968dcb15",
   "metadata": {},
   "source": [
    "### Filming location"
   ]
  },
  {
   "cell_type": "code",
   "execution_count": null,
   "id": "f4d77f80",
   "metadata": {},
   "outputs": [],
   "source": [
    "df.head(2)"
   ]
  },
  {
   "cell_type": "code",
   "execution_count": null,
   "id": "5dd559df",
   "metadata": {},
   "outputs": [],
   "source": [
    "#### Unique values\n",
    "unique_values = df['Filming_location'].unique()\n",
    "print(unique_values)\n",
    "unique_values_count = df['Filming_location'].value_counts()\n",
    "print(unique_values_count)"
   ]
  },
  {
   "cell_type": "markdown",
   "id": "924eecdb",
   "metadata": {},
   "source": [
    "#### Dropping column"
   ]
  },
  {
   "cell_type": "code",
   "execution_count": null,
   "id": "8116b041",
   "metadata": {},
   "outputs": [],
   "source": [
    "df = df.drop('Filming_location', axis=1)"
   ]
  },
  {
   "cell_type": "code",
   "execution_count": null,
   "id": "3c83b7ef",
   "metadata": {},
   "outputs": [],
   "source": [
    "#Check the result\n",
    "df.info()"
   ]
  },
  {
   "cell_type": "markdown",
   "id": "edc09fd3",
   "metadata": {},
   "source": [
    "### Country of Origin"
   ]
  },
  {
   "cell_type": "code",
   "execution_count": null,
   "id": "0e6cb8f1",
   "metadata": {},
   "outputs": [],
   "source": [
    "df.head(2)"
   ]
  },
  {
   "cell_type": "code",
   "execution_count": null,
   "id": "c6a1e854",
   "metadata": {},
   "outputs": [],
   "source": [
    "#### Unique values\n",
    "unique_values = df['Country_of_origin'].unique()\n",
    "print(unique_values)\n",
    "unique_values_count = df['Country_of_origin'].value_counts()\n",
    "print(unique_values_count)"
   ]
  },
  {
   "cell_type": "code",
   "execution_count": null,
   "id": "5a41f4d0",
   "metadata": {},
   "outputs": [],
   "source": [
    "# split the values based on the comma and space separator, and explode them into individual rows\n",
    "unique_country = df['Country_of_origin'].str.split(', ', expand=True).stack()\n",
    "counts = unique_country.value_counts()\n",
    "print(counts)"
   ]
  },
  {
   "cell_type": "markdown",
   "id": "a127ce4d",
   "metadata": {},
   "source": [
    "#### Converting Country_of_origin to Continent_of_origin"
   ]
  },
  {
   "cell_type": "code",
   "execution_count": null,
   "id": "4201cff2",
   "metadata": {},
   "outputs": [],
   "source": [
    "# Create a dictionary to map countries to continents\n",
    "country_to_continent = {}\n",
    "for index, row in df_continents.iterrows():\n",
    "    country_to_continent[row[\"Country\"]] = row[\"Continent\"]\n",
    "\n",
    "# Define a function to apply the mapping to each row in the column\n",
    "def countries_to_continents(countries):\n",
    "    continents = set()\n",
    "    for country in countries.split(\", \"):\n",
    "        if country in country_to_continent:\n",
    "            continents.add(country_to_continent[country])\n",
    "        else:\n",
    "            continents.add(\"Unknown\")\n",
    "    return \", \".join(sorted(list(continents)))\n",
    "\n",
    "# Apply the function to the column\n",
    "df[\"Country_of_continent\"] = df[\"Country_of_origin\"].apply(countries_to_continents)"
   ]
  },
  {
   "cell_type": "code",
   "execution_count": null,
   "id": "1afc8ca4",
   "metadata": {},
   "outputs": [],
   "source": [
    "#Check result\n",
    "df.head(2)"
   ]
  },
  {
   "cell_type": "code",
   "execution_count": null,
   "id": "aaf23d7c",
   "metadata": {},
   "outputs": [],
   "source": [
    "#Check for Unknows value\n",
    "value_counts = df[\"Country_of_continent\"].value_counts()\n",
    "\n",
    "# Count the number of times \"unknown\" appears in the Country_of_origin column\n",
    "unknown_count = df[\"Country_of_continent\"].apply(lambda x: \"Unknown\" in x).sum()\n",
    "unknown_rows = df[df[\"Country_of_continent\"].str.contains(\"Unknown\", regex=False)]\n",
    "\n",
    "# Print the result\n",
    "print(f\"The number of times 'unknown' appears in Country_of_continent is: {unknown_count}\")\n",
    "unknown_rows.head()"
   ]
  },
  {
   "cell_type": "markdown",
   "id": "dd9468d9",
   "metadata": {},
   "source": [
    "#### Convert Contry of continent to numeric with one hot encoding"
   ]
  },
  {
   "cell_type": "code",
   "execution_count": null,
   "id": "476cff9d",
   "metadata": {},
   "outputs": [],
   "source": [
    "df = one_hot_encoding_column(df, \"Country_of_continent\", prefix = \"contient_\")"
   ]
  },
  {
   "cell_type": "code",
   "execution_count": null,
   "id": "5add6e02",
   "metadata": {},
   "outputs": [],
   "source": [
    "#Check result\n",
    "df.head(2)"
   ]
  },
  {
   "cell_type": "code",
   "execution_count": null,
   "id": "7d4de55d",
   "metadata": {},
   "outputs": [],
   "source": [
    "# Drop original column\n",
    "df = df.drop('Country_of_origin', axis=1)"
   ]
  },
  {
   "cell_type": "code",
   "execution_count": null,
   "id": "4b789bb8",
   "metadata": {},
   "outputs": [],
   "source": [
    "#Check the result\n",
    "df.head(2)"
   ]
  },
  {
   "cell_type": "code",
   "execution_count": null,
   "id": "1032a6ad",
   "metadata": {},
   "outputs": [],
   "source": [
    "df.info()"
   ]
  },
  {
   "cell_type": "markdown",
   "id": "9633f7d2",
   "metadata": {},
   "source": [
    "### Income / Budget"
   ]
  },
  {
   "cell_type": "code",
   "execution_count": null,
   "id": "bacb427f",
   "metadata": {},
   "outputs": [],
   "source": [
    "df.head(2)"
   ]
  },
  {
   "cell_type": "markdown",
   "id": "1d23616a",
   "metadata": {},
   "source": [
    "#### Convert to USD and strip of non numeric characters"
   ]
  },
  {
   "cell_type": "code",
   "execution_count": null,
   "id": "d94c2738",
   "metadata": {},
   "outputs": [],
   "source": [
    "df['Budget'] = df['Budget'].apply(convert_to_usd)\n",
    "df['Income'] = df['Income'].apply(convert_to_usd)"
   ]
  },
  {
   "cell_type": "code",
   "execution_count": null,
   "id": "2043e5a1",
   "metadata": {},
   "outputs": [],
   "source": [
    "#Check result\n",
    "df.head(2)"
   ]
  },
  {
   "cell_type": "markdown",
   "id": "053350ff",
   "metadata": {},
   "source": [
    "#### Calculation Inflation"
   ]
  },
  {
   "cell_type": "code",
   "execution_count": null,
   "id": "3a63da8b",
   "metadata": {},
   "outputs": [],
   "source": [
    "df = adjust_for_inflation(df, \"Budget\", \"Year\", \"Budget_inf\", drop_original=True)\n",
    "df = adjust_for_inflation(df, \"Income\", \"Year\", \"Income_inf\", drop_original=True)"
   ]
  },
  {
   "cell_type": "code",
   "execution_count": null,
   "id": "25729f96",
   "metadata": {},
   "outputs": [],
   "source": [
    "#Check result\n",
    "df.head(2)"
   ]
  },
  {
   "cell_type": "markdown",
   "id": "0fafbbe1",
   "metadata": {},
   "source": [
    "#### Missing Values"
   ]
  },
  {
   "cell_type": "code",
   "execution_count": null,
   "id": "951592d8",
   "metadata": {},
   "outputs": [],
   "source": [
    "#Since the missing values are 0 instead of NaN at this point (and 0 would also be treated like missing value )\n",
    "\n",
    "# count the number of occurrences of 0 in col1\n",
    "count_col1 = (df['Budget_inf'] == 0).sum()\n",
    "\n",
    "# count the number of occurrences of 0 in col2\n",
    "count_col2 = (df['Income_inf'] == 0).sum()\n",
    "\n",
    "# count the number of occurrences of 0 in both col1 and col2\n",
    "count_both = ((df['Budget_inf'] == 0) & (df['Income_inf'] == 0)).sum()\n",
    "\n",
    "# print the results\n",
    "print('Number of zeros in col1:', count_col1)\n",
    "print('Number of zeros in col2:', count_col2)\n",
    "print('Number of zeros in both col1 and col2:', count_both)"
   ]
  },
  {
   "cell_type": "code",
   "execution_count": null,
   "id": "9d3b264f",
   "metadata": {},
   "outputs": [],
   "source": [
    "#Dropping rows with missing values in both columns\n",
    "df = df[(df['Budget_inf'] != 0) | (df['Income_inf'] != 0)]"
   ]
  },
  {
   "cell_type": "code",
   "execution_count": null,
   "id": "31580701",
   "metadata": {},
   "outputs": [],
   "source": [
    "#Check result\n",
    "count_both = ((df['Budget_inf'] == 0) & (df['Income_inf'] == 0)).sum()\n",
    "print('Number of zeros in both col1 and col2:', count_both)"
   ]
  },
  {
   "cell_type": "markdown",
   "id": "538f68bf",
   "metadata": {},
   "source": [
    "#### Create Profit column"
   ]
  },
  {
   "cell_type": "code",
   "execution_count": null,
   "id": "ea477286",
   "metadata": {},
   "outputs": [],
   "source": [
    "df['Profit_inf'] = df['Income_inf'] - df['Budget_inf']\n",
    "mask = (df['Income_inf'] == 0) | (df['Budget_inf'] == 0)\n",
    "df.loc[mask, 'Profit_inf'] = 0"
   ]
  },
  {
   "cell_type": "code",
   "execution_count": null,
   "id": "b24bd0c8",
   "metadata": {},
   "outputs": [],
   "source": [
    "#Check result\n",
    "df.head(2)"
   ]
  },
  {
   "cell_type": "markdown",
   "id": "800fc86e",
   "metadata": {},
   "source": [
    "#### Create ROI column"
   ]
  },
  {
   "cell_type": "code",
   "execution_count": null,
   "id": "cc993628",
   "metadata": {},
   "outputs": [],
   "source": [
    "df['ROI_inf'] = (df['Income_inf'] - df['Budget_inf']) / df['Income_inf']\n",
    "mask = (df['Income_inf'] == 0) | (df['Budget_inf'] == 0)\n",
    "df.loc[mask, 'ROI_inf'] = 0"
   ]
  },
  {
   "cell_type": "code",
   "execution_count": null,
   "id": "7a07e505",
   "metadata": {},
   "outputs": [],
   "source": [
    "#calc mean & median roi of the rows w/ values in both\n",
    "mask = df['ROI_inf'] != 0\n",
    "df_filtered = df[mask]\n",
    "mean_roi = df_filtered['ROI_inf'].mean()\n",
    "median_roi = df_filtered['ROI_inf'].median()"
   ]
  },
  {
   "cell_type": "code",
   "execution_count": null,
   "id": "5685745d",
   "metadata": {},
   "outputs": [],
   "source": [
    "print(\"Mean_roi: \" + str(mean_roi))\n",
    "print(\"Median_roi: \" + str(median_roi))"
   ]
  },
  {
   "cell_type": "markdown",
   "id": "89721b8b",
   "metadata": {},
   "source": [
    "#### Replace missing values with mean ROI"
   ]
  },
  {
   "cell_type": "code",
   "execution_count": null,
   "id": "5ff63e66",
   "metadata": {},
   "outputs": [],
   "source": [
    "df['ROI_inf'] = df['ROI_inf'].replace(0, median_roi)"
   ]
  },
  {
   "cell_type": "code",
   "execution_count": null,
   "id": "625b9b6f",
   "metadata": {},
   "outputs": [],
   "source": [
    "#Check result\n",
    "df.head(2)"
   ]
  },
  {
   "cell_type": "markdown",
   "id": "f58c1a14",
   "metadata": {},
   "source": [
    "#### Replace missing values in Budget and Income"
   ]
  },
  {
   "cell_type": "code",
   "execution_count": null,
   "id": "e978d81e",
   "metadata": {},
   "outputs": [],
   "source": [
    "df.loc[df['Income_inf'].isna() | (df['Income_inf'] == 0), 'Income_inf'] = df['Budget_inf'] * (1 + median_roi)\n",
    "df.loc[df['Budget_inf'].isna() | (df['Budget_inf'] == 0), 'Budget_inf'] = df['Income_inf'] / (1 + median_roi)"
   ]
  },
  {
   "cell_type": "code",
   "execution_count": null,
   "id": "66c30e21",
   "metadata": {},
   "outputs": [],
   "source": [
    "#Check result\n",
    "df.head()"
   ]
  },
  {
   "cell_type": "code",
   "execution_count": null,
   "id": "daf42b56",
   "metadata": {},
   "outputs": [],
   "source": [
    "#### Update Profit\n",
    "df['Profit_inf'] = df['Income_inf'] - df['Budget_inf']"
   ]
  },
  {
   "cell_type": "code",
   "execution_count": null,
   "id": "eb68084f",
   "metadata": {},
   "outputs": [],
   "source": [
    "#Check result\n",
    "df.head()"
   ]
  },
  {
   "cell_type": "markdown",
   "id": "312c7016",
   "metadata": {},
   "source": [
    "#### Check df after dataprocessing"
   ]
  },
  {
   "cell_type": "code",
   "execution_count": null,
   "id": "f0bd5f29",
   "metadata": {},
   "outputs": [],
   "source": [
    "#Remove Title\n",
    "df.drop('Title', axis=1, inplace=True)"
   ]
  },
  {
   "cell_type": "code",
   "execution_count": null,
   "id": "0363be59",
   "metadata": {},
   "outputs": [],
   "source": [
    "df.info()"
   ]
  },
  {
   "cell_type": "code",
   "execution_count": null,
   "id": "9afe6ce1",
   "metadata": {},
   "outputs": [],
   "source": [
    "#df.to_csv('01_dataprocessing_noTitle.csv', index=False)"
   ]
  }
 ],
 "metadata": {
  "kernelspec": {
   "display_name": "Python 3 (ipykernel)",
   "language": "python",
   "name": "python3"
  },
  "language_info": {
   "codemirror_mode": {
    "name": "ipython",
    "version": 3
   },
   "file_extension": ".py",
   "mimetype": "text/x-python",
   "name": "python",
   "nbconvert_exporter": "python",
   "pygments_lexer": "ipython3",
   "version": "3.7.15"
  }
 },
 "nbformat": 4,
 "nbformat_minor": 5
}
