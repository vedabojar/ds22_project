{
 "cells": [
  {
   "cell_type": "markdown",
   "metadata": {},
   "source": [
    "# Feature Engineering"
   ]
  },
  {
   "cell_type": "markdown",
   "metadata": {},
   "source": [
    "IMDb, acronym for Internet Movie Database, is a website owned by Amazon.com where users can look for details about movies and TV shows: plot summaries, users reviews, genre, director and cast are just some of the attributes stored on IMDb. \n",
    "\n",
    "The goal of this project is to predict the rating of a given movie using properly trained Machine Learning models and evaluate the goodness of the predictions.\n",
    "The chosen dataset was made available on the Kaggle platform and it contains the top 100 movies between 2003 - 2022. \n",
    "\n",
    "Dataset: https://www.kaggle.com/datasets/georgescutelnicu/top-100-popular-movies-from-2003-to-2022-imdb "
   ]
  },
  {
   "cell_type": "code",
   "execution_count": 1,
   "metadata": {},
   "outputs": [],
   "source": [
    "import pandas as pd\n",
    "import numpy as np\n",
    "import matplotlib.pyplot as plt\n",
    "import cpi"
   ]
  },
  {
   "cell_type": "markdown",
   "metadata": {},
   "source": [
    "## 1. Understanding the Data"
   ]
  },
  {
   "cell_type": "code",
   "execution_count": 2,
   "metadata": {},
   "outputs": [
    {
     "data": {
      "text/html": [
       "<div>\n",
       "<style scoped>\n",
       "    .dataframe tbody tr th:only-of-type {\n",
       "        vertical-align: middle;\n",
       "    }\n",
       "\n",
       "    .dataframe tbody tr th {\n",
       "        vertical-align: top;\n",
       "    }\n",
       "\n",
       "    .dataframe thead th {\n",
       "        text-align: right;\n",
       "    }\n",
       "</style>\n",
       "<table border=\"1\" class=\"dataframe\">\n",
       "  <thead>\n",
       "    <tr style=\"text-align: right;\">\n",
       "      <th></th>\n",
       "      <th>Title</th>\n",
       "      <th>Rating</th>\n",
       "      <th>Year</th>\n",
       "      <th>Month</th>\n",
       "      <th>Certificate</th>\n",
       "      <th>Runtime</th>\n",
       "      <th>Directors</th>\n",
       "      <th>Stars</th>\n",
       "      <th>Genre</th>\n",
       "      <th>Filming_location</th>\n",
       "      <th>Budget</th>\n",
       "      <th>Income</th>\n",
       "      <th>Country_of_origin</th>\n",
       "    </tr>\n",
       "  </thead>\n",
       "  <tbody>\n",
       "    <tr>\n",
       "      <th>0</th>\n",
       "      <td>Avatar: The Way of Water</td>\n",
       "      <td>7.8</td>\n",
       "      <td>2022</td>\n",
       "      <td>December</td>\n",
       "      <td>PG-13</td>\n",
       "      <td>192</td>\n",
       "      <td>James Cameron</td>\n",
       "      <td>Sam Worthington, Zoe Saldana, Sigourney Weaver...</td>\n",
       "      <td>Action, Adventure, Fantasy</td>\n",
       "      <td>New Zealand</td>\n",
       "      <td>$350,000,000</td>\n",
       "      <td>$2,267,946,983</td>\n",
       "      <td>United States</td>\n",
       "    </tr>\n",
       "    <tr>\n",
       "      <th>1</th>\n",
       "      <td>Guillermo del Toro's Pinocchio</td>\n",
       "      <td>7.6</td>\n",
       "      <td>2022</td>\n",
       "      <td>December</td>\n",
       "      <td>PG</td>\n",
       "      <td>117</td>\n",
       "      <td>Guillermo del Toro, Mark Gustafson</td>\n",
       "      <td>Ewan McGregor, David Bradley, Gregory Mann, Bu...</td>\n",
       "      <td>Animation, Drama, Family</td>\n",
       "      <td>USA</td>\n",
       "      <td>$35,000,000</td>\n",
       "      <td>$108,967</td>\n",
       "      <td>United States, Mexico, France</td>\n",
       "    </tr>\n",
       "  </tbody>\n",
       "</table>\n",
       "</div>"
      ],
      "text/plain": [
       "                            Title  Rating  Year     Month Certificate Runtime  \\\n",
       "0        Avatar: The Way of Water     7.8  2022  December       PG-13     192   \n",
       "1  Guillermo del Toro's Pinocchio     7.6  2022  December          PG     117   \n",
       "\n",
       "                            Directors  \\\n",
       "0                       James Cameron   \n",
       "1  Guillermo del Toro, Mark Gustafson   \n",
       "\n",
       "                                               Stars  \\\n",
       "0  Sam Worthington, Zoe Saldana, Sigourney Weaver...   \n",
       "1  Ewan McGregor, David Bradley, Gregory Mann, Bu...   \n",
       "\n",
       "                        Genre Filming_location         Budget  \\\n",
       "0  Action, Adventure, Fantasy      New Zealand  $350,000,000    \n",
       "1    Animation, Drama, Family              USA   $35,000,000    \n",
       "\n",
       "            Income              Country_of_origin  \n",
       "0  $2,267,946,983                   United States  \n",
       "1        $108,967   United States, Mexico, France  "
      ]
     },
     "execution_count": 2,
     "metadata": {},
     "output_type": "execute_result"
    }
   ],
   "source": [
    "dataset_raw = pd.read_csv('movies.csv')\n",
    "dataset_raw.head(2)"
   ]
  },
  {
   "cell_type": "markdown",
   "metadata": {},
   "source": [
    "### 3.4. Budget & Income: Turning into USD currency (VEDA)"
   ]
  },
  {
   "cell_type": "code",
   "execution_count": 3,
   "metadata": {},
   "outputs": [
    {
     "name": "stdout",
     "output_type": "stream",
     "text": [
      "Number of movies with unknown budget: 304\n",
      "Number of movies with empty budget: 0\n",
      "Number of movies with unknown income: 145\n",
      "Number of movies with empty budget: 0\n"
     ]
    }
   ],
   "source": [
    "dataset_processed_finance = dataset_raw\n",
    "\n",
    "# Checking for how the finance data looks\n",
    "budget_values = dataset_processed_finance['Budget'].unique()\n",
    "income_values = dataset_processed_finance['Income'].unique()\n",
    "\n",
    "#print(f'Budget values: {budget_values}')\n",
    "#print(f'Income values: {income_values}')\n",
    "\n",
    "'''There are unconsistencies in how the values are writen, extra \n",
    "# spaces etc. Also presence of 'Unknown'''\n",
    "\n",
    "# 2. Getting number of movies with uknown runtime\n",
    "unknown_budget_currency = dataset_processed_finance['Budget'].value_counts()['Unknown']\n",
    "unknown_income_currency = dataset_processed_finance['Income'].value_counts()['Unknown']\n",
    "\n",
    "missing_budget_values = dataset_processed_finance['Budget'].isnull().sum()\n",
    "missing_income_values = dataset_processed_finance['Income'].isnull().sum()\n",
    "\n",
    "print(f'Number of movies with unknown budget: {unknown_budget_currency}')\n",
    "print(f'Number of movies with empty budget: {missing_budget_values}')\n",
    "print(f'Number of movies with unknown income: {unknown_income_currency}')\n",
    "print(f'Number of movies with empty budget: {missing_income_values}')\n"
   ]
  },
  {
   "cell_type": "code",
   "execution_count": 4,
   "metadata": {},
   "outputs": [
    {
     "name": "stdout",
     "output_type": "stream",
     "text": [
      "-----------------------------\n",
      "Current number of columns (Budget): 13\n",
      "Current number of rows (Budget): 1696\n",
      "-----------------------------\n",
      "Current number of columns (Income): 13\n",
      "Current number of rows (Income): 1651\n"
     ]
    }
   ],
   "source": [
    "# 3. Dropping all movies without a budget\n",
    "dataset_processed_finance = dataset_processed_finance.drop(dataset_processed_finance[dataset_processed_finance['Budget'].isin(['Unknown'])].index)\n",
    "\n",
    "# 4. Checking the dataset shape\n",
    "print('-----------------------------')\n",
    "print(f'Current number of columns (Budget): {dataset_processed_finance.shape[1]}')\n",
    "print(f'Current number of rows (Budget): {dataset_processed_finance.shape[0]}')\n",
    "\n",
    "\n",
    "# 5. Dropping all movies without a income\n",
    "dataset_processed_finance = dataset_processed_finance.drop(dataset_processed_finance[dataset_processed_finance['Income'].isin(['Unknown'])].index)\n",
    "\n",
    "# 6. Checking the dataset shape\n",
    "print('-----------------------------')\n",
    "print(f'Current number of columns (Income): {dataset_processed_finance.shape[1]}')\n",
    "print(f'Current number of rows (Income): {dataset_processed_finance.shape[0]}')\n"
   ]
  },
  {
   "cell_type": "code",
   "execution_count": 5,
   "metadata": {},
   "outputs": [],
   "source": [
    "# Conversion function (converts currency and to float)\n",
    "def convert_to_usd(amount):\n",
    "    amount.replace(' ', '')\n",
    "    amount.replace('\\xa0', '')\n",
    "    if amount.startswith('$'):\n",
    "        amount = amount.strip('$').replace(',', '')   # must remove commas\n",
    "        return float(amount)   # convert str into float\n",
    "    elif amount.startswith('€'):\n",
    "        # Exchange rate for EUR to USD\n",
    "        amount = amount.strip('€').replace(',', '')\n",
    "        return float(amount) * 1.06 \n",
    "    elif amount.startswith('¥'):\n",
    "        # Exchange rate for YEN to USD\n",
    "        amount = amount.strip('¥').replace(',', '')\n",
    "        return float(amount) * 0.0075\n",
    "    elif amount.startswith('₹'):\n",
    "        # Exchange rate for RPL to USD\n",
    "        amount = amount.strip('₹').replace(',', '')\n",
    "        return float(amount) * 0.012 \n",
    "    elif amount.startswith('SEK'):\n",
    "        # Exchange rate for SEK to USD\n",
    "        amount = amount.strip('SEK').replace(',', '')\n",
    "        return float(amount) * 0.094\n",
    "    elif amount.startswith('DKK'):\n",
    "        # Exchange rate for RPL to USD\n",
    "        amount = amount.strip('DKK').replace(',', '')\n",
    "        return float(amount) * 0.14\n",
    "    elif amount.startswith('£'):\n",
    "        # Exchange rate for RPL to USD\n",
    "        amount = amount.strip('£').replace(',', '')\n",
    "        return float(amount) * 1.21  \n",
    "    else:\n",
    "        return None"
   ]
  },
  {
   "cell_type": "code",
   "execution_count": 6,
   "metadata": {},
   "outputs": [
    {
     "name": "stdout",
     "output_type": "stream",
     "text": [
      "<class 'pandas.core.frame.DataFrame'>\n",
      "Int64Index: 1651 entries, 0 to 1999\n",
      "Data columns (total 13 columns):\n",
      " #   Column             Non-Null Count  Dtype  \n",
      "---  ------             --------------  -----  \n",
      " 0   Title              1651 non-null   object \n",
      " 1   Rating             1651 non-null   float64\n",
      " 2   Year               1651 non-null   int64  \n",
      " 3   Month              1651 non-null   object \n",
      " 4   Certificate        1646 non-null   object \n",
      " 5   Runtime            1651 non-null   object \n",
      " 6   Directors          1651 non-null   object \n",
      " 7   Stars              1651 non-null   object \n",
      " 8   Genre              1651 non-null   object \n",
      " 9   Filming_location   1651 non-null   object \n",
      " 10  Budget             1642 non-null   float64\n",
      " 11  Income             1651 non-null   float64\n",
      " 12  Country_of_origin  1651 non-null   object \n",
      "dtypes: float64(3), int64(1), object(9)\n",
      "memory usage: 180.6+ KB\n"
     ]
    }
   ],
   "source": [
    "# 7. Applying the conversion function\n",
    "dataset_processed_finance['Budget'] = dataset_processed_finance['Budget'].apply(convert_to_usd)\n",
    "dataset_processed_finance['Income'] = dataset_processed_finance['Income'].apply(convert_to_usd)\n",
    "\n",
    "dataset_processed_finance.info()  # 9 missing values in Budget"
   ]
  },
  {
   "cell_type": "code",
   "execution_count": 7,
   "metadata": {},
   "outputs": [
    {
     "name": "stdout",
     "output_type": "stream",
     "text": [
      "-----------------------------\n",
      "Current number of columns: 13\n",
      "Current number of rows: 1642\n"
     ]
    }
   ],
   "source": [
    "# 8. Removing 9 titles with empty budget values \n",
    "dataset_processed_finance = dataset_processed_finance.dropna(axis=0, subset=['Budget'])\n",
    "\n",
    "# 9. Checking the dataset shape\n",
    "print('-----------------------------')\n",
    "print(f'Current number of columns: {dataset_processed_finance.shape[1]}')\n",
    "print(f'Current number of rows: {dataset_processed_finance.shape[0]}')\n"
   ]
  },
  {
   "cell_type": "code",
   "execution_count": 8,
   "metadata": {},
   "outputs": [],
   "source": [
    "dataset_processed_1 = dataset_processed_finance"
   ]
  },
  {
   "cell_type": "code",
   "execution_count": 9,
   "metadata": {},
   "outputs": [
    {
     "name": "stdout",
     "output_type": "stream",
     "text": [
      "<class 'pandas.core.frame.DataFrame'>\n",
      "Int64Index: 1642 entries, 0 to 1999\n",
      "Data columns (total 13 columns):\n",
      " #   Column             Non-Null Count  Dtype  \n",
      "---  ------             --------------  -----  \n",
      " 0   Title              1642 non-null   object \n",
      " 1   Rating             1642 non-null   float64\n",
      " 2   Year               1642 non-null   int64  \n",
      " 3   Month              1642 non-null   object \n",
      " 4   Certificate        1637 non-null   object \n",
      " 5   Runtime            1642 non-null   object \n",
      " 6   Directors          1642 non-null   object \n",
      " 7   Stars              1642 non-null   object \n",
      " 8   Genre              1642 non-null   object \n",
      " 9   Filming_location   1642 non-null   object \n",
      " 10  Budget             1642 non-null   float64\n",
      " 11  Income             1642 non-null   float64\n",
      " 12  Country_of_origin  1642 non-null   object \n",
      "dtypes: float64(3), int64(1), object(9)\n",
      "memory usage: 179.6+ KB\n"
     ]
    }
   ],
   "source": [
    "dataset_processed_1.info()"
   ]
  },
  {
   "cell_type": "code",
   "execution_count": 10,
   "metadata": {},
   "outputs": [
    {
     "data": {
      "text/html": [
       "<div>\n",
       "<style scoped>\n",
       "    .dataframe tbody tr th:only-of-type {\n",
       "        vertical-align: middle;\n",
       "    }\n",
       "\n",
       "    .dataframe tbody tr th {\n",
       "        vertical-align: top;\n",
       "    }\n",
       "\n",
       "    .dataframe thead th {\n",
       "        text-align: right;\n",
       "    }\n",
       "</style>\n",
       "<table border=\"1\" class=\"dataframe\">\n",
       "  <thead>\n",
       "    <tr style=\"text-align: right;\">\n",
       "      <th></th>\n",
       "      <th>Title</th>\n",
       "      <th>Rating</th>\n",
       "      <th>Year</th>\n",
       "      <th>Month</th>\n",
       "      <th>Certificate</th>\n",
       "      <th>Runtime</th>\n",
       "      <th>Directors</th>\n",
       "      <th>Stars</th>\n",
       "      <th>Genre</th>\n",
       "      <th>Filming_location</th>\n",
       "      <th>Budget</th>\n",
       "      <th>Income</th>\n",
       "      <th>Country_of_origin</th>\n",
       "    </tr>\n",
       "  </thead>\n",
       "  <tbody>\n",
       "    <tr>\n",
       "      <th>0</th>\n",
       "      <td>Avatar: The Way of Water</td>\n",
       "      <td>7.8</td>\n",
       "      <td>2022</td>\n",
       "      <td>December</td>\n",
       "      <td>PG-13</td>\n",
       "      <td>192</td>\n",
       "      <td>James Cameron</td>\n",
       "      <td>Sam Worthington, Zoe Saldana, Sigourney Weaver...</td>\n",
       "      <td>Action, Adventure, Fantasy</td>\n",
       "      <td>New Zealand</td>\n",
       "      <td>350000000.0</td>\n",
       "      <td>2.267947e+09</td>\n",
       "      <td>United States</td>\n",
       "    </tr>\n",
       "    <tr>\n",
       "      <th>1</th>\n",
       "      <td>Guillermo del Toro's Pinocchio</td>\n",
       "      <td>7.6</td>\n",
       "      <td>2022</td>\n",
       "      <td>December</td>\n",
       "      <td>PG</td>\n",
       "      <td>117</td>\n",
       "      <td>Guillermo del Toro, Mark Gustafson</td>\n",
       "      <td>Ewan McGregor, David Bradley, Gregory Mann, Bu...</td>\n",
       "      <td>Animation, Drama, Family</td>\n",
       "      <td>USA</td>\n",
       "      <td>35000000.0</td>\n",
       "      <td>1.089670e+05</td>\n",
       "      <td>United States, Mexico, France</td>\n",
       "    </tr>\n",
       "    <tr>\n",
       "      <th>2</th>\n",
       "      <td>Bullet Train</td>\n",
       "      <td>7.3</td>\n",
       "      <td>2022</td>\n",
       "      <td>August</td>\n",
       "      <td>R</td>\n",
       "      <td>127</td>\n",
       "      <td>David Leitch</td>\n",
       "      <td>Brad Pitt, Joey King, Aaron Taylor Johnson, Br...</td>\n",
       "      <td>Action, Comedy, Thriller</td>\n",
       "      <td>Japan</td>\n",
       "      <td>85900000.0</td>\n",
       "      <td>2.392686e+08</td>\n",
       "      <td>Japan, United States</td>\n",
       "    </tr>\n",
       "    <tr>\n",
       "      <th>4</th>\n",
       "      <td>M3gan</td>\n",
       "      <td>6.4</td>\n",
       "      <td>2022</td>\n",
       "      <td>December</td>\n",
       "      <td>PG-13</td>\n",
       "      <td>102</td>\n",
       "      <td>Gerard Johnstone</td>\n",
       "      <td>Jenna Davis, Amie Donald, Allison Williams, Vi...</td>\n",
       "      <td>Horror, Sci-Fi, Thriller</td>\n",
       "      <td>New Zealand</td>\n",
       "      <td>12000000.0</td>\n",
       "      <td>1.712539e+08</td>\n",
       "      <td>United States</td>\n",
       "    </tr>\n",
       "    <tr>\n",
       "      <th>6</th>\n",
       "      <td>Amsterdam</td>\n",
       "      <td>6.1</td>\n",
       "      <td>2022</td>\n",
       "      <td>October</td>\n",
       "      <td>R</td>\n",
       "      <td>134</td>\n",
       "      <td>David O Russell</td>\n",
       "      <td>Christian Bale, Margot Robbie, John David Wash...</td>\n",
       "      <td>Comedy, Drama, History</td>\n",
       "      <td>USA</td>\n",
       "      <td>80000000.0</td>\n",
       "      <td>3.124581e+07</td>\n",
       "      <td>United States, Japan</td>\n",
       "    </tr>\n",
       "  </tbody>\n",
       "</table>\n",
       "</div>"
      ],
      "text/plain": [
       "                            Title  Rating  Year     Month Certificate Runtime  \\\n",
       "0        Avatar: The Way of Water     7.8  2022  December       PG-13     192   \n",
       "1  Guillermo del Toro's Pinocchio     7.6  2022  December          PG     117   \n",
       "2                    Bullet Train     7.3  2022    August           R     127   \n",
       "4                           M3gan     6.4  2022  December       PG-13     102   \n",
       "6                       Amsterdam     6.1  2022   October           R     134   \n",
       "\n",
       "                            Directors  \\\n",
       "0                       James Cameron   \n",
       "1  Guillermo del Toro, Mark Gustafson   \n",
       "2                        David Leitch   \n",
       "4                    Gerard Johnstone   \n",
       "6                     David O Russell   \n",
       "\n",
       "                                               Stars  \\\n",
       "0  Sam Worthington, Zoe Saldana, Sigourney Weaver...   \n",
       "1  Ewan McGregor, David Bradley, Gregory Mann, Bu...   \n",
       "2  Brad Pitt, Joey King, Aaron Taylor Johnson, Br...   \n",
       "4  Jenna Davis, Amie Donald, Allison Williams, Vi...   \n",
       "6  Christian Bale, Margot Robbie, John David Wash...   \n",
       "\n",
       "                        Genre Filming_location       Budget        Income  \\\n",
       "0  Action, Adventure, Fantasy      New Zealand  350000000.0  2.267947e+09   \n",
       "1    Animation, Drama, Family              USA   35000000.0  1.089670e+05   \n",
       "2    Action, Comedy, Thriller            Japan   85900000.0  2.392686e+08   \n",
       "4    Horror, Sci-Fi, Thriller      New Zealand   12000000.0  1.712539e+08   \n",
       "6      Comedy, Drama, History              USA   80000000.0  3.124581e+07   \n",
       "\n",
       "               Country_of_origin  \n",
       "0                  United States  \n",
       "1  United States, Mexico, France  \n",
       "2           Japan, United States  \n",
       "4                  United States  \n",
       "6           United States, Japan  "
      ]
     },
     "execution_count": 10,
     "metadata": {},
     "output_type": "execute_result"
    }
   ],
   "source": [
    "dataset_processed_1.head()"
   ]
  },
  {
   "cell_type": "markdown",
   "metadata": {},
   "source": [
    "### Adjusting income & budget based on realease year and inflation\n",
    "Why? Otherwise will newrealses have a bigger inpact on the model than older ones.\n",
    "Since the inflation isn´t linear, I found a librar called cpi, where you give year and amount and get back how much that would be in dollars in 2022(guess thats when the library is from and not yet updated but not a biggie for our model)"
   ]
  },
  {
   "cell_type": "code",
   "execution_count": null,
   "metadata": {},
   "outputs": [],
   "source": [
    "#loop through the rows in the dataset\n",
    "for index, row in dataset_processed_1.iterrows():\n",
    "    # calculate the budget with inflation included\n",
    "    budget_inf = cpi.inflate(row['Budget'], row['Year'])\n",
    "    # save the result in a new column named 'budget_inf'\n",
    "    dataset_processed_1.at[index, 'budget_inf'] = budget_inf\n",
    "    \n",
    "    # calculate the income with inflation included\n",
    "    income_inf = cpi.inflate(row['Income'], row['Year'])\n",
    "    # save the result in a new column named 'income_inf'\n",
    "    dataset_processed_1.at[index, 'income_inf'] = income_inf"
   ]
  },
  {
   "cell_type": "code",
   "execution_count": null,
   "metadata": {},
   "outputs": [],
   "source": [
    "dataset_processed_1.head(120)"
   ]
  },
  {
   "cell_type": "code",
   "execution_count": null,
   "metadata": {},
   "outputs": [],
   "source": [
    "#loop through the rows in the dataset\n",
    "for index, row in dataset_processed_1.iterrows():\n",
    "    # calculate the roi in percentage\n",
    "    roi_inf = ((row['income_inf'] - row['budget_inf']) / row['budget_inf']) * 100\n",
    "    # save the result in a new column named 'budget_inf'\n",
    "    dataset_processed_1.at[index, 'roi_inf'] = roi_inf\n",
    "    "
   ]
  },
  {
   "cell_type": "code",
   "execution_count": null,
   "metadata": {},
   "outputs": [],
   "source": [
    "dataset_processed_1.head(120)"
   ]
  },
  {
   "cell_type": "markdown",
   "metadata": {},
   "source": [
    "# One-Hot Encoding Contry of origin"
   ]
  },
  {
   "cell_type": "code",
   "execution_count": null,
   "metadata": {},
   "outputs": [],
   "source": [
    "def one_hot_encoding_dummy(column, seperator, dataset, y_column):\n",
    "    dataset_processed_genre = dataset\n",
    "    # 1. Creating a list with all genres mentioned in the dataset\n",
    "    genre_list = []\n",
    "    for genres in dataset_processed_genre[column]:\n",
    "        genre_list.append(genres.split(seperator))\n",
    "\n",
    "    # 2. Creating a list with genre categories\n",
    "    unique_g= set()\n",
    "    for genres in genre_list:\n",
    "        for genre in genres:\n",
    "            unique_g.add(genre)\n",
    "\n",
    "    unique_genres = list(unique_g)\n",
    "    amount = len(unique_genres)\n",
    "    #return ((amount), (unique_genres))\n",
    "\n",
    "    # 3. Creating a subtable with title as the first column followed by one \n",
    "    # column per genre\n",
    "    genre_subtable = pd.DataFrame(columns=[y_column] + unique_genres)\n",
    "\n",
    "    # 4. For each movie, assign 1 to those genres it has been assigned \n",
    "    for i, row in dataset_processed_genre.iterrows():\n",
    "        new_row = {y_column: row[y_column]}\n",
    "        for genre in unique_genres:\n",
    "            new_row[genre] = 0\n",
    "        for genre in row[column].split(seperator):\n",
    "            new_row[genre] = 1\n",
    "        genre_subtable = genre_subtable.append(new_row, ignore_index=True)\n",
    "\n",
    "    # 5. Merging the subtable with the main dataset\n",
    "    pivot_table = genre_subtable.melt(id_vars=y_column, var_name=column)\n",
    "    pivot_table = pivot_table[pivot_table['value'] == 1]\n",
    "    pivot_table = pivot_table.drop(columns=['value'])\n",
    "    pivot_table = pivot_table.pivot_table(index=y_column, columns=column, aggfunc='size', fill_value=0).reset_index()\n",
    "\n",
    "    # 7. Merge the pivot table with the original DataFrame\n",
    "    dataset_processed_genre = pd.merge(dataset_processed_genre, pivot_table, on=y_column, how='left')\n",
    "    dataset_processed_genre.drop(columns=[column], inplace=True)\n",
    "\n",
    "    # 8. Checking the dataset shape\n",
    "    return dataset_processed_genre\n",
    "    #print('-----------------------------')\n",
    "    #print(f'Current number of columns: {dataset_processed_genre.shape[1]}')\n",
    "    #print(f'Current number of rows: {dataset_processed_genre.shape[0]}')\n",
    "    \n",
    "    \n",
    "new_dataset =  one_hot_encoding_dummy(\"Country_of_origin\", \", \", dataset_processed_1, \"Title\" )"
   ]
  },
  {
   "cell_type": "code",
   "execution_count": null,
   "metadata": {},
   "outputs": [],
   "source": []
  },
  {
   "cell_type": "code",
   "execution_count": null,
   "metadata": {},
   "outputs": [],
   "source": []
  },
  {
   "cell_type": "code",
   "execution_count": null,
   "metadata": {},
   "outputs": [],
   "source": [
    "# new_dataset2.to_csv('C:/zlatte1/my_data2.csv', index=False)"
   ]
  },
  {
   "cell_type": "markdown",
   "metadata": {},
   "source": [
    "# One-Hot Encoding Director & actors/actresses"
   ]
  },
  {
   "cell_type": "code",
   "execution_count": null,
   "metadata": {},
   "outputs": [],
   "source": [
    "def one_hot_encoding_bin(orginal_column, new_column_name, seperator, file_location):\n",
    "    # 1. Only keeping the first director\n",
    "    my_list = orginal_column.split(',')\n",
    "    \n",
    "    print(my_list)\n",
    "   \n",
    "    #dataset_processed_1[new_column_name] = dataset_processed_1[orginal_column].str.split(seperator).str[0]\n",
    "\n",
    "    \n",
    "    #dataset_processed_1.drop(columns=[orginal_column], inplace=True)\n",
    "\n",
    "   \n",
    "    #dataset_directors = pd.read_csv(file_location)\n",
    "\n",
    "    \n",
    "    #replace = dataset_processed_1[new_column_name].isin(dataset_directors['Name'])\n",
    "    #dataset_processed_1[new_column_name] = replace.astype(int)\n",
    "\n",
    "    \n",
    "    #return dataset_processed_1\n",
    "    \n",
    "\n",
    "dataset_director = one_hot_encoding_bin(\"Directors\", \"Top_50_Director\", \", \", \"top_50_directors.csv\")  "
   ]
  },
  {
   "cell_type": "code",
   "execution_count": null,
   "metadata": {},
   "outputs": [],
   "source": [
    "dataset_director.head(2)"
   ]
  },
  {
   "cell_type": "code",
   "execution_count": null,
   "metadata": {},
   "outputs": [],
   "source": [
    "#print(dataset_director['Certificate'].unique())"
   ]
  },
  {
   "cell_type": "code",
   "execution_count": null,
   "metadata": {},
   "outputs": [],
   "source": [
    "dataset_director_actors = one_hot_encoding_bin(\"Stars\", \"Star_top_1000\", \", \", \"top_1000_actors.csv\") "
   ]
  },
  {
   "cell_type": "code",
   "execution_count": null,
   "metadata": {},
   "outputs": [],
   "source": [
    "dataset_director_actors.head(2)"
   ]
  },
  {
   "cell_type": "code",
   "execution_count": null,
   "metadata": {},
   "outputs": [],
   "source": [
    "#dataset_director_actors.to_csv('C:/zlatte1/my_data3.csv', index=False)"
   ]
  },
  {
   "cell_type": "code",
   "execution_count": null,
   "metadata": {},
   "outputs": [],
   "source": []
  },
  {
   "cell_type": "code",
   "execution_count": null,
   "metadata": {},
   "outputs": [],
   "source": []
  },
  {
   "cell_type": "code",
   "execution_count": null,
   "metadata": {},
   "outputs": [],
   "source": []
  },
  {
   "cell_type": "code",
   "execution_count": null,
   "metadata": {},
   "outputs": [],
   "source": []
  },
  {
   "cell_type": "code",
   "execution_count": null,
   "metadata": {},
   "outputs": [],
   "source": [
    "def one_hot_encoding_bin_multi(orginal_column, new_column_name, seperator, file_location):\n",
    "    new_list = []\n",
    "    dataset_processed_1[new_column_name] = dataset_processed_1[orginal_column].str.split(seperator).str[0]\n",
    "\n",
    "    # 2. Dropping the original column\n",
    "    dataset_processed_1.drop(columns=[orginal_column], inplace=True)\n",
    "\n",
    "    # 1. Importing top directors dataset\n",
    "    dataset_directors = pd.read_csv(file_location)\n",
    "\n",
    "    # 2. If Director is in dataset_directors, replace name with 1\n",
    "    # else replace name with 0\n",
    "    replace = (dataset_processed_1[new_column_name].isin(dataset_directors['Name'])).astype(int).replace(0, '0')\n",
    "    dataset_processed_1[new_column_name] = replace.astype(int)\n",
    "\n",
    "    # 3. Check the updated table\n",
    "    return dataset_processed_1\n",
    "    #print(f'Number of top 50 directors in dataset: {(dataset_processed_1[\"Top_50_Director\"] == 1).astype(int).sum()}')\n",
    "\n",
    "dataset_director = one_hot_encoding_bin_multi(\"Directors\", \"Top_50_Director\", \", \", \"top_50_directors.csv\")  "
   ]
  },
  {
   "cell_type": "code",
   "execution_count": 12,
   "metadata": {},
   "outputs": [
    {
     "data": {
      "text/html": [
       "<div>\n",
       "<style scoped>\n",
       "    .dataframe tbody tr th:only-of-type {\n",
       "        vertical-align: middle;\n",
       "    }\n",
       "\n",
       "    .dataframe tbody tr th {\n",
       "        vertical-align: top;\n",
       "    }\n",
       "\n",
       "    .dataframe thead th {\n",
       "        text-align: right;\n",
       "    }\n",
       "</style>\n",
       "<table border=\"1\" class=\"dataframe\">\n",
       "  <thead>\n",
       "    <tr style=\"text-align: right;\">\n",
       "      <th></th>\n",
       "      <th>Title</th>\n",
       "      <th>Rating</th>\n",
       "      <th>Year</th>\n",
       "      <th>Month</th>\n",
       "      <th>Certificate</th>\n",
       "      <th>Runtime</th>\n",
       "      <th>Directors</th>\n",
       "      <th>Stars</th>\n",
       "      <th>Genre</th>\n",
       "      <th>Filming_location</th>\n",
       "      <th>Budget</th>\n",
       "      <th>Income</th>\n",
       "      <th>Country_of_origin</th>\n",
       "    </tr>\n",
       "  </thead>\n",
       "  <tbody>\n",
       "    <tr>\n",
       "      <th>0</th>\n",
       "      <td>Avatar: The Way of Water</td>\n",
       "      <td>7.8</td>\n",
       "      <td>2022</td>\n",
       "      <td>December</td>\n",
       "      <td>PG-13</td>\n",
       "      <td>192</td>\n",
       "      <td>James Cameron</td>\n",
       "      <td>Sam Worthington, Zoe Saldana, Sigourney Weaver...</td>\n",
       "      <td>Action, Adventure, Fantasy</td>\n",
       "      <td>New Zealand</td>\n",
       "      <td>350000000.0</td>\n",
       "      <td>2.267947e+09</td>\n",
       "      <td>United States</td>\n",
       "    </tr>\n",
       "    <tr>\n",
       "      <th>1</th>\n",
       "      <td>Guillermo del Toro's Pinocchio</td>\n",
       "      <td>7.6</td>\n",
       "      <td>2022</td>\n",
       "      <td>December</td>\n",
       "      <td>PG</td>\n",
       "      <td>117</td>\n",
       "      <td>Guillermo del Toro, Mark Gustafson</td>\n",
       "      <td>Ewan McGregor, David Bradley, Gregory Mann, Bu...</td>\n",
       "      <td>Animation, Drama, Family</td>\n",
       "      <td>USA</td>\n",
       "      <td>35000000.0</td>\n",
       "      <td>1.089670e+05</td>\n",
       "      <td>United States, Mexico, France</td>\n",
       "    </tr>\n",
       "  </tbody>\n",
       "</table>\n",
       "</div>"
      ],
      "text/plain": [
       "                            Title  Rating  Year     Month Certificate Runtime  \\\n",
       "0        Avatar: The Way of Water     7.8  2022  December       PG-13     192   \n",
       "1  Guillermo del Toro's Pinocchio     7.6  2022  December          PG     117   \n",
       "\n",
       "                            Directors  \\\n",
       "0                       James Cameron   \n",
       "1  Guillermo del Toro, Mark Gustafson   \n",
       "\n",
       "                                               Stars  \\\n",
       "0  Sam Worthington, Zoe Saldana, Sigourney Weaver...   \n",
       "1  Ewan McGregor, David Bradley, Gregory Mann, Bu...   \n",
       "\n",
       "                        Genre Filming_location       Budget        Income  \\\n",
       "0  Action, Adventure, Fantasy      New Zealand  350000000.0  2.267947e+09   \n",
       "1    Animation, Drama, Family              USA   35000000.0  1.089670e+05   \n",
       "\n",
       "               Country_of_origin  \n",
       "0                  United States  \n",
       "1  United States, Mexico, France  "
      ]
     },
     "execution_count": 12,
     "metadata": {},
     "output_type": "execute_result"
    }
   ],
   "source": [
    "dataset_processed_1.head(2)"
   ]
  },
  {
   "cell_type": "code",
   "execution_count": 13,
   "metadata": {},
   "outputs": [
    {
     "ename": "TypeError",
     "evalue": "arg must be a list, tuple, 1-d array, or Series",
     "output_type": "error",
     "traceback": [
      "\u001b[1;31m---------------------------------------------------------------------------\u001b[0m",
      "\u001b[1;31mTypeError\u001b[0m                                 Traceback (most recent call last)",
      "\u001b[1;32m~\\AppData\\Local\\Temp\\ipykernel_12200\\4124208363.py\u001b[0m in \u001b[0;36m<module>\u001b[1;34m\u001b[0m\n\u001b[0;32m     20\u001b[0m     \u001b[1;31m#print(f'Number of top 50 directors in dataset: {(dataset_processed_1[\"Top_50_Director\"] == 1).astype(int).sum()}')\u001b[0m\u001b[1;33m\u001b[0m\u001b[1;33m\u001b[0m\u001b[1;33m\u001b[0m\u001b[0m\n\u001b[0;32m     21\u001b[0m \u001b[1;33m\u001b[0m\u001b[0m\n\u001b[1;32m---> 22\u001b[1;33m \u001b[0mdataset_director\u001b[0m \u001b[1;33m=\u001b[0m \u001b[0mone_hot_encoding_bin_multi\u001b[0m\u001b[1;33m(\u001b[0m\u001b[0mdataset_processed_1\u001b[0m\u001b[1;33m,\u001b[0m \u001b[1;34m\"Stars\"\u001b[0m\u001b[1;33m,\u001b[0m \u001b[1;34m\"Star_top_1000\"\u001b[0m\u001b[1;33m,\u001b[0m \u001b[1;34m\", \"\u001b[0m\u001b[1;33m,\u001b[0m \u001b[1;34m\"top_1000_actors.csv\"\u001b[0m\u001b[1;33m)\u001b[0m\u001b[1;33m\u001b[0m\u001b[1;33m\u001b[0m\u001b[0m\n\u001b[0m",
      "\u001b[1;32m~\\AppData\\Local\\Temp\\ipykernel_12200\\4124208363.py\u001b[0m in \u001b[0;36mone_hot_encoding_bin_multi\u001b[1;34m(dataset, orginal_column, new_column_name, seperator, file_location)\u001b[0m\n\u001b[0;32m     12\u001b[0m     \u001b[1;31m# else replace name with 0\u001b[0m\u001b[1;33m\u001b[0m\u001b[1;33m\u001b[0m\u001b[1;33m\u001b[0m\u001b[0m\n\u001b[0;32m     13\u001b[0m     \u001b[0mnew_column\u001b[0m \u001b[1;33m=\u001b[0m \u001b[0mdataset\u001b[0m\u001b[1;33m[\u001b[0m\u001b[0mnew_column_name\u001b[0m\u001b[1;33m]\u001b[0m\u001b[1;33m.\u001b[0m\u001b[0mstr\u001b[0m\u001b[1;33m.\u001b[0m\u001b[0mextract\u001b[0m\u001b[1;33m(\u001b[0m\u001b[1;34m'(\\d+)'\u001b[0m\u001b[1;33m)\u001b[0m\u001b[1;33m\u001b[0m\u001b[1;33m\u001b[0m\u001b[0m\n\u001b[1;32m---> 14\u001b[1;33m     \u001b[0mreplace\u001b[0m \u001b[1;33m=\u001b[0m \u001b[0mpd\u001b[0m\u001b[1;33m.\u001b[0m\u001b[0mto_numeric\u001b[0m\u001b[1;33m(\u001b[0m\u001b[0mnew_column\u001b[0m\u001b[1;33m,\u001b[0m \u001b[0merrors\u001b[0m\u001b[1;33m=\u001b[0m\u001b[1;34m'coerce'\u001b[0m\u001b[1;33m)\u001b[0m\u001b[1;33m\u001b[0m\u001b[1;33m\u001b[0m\u001b[0m\n\u001b[0m\u001b[0;32m     15\u001b[0m     \u001b[0mreplace\u001b[0m \u001b[1;33m=\u001b[0m \u001b[0mpd\u001b[0m\u001b[1;33m.\u001b[0m\u001b[0mcut\u001b[0m\u001b[1;33m(\u001b[0m\u001b[0mreplace\u001b[0m\u001b[1;33m,\u001b[0m \u001b[0mbins\u001b[0m\u001b[1;33m=\u001b[0m\u001b[1;33m[\u001b[0m\u001b[1;36m0\u001b[0m\u001b[1;33m,\u001b[0m \u001b[1;36m100\u001b[0m\u001b[1;33m,\u001b[0m \u001b[1;36m250\u001b[0m\u001b[1;33m,\u001b[0m \u001b[1;36m1000\u001b[0m\u001b[1;33m,\u001b[0m \u001b[0mnp\u001b[0m\u001b[1;33m.\u001b[0m\u001b[0minf\u001b[0m\u001b[1;33m]\u001b[0m\u001b[1;33m,\u001b[0m \u001b[0mlabels\u001b[0m\u001b[1;33m=\u001b[0m\u001b[1;33m[\u001b[0m\u001b[1;36m1\u001b[0m\u001b[1;33m,\u001b[0m \u001b[1;36m2\u001b[0m\u001b[1;33m,\u001b[0m \u001b[1;36m3\u001b[0m\u001b[1;33m,\u001b[0m \u001b[1;36m4\u001b[0m\u001b[1;33m]\u001b[0m\u001b[1;33m)\u001b[0m\u001b[1;33m.\u001b[0m\u001b[0mfillna\u001b[0m\u001b[1;33m(\u001b[0m\u001b[1;36m4\u001b[0m\u001b[1;33m)\u001b[0m\u001b[1;33m\u001b[0m\u001b[1;33m\u001b[0m\u001b[0m\n\u001b[0;32m     16\u001b[0m     \u001b[0mdataset\u001b[0m\u001b[1;33m[\u001b[0m\u001b[0mnew_column_name\u001b[0m\u001b[1;33m]\u001b[0m \u001b[1;33m=\u001b[0m \u001b[0mreplace\u001b[0m\u001b[1;33m.\u001b[0m\u001b[0mastype\u001b[0m\u001b[1;33m(\u001b[0m\u001b[0mint\u001b[0m\u001b[1;33m)\u001b[0m\u001b[1;33m\u001b[0m\u001b[1;33m\u001b[0m\u001b[0m\n",
      "\u001b[1;32m~\\anaconda3\\envs\\new_python_3_7_15\\lib\\site-packages\\pandas\\core\\tools\\numeric.py\u001b[0m in \u001b[0;36mto_numeric\u001b[1;34m(arg, errors, downcast)\u001b[0m\n\u001b[0;32m    161\u001b[0m         \u001b[0mvalues\u001b[0m \u001b[1;33m=\u001b[0m \u001b[0mnp\u001b[0m\u001b[1;33m.\u001b[0m\u001b[0marray\u001b[0m\u001b[1;33m(\u001b[0m\u001b[1;33m[\u001b[0m\u001b[0marg\u001b[0m\u001b[1;33m]\u001b[0m\u001b[1;33m,\u001b[0m \u001b[0mdtype\u001b[0m\u001b[1;33m=\u001b[0m\u001b[1;34m\"O\"\u001b[0m\u001b[1;33m)\u001b[0m\u001b[1;33m\u001b[0m\u001b[1;33m\u001b[0m\u001b[0m\n\u001b[0;32m    162\u001b[0m     \u001b[1;32melif\u001b[0m \u001b[0mgetattr\u001b[0m\u001b[1;33m(\u001b[0m\u001b[0marg\u001b[0m\u001b[1;33m,\u001b[0m \u001b[1;34m\"ndim\"\u001b[0m\u001b[1;33m,\u001b[0m \u001b[1;36m1\u001b[0m\u001b[1;33m)\u001b[0m \u001b[1;33m>\u001b[0m \u001b[1;36m1\u001b[0m\u001b[1;33m:\u001b[0m\u001b[1;33m\u001b[0m\u001b[1;33m\u001b[0m\u001b[0m\n\u001b[1;32m--> 163\u001b[1;33m         \u001b[1;32mraise\u001b[0m \u001b[0mTypeError\u001b[0m\u001b[1;33m(\u001b[0m\u001b[1;34m\"arg must be a list, tuple, 1-d array, or Series\"\u001b[0m\u001b[1;33m)\u001b[0m\u001b[1;33m\u001b[0m\u001b[1;33m\u001b[0m\u001b[0m\n\u001b[0m\u001b[0;32m    164\u001b[0m     \u001b[1;32melse\u001b[0m\u001b[1;33m:\u001b[0m\u001b[1;33m\u001b[0m\u001b[1;33m\u001b[0m\u001b[0m\n\u001b[0;32m    165\u001b[0m         \u001b[0mvalues\u001b[0m \u001b[1;33m=\u001b[0m \u001b[0marg\u001b[0m\u001b[1;33m\u001b[0m\u001b[1;33m\u001b[0m\u001b[0m\n",
      "\u001b[1;31mTypeError\u001b[0m: arg must be a list, tuple, 1-d array, or Series"
     ]
    }
   ],
   "source": [
    "def one_hot_encoding_bin_multi(dataset, orginal_column, new_column_name, seperator, file_location):\n",
    "    new_list = []\n",
    "    dataset[new_column_name] = dataset[orginal_column].str.split(seperator).str[0]\n",
    "\n",
    "    # 2. Dropping the original column\n",
    "    dataset.drop(columns=[orginal_column], inplace=True)\n",
    "\n",
    "    # 1. Importing top directors dataset\n",
    "    dataset_directors = pd.read_csv(file_location)\n",
    "\n",
    "    # 2. If Director is in dataset_directors, replace name with 1\n",
    "    # else replace name with 0\n",
    "    new_column = dataset[new_column_name].str.extract('(\\d+)')\n",
    "    replace = pd.to_numeric(new_column, errors='coerce')\n",
    "    replace = pd.cut(replace, bins=[0, 100, 250, 1000, np.inf], labels=[1, 2, 3, 4]).fillna(4)\n",
    "    dataset[new_column_name] = replace.astype(int)\n",
    "\n",
    "    # 3. Check the updated table\n",
    "    return dataset\n",
    "    #print(f'Number of top 50 directors in dataset: {(dataset_processed_1[\"Top_50_Director\"] == 1).astype(int).sum()}')\n",
    "\n",
    "dataset_director = one_hot_encoding_bin_multi(dataset_processed_1, \"Stars\", \"Star_top_1000\", \", \", \"top_1000_actors.csv\")  "
   ]
  },
  {
   "cell_type": "code",
   "execution_count": null,
   "metadata": {},
   "outputs": [],
   "source": []
  }
 ],
 "metadata": {
  "kernelspec": {
   "display_name": "Python 3 (ipykernel)",
   "language": "python",
   "name": "python3"
  },
  "language_info": {
   "codemirror_mode": {
    "name": "ipython",
    "version": 3
   },
   "file_extension": ".py",
   "mimetype": "text/x-python",
   "name": "python",
   "nbconvert_exporter": "python",
   "pygments_lexer": "ipython3",
   "version": "3.7.15"
  },
  "vscode": {
   "interpreter": {
    "hash": "c0de92a10c1f65e53f9acff1f0bafd09b320a4aed9d91aa143eea6431dc87452"
   }
  }
 },
 "nbformat": 4,
 "nbformat_minor": 2
}
